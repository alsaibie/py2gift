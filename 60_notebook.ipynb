{
 "cells": [
  {
   "cell_type": "code",
   "execution_count": null,
   "metadata": {},
   "outputs": [],
   "source": [
    "# default_exp notebook"
   ]
  },
  {
   "cell_type": "markdown",
   "metadata": {},
   "source": [
    "# Notebook\n",
    "\n",
    "> Functions to use `py2gift` from a Jupyter notebook."
   ]
  },
  {
   "cell_type": "code",
   "execution_count": null,
   "metadata": {},
   "outputs": [],
   "source": [
    "# export\n",
    "\n",
    "import argparse\n",
    "\n",
    "from IPython.core.magic import Magics, magics_class, line_magic, cell_magic, line_cell_magic\n",
    "\n",
    "import py2gift.input_file"
   ]
  },
  {
   "cell_type": "markdown",
   "metadata": {},
   "source": [
    "# Convenience functions"
   ]
  },
  {
   "cell_type": "markdown",
   "metadata": {},
   "source": [
    "A class to act as a *container*. This will be useful to simulate a *Python* module."
   ]
  },
  {
   "cell_type": "code",
   "execution_count": null,
   "metadata": {},
   "outputs": [],
   "source": [
    "# export\n",
    "\n",
    "class ClassesContainer:\n",
    "    \n",
    "    def add(cls, class_to_add):\n",
    "        \n",
    "        setattr(cls, class_to_add.__name__, class_to_add)"
   ]
  },
  {
   "cell_type": "code",
   "execution_count": null,
   "metadata": {},
   "outputs": [],
   "source": [
    "classes_container = ClassesContainer()"
   ]
  },
  {
   "cell_type": "code",
   "execution_count": null,
   "metadata": {},
   "outputs": [],
   "source": [
    "class DummyClass:\n",
    "    \n",
    "    n = 3"
   ]
  },
  {
   "cell_type": "code",
   "execution_count": null,
   "metadata": {},
   "outputs": [],
   "source": [
    "classes_container.add(DummyClass)"
   ]
  },
  {
   "cell_type": "code",
   "execution_count": null,
   "metadata": {},
   "outputs": [],
   "source": [
    "classes_container.DummyClass"
   ]
  },
  {
   "cell_type": "code",
   "execution_count": null,
   "metadata": {},
   "outputs": [],
   "source": [
    "classes_container.DummyClass.n"
   ]
  },
  {
   "cell_type": "markdown",
   "metadata": {},
   "source": [
    "# Magics"
   ]
  },
  {
   "cell_type": "code",
   "execution_count": null,
   "metadata": {},
   "outputs": [],
   "source": [
    "# export\n",
    "\n",
    "# The class MUST call this class decorator at creation time\n",
    "@magics_class\n",
    "class MyMagics(Magics):\n",
    "    \n",
    "    statement_key = 'statement'\n",
    "    feedback_key = 'feedback'\n",
    "    \n",
    "    def __init__(self, shell=None,  **kwargs):\n",
    "        \n",
    "        super().__init__(shell=shell, **kwargs)\n",
    "        \n",
    "#         self.parser = argparse.ArgumentParser(description='write settings')\n",
    "#         self.parser.add_argument('-n', '--name')\n",
    "        \n",
    "        self.location_parser = argparse.ArgumentParser(description='Specification')\n",
    "        self.location_parser.add_argument('settings', help='settings variable (dictionary)')\n",
    "    \n",
    "#     def process(self, line, cell, variable):\n",
    "    def process(self, line, cell, key):\n",
    "        \n",
    "        line_arguments = self.location_parser.parse_args(line.split())\n",
    "        \n",
    "        self.shell.user_ns[line_arguments.settings].store['categories'][-1]['classes'][-1][key] = cell\n",
    "        \n",
    "#         print(line_arguments)        \n",
    "\n",
    "#     @line_magic\n",
    "#     def lmagic(self, line):\n",
    "        \n",
    "#         \"my line magic\"\n",
    "#         print(\"Full access to the main IPython object:\", self.shell)\n",
    "#         print(\"Variables in the user namespace:\", list(self.shell.user_ns.keys()))\n",
    "        \n",
    "#         line_arguments = self.parser.parse_args(line.split())\n",
    "#         print(line_arguments)\n",
    "        \n",
    "#         return line\n",
    "\n",
    "    @cell_magic\n",
    "    def statement(self, line, cell):\n",
    "\n",
    "        self.process(line, cell, self.statement_key)\n",
    "        \n",
    "        return f'statement recorded'\n",
    "    \n",
    "    @cell_magic\n",
    "    def feedback(self, line, cell):\n",
    "        \n",
    "        self.process(line, cell, self.feedback_key)\n",
    "        \n",
    "        return f'feedback recorded'\n",
    "\n",
    "#     @line_cell_magic\n",
    "#     def lcmagic(self, line, cell=None):\n",
    "        \n",
    "#         \"Magic that works both as %lcmagic and as %%lcmagic\"\n",
    "#         if cell is None:\n",
    "#             print(\"Called as line magic\")\n",
    "#             return line\n",
    "#         else:\n",
    "#             print(\"Called as cell magic\")\n",
    "#             return line, cell"
   ]
  },
  {
   "cell_type": "markdown",
   "metadata": {},
   "source": [
    "*Magics* must be somehow registered"
   ]
  },
  {
   "cell_type": "code",
   "execution_count": null,
   "metadata": {},
   "outputs": [],
   "source": [
    "# export\n",
    "\n",
    "get_ipython().register_magics(MyMagics)"
   ]
  },
  {
   "cell_type": "code",
   "execution_count": null,
   "metadata": {},
   "outputs": [],
   "source": [
    "# %lmagic -n foo"
   ]
  },
  {
   "cell_type": "code",
   "execution_count": null,
   "metadata": {},
   "outputs": [],
   "source": [
    "settings = py2gift.input_file.Settings('out.yaml', 'pics')\n",
    "settings.set_class_preamble('Category 1')\n",
    "settings.set_class(class_name='question name', question_base_name='base name', n_instances=2)"
   ]
  },
  {
   "cell_type": "code",
   "execution_count": null,
   "metadata": {},
   "outputs": [],
   "source": [
    "settings.to_dict()"
   ]
  },
  {
   "cell_type": "code",
   "execution_count": null,
   "metadata": {},
   "outputs": [],
   "source": [
    "%%statement settings\n",
    "Consider\n",
    "\n",
    "bla bla"
   ]
  },
  {
   "cell_type": "code",
   "execution_count": null,
   "metadata": {},
   "outputs": [],
   "source": [
    "settings"
   ]
  },
  {
   "cell_type": "code",
   "execution_count": null,
   "metadata": {},
   "outputs": [],
   "source": [
    "%%feedback  settings\n",
    "We must..."
   ]
  },
  {
   "cell_type": "code",
   "execution_count": null,
   "metadata": {},
   "outputs": [],
   "source": [
    "settings"
   ]
  },
  {
   "cell_type": "code",
   "execution_count": null,
   "metadata": {},
   "outputs": [],
   "source": [
    "# hide\n",
    "\n",
    "import nbdev.export\n",
    "nbdev.export.notebook2script('60_notebook.ipynb')"
   ]
  }
 ],
 "metadata": {
  "kernelspec": {
   "display_name": "Python 3",
   "language": "python",
   "name": "python3"
  }
 },
 "nbformat": 4,
 "nbformat_minor": 4
}
