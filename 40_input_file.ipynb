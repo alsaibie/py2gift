{
 "cells": [
  {
   "cell_type": "code",
   "execution_count": null,
   "metadata": {},
   "outputs": [],
   "source": [
    "# default_exp input_file"
   ]
  },
  {
   "cell_type": "markdown",
   "metadata": {},
   "source": [
    "# Input file\n",
    "\n",
    "> Convenience function to construct the input file required by py2gift."
   ]
  },
  {
   "cell_type": "code",
   "execution_count": null,
   "metadata": {},
   "outputs": [],
   "source": [
    "# export\n",
    "\n",
    "import pathlib\n",
    "from typing import Union, Optional, Callable\n",
    "\n",
    "import py2gift.util\n",
    "\n",
    "import yaml"
   ]
  },
  {
   "cell_type": "code",
   "execution_count": null,
   "metadata": {},
   "outputs": [],
   "source": [
    "test_file = '_input_.yaml'"
   ]
  },
  {
   "cell_type": "markdown",
   "metadata": {},
   "source": [
    "# Reading"
   ]
  },
  {
   "cell_type": "markdown",
   "metadata": {},
   "source": [
    "Code to parse input files."
   ]
  },
  {
   "cell_type": "markdown",
   "metadata": {},
   "source": [
    "### `extract_class_settings`"
   ]
  },
  {
   "cell_type": "code",
   "execution_count": null,
   "metadata": {},
   "outputs": [],
   "source": [
    "# export\n",
    "\n",
    "def extract_class_settings(category_name: Union[str, list], class_name: str, settings: dict):\n",
    "    \n",
    "    category_found = False\n",
    "    \n",
    "    for cat in settings['categories']:\n",
    "        \n",
    "        if cat['name'] == category_name:\n",
    "            \n",
    "            category_found = True\n",
    "            \n",
    "            for cls in cat['classes']:\n",
    "                \n",
    "                if cls['name'] == class_name:\n",
    "                    \n",
    "                    return cls\n",
    "    \n",
    "    else:\n",
    "        \n",
    "        if category_found:\n",
    "            \n",
    "            print(f'cannot find the requested class, {class_name}')\n",
    "            sys.exit(1)\n",
    "        \n",
    "        else:\n",
    "            \n",
    "            print(f'cannot find the requested category, {category_name}')\n",
    "            sys.exit(1)"
   ]
  },
  {
   "cell_type": "code",
   "execution_count": null,
   "metadata": {},
   "outputs": [],
   "source": [
    "%%writefile {test_file}\n",
    "\n",
    "output file: third_midterm.yaml\n",
    "pictures base directory: tc/midterm3\n",
    "path to gift-wrapper: '~/gift-wrapper/wrap.py'\n",
    "\n",
    "categories:\n",
    "\n",
    "  - name: Entropy of the input given the output\n",
    "\n",
    "    classes:\n",
    "\n",
    "      - name: EntropyOfInputGivenOutput\n",
    "\n",
    "        question base name: Entropy of input given the output\n",
    "        \n",
    "        init parameters:\n",
    "            \n",
    "            picture_file: DMCs/entropy_at_input_given_output.tex\n",
    "\n",
    "        statement: |\n",
    "          Consider...\n",
    "          \n",
    "\n",
    "        feedback: |\n",
    "          One way of tackling the problem is...\n",
    "          \n",
    "\n",
    "        number of instances: 2\n"
   ]
  },
  {
   "cell_type": "code",
   "execution_count": null,
   "metadata": {},
   "outputs": [],
   "source": [
    "with open(test_file) as yaml_data:\n",
    "\n",
    "    settings = yaml.load(yaml_data, Loader=yaml.FullLoader)\n",
    "\n",
    "extract_class_settings('Entropy of the input given the output', 'EntropyOfInputGivenOutput', settings)"
   ]
  },
  {
   "cell_type": "markdown",
   "metadata": {},
   "source": [
    "# In-memory *input file*"
   ]
  },
  {
   "cell_type": "code",
   "execution_count": null,
   "metadata": {},
   "outputs": [],
   "source": [
    "# export\n",
    "\n",
    "def initialize(output_file: str, pictures_directory: str, ) -> dict:\n",
    "    \n",
    "    settings = {}\n",
    "    \n",
    "    settings['output file'] = output_file\n",
    "    settings['pictures base directory'] = pictures_directory\n",
    "    settings['path to gift-wrapper'] = '~/gift-wrapper/wrap.py'\n",
    "    settings['categories'] = None\n",
    "    \n",
    "    return settings"
   ]
  },
  {
   "cell_type": "code",
   "execution_count": null,
   "metadata": {},
   "outputs": [],
   "source": [
    "settings_dict = initialize(output_file='quiz.yaml', pictures_directory='quiz/pics')"
   ]
  },
  {
   "cell_type": "code",
   "execution_count": null,
   "metadata": {},
   "outputs": [],
   "source": [
    "# export\n",
    "\n",
    "def set_class_preamble(settings: dict, category_name: str, base_category: Optional[str] = None, test_mode: bool = False) -> Union[str, list]:\n",
    "    \n",
    "    if test_mode:\n",
    "\n",
    "        category_name = 'test'\n",
    "\n",
    "    else:\n",
    "\n",
    "        if base_category:\n",
    "\n",
    "            category_name = [base_category, f'{base_category}/{category_name}']\n",
    "    \n",
    "    \n",
    "    if settings['categories'] is None:\n",
    "        \n",
    "        settings['categories'] = []\n",
    "        \n",
    "    settings['categories'].append({'name': category_name, 'classes': None})\n",
    "    \n",
    "    return category_name"
   ]
  },
  {
   "cell_type": "code",
   "execution_count": null,
   "metadata": {},
   "outputs": [],
   "source": [
    "set_class_preamble(settings_dict, 'Test category')\n",
    "settings_dict"
   ]
  },
  {
   "cell_type": "code",
   "execution_count": null,
   "metadata": {},
   "outputs": [],
   "source": [
    "# export\n",
    "\n",
    "def set_class_closing(settings: dict, n_instances: int, time: Optional[int] = None) -> None:\n",
    "    \n",
    "    if settings['categories'][-1]['classes'] is None:\n",
    "        \n",
    "        settings['categories'][-1]['classes'] = [{}]\n",
    "    \n",
    "    settings['categories'][-1]['classes'][-1]['number of instances'] = n_instances\n",
    "    settings['categories'][-1]['classes'][-1]['time'] = time"
   ]
  },
  {
   "cell_type": "code",
   "execution_count": null,
   "metadata": {},
   "outputs": [],
   "source": [
    "set_class_closing(settings_dict, 2, 15)\n",
    "settings_dict"
   ]
  },
  {
   "cell_type": "markdown",
   "metadata": {},
   "source": [
    "# Writing"
   ]
  },
  {
   "cell_type": "markdown",
   "metadata": {},
   "source": [
    "Code to write input files."
   ]
  },
  {
   "cell_type": "markdown",
   "metadata": {},
   "source": [
    "## Header"
   ]
  },
  {
   "cell_type": "markdown",
   "metadata": {},
   "source": [
    "A function to write the header of the file.\n",
    "* `file`: name of the input file to be created"
   ]
  },
  {
   "cell_type": "code",
   "execution_count": null,
   "metadata": {},
   "outputs": [],
   "source": [
    "# export\n",
    "\n",
    "def write_header(file: Union[str, pathlib.Path], output_file: str, pictures_directory: str, ) -> None:\n",
    "    \n",
    "    settings = initialize(output_file, pictures_directory)\n",
    "    \n",
    "    py2gift.util.dict_to_yaml(settings, file)\n",
    "    \n",
    "#     with open(file, 'w') as f:\n",
    "        \n",
    "#         f.write(f'output file: {output_file}\\n')\n",
    "#         f.write(f'pictures base directory: {pictures_directory}\\n')\n",
    "#         f.write(\"path to gift-wrapper: '~/gift-wrapper/wrap.py'\\n\")\n",
    "#         f.write('\\n')\n",
    "        \n",
    "#         f.write('categories:\\n')"
   ]
  },
  {
   "cell_type": "code",
   "execution_count": null,
   "metadata": {},
   "outputs": [],
   "source": [
    "write_header(test_file, output_file='quiz.yaml', pictures_directory='quiz/pics')"
   ]
  },
  {
   "cell_type": "code",
   "execution_count": null,
   "metadata": {},
   "outputs": [],
   "source": [
    "%cat {test_file}"
   ]
  },
  {
   "cell_type": "markdown",
   "metadata": {},
   "source": [
    "## Class"
   ]
  },
  {
   "cell_type": "markdown",
   "metadata": {},
   "source": [
    "### `write_class_preamble`"
   ]
  },
  {
   "cell_type": "markdown",
   "metadata": {},
   "source": [
    "A function to write the preamble for a class which includes the name of the category. Strictly speaking, it's not necessary to create a new category every time a class is added, but this is more general and a category can show up many times in the input file.\n",
    "* `file`: name of the input file to be *appended to*\n",
    "* `category_name`: name of the category in which the class will be encompassed\n",
    "* `base_category`: a parent category for `category_name` (optional)\n",
    "* `test_mode`: if `True`, the last two parameters are overriden and the category is simply called `test`\n",
    "\n",
    "For convenience, the final `category_name` (notice that it might get tweaked because of the other parameters) is returned."
   ]
  },
  {
   "cell_type": "code",
   "execution_count": null,
   "metadata": {},
   "outputs": [],
   "source": [
    "# export\n",
    "\n",
    "def write_class_preamble(file: Union[str, pathlib.Path], category_name: str, base_category: Optional[str] = None, test_mode: bool = False) -> Union[str, list]:\n",
    "    \n",
    "    \n",
    "    settings = py2gift.util.yaml_to_dict(file)\n",
    "    category_name = set_class_preamble(settings, category_name, base_category, test_mode)\n",
    "    py2gift.util.dict_to_yaml(settings, file)\n",
    "\n",
    "#     # file is *appended* (not overwritten)\n",
    "#     with open(file, 'a') as f:\n",
    "\n",
    "#         f.write('\\n')\n",
    "        \n",
    "#         if test_mode:\n",
    "            \n",
    "#             category_name = 'test'\n",
    "        \n",
    "#         else:\n",
    "        \n",
    "#             if base_category:\n",
    "\n",
    "#                 category_name = [base_category, f'{base_category}/{category_name}']\n",
    "        \n",
    "#         f.write(f'  - name: {category_name}\\n\\n')\n",
    "#         f.write('    classes:\\n')\n",
    "    \n",
    "    return category_name"
   ]
  },
  {
   "cell_type": "code",
   "execution_count": null,
   "metadata": {},
   "outputs": [],
   "source": [
    "write_class_preamble(test_file, 'Test category')"
   ]
  },
  {
   "cell_type": "code",
   "execution_count": null,
   "metadata": {},
   "outputs": [],
   "source": [
    "%cat {test_file}"
   ]
  },
  {
   "cell_type": "markdown",
   "metadata": {},
   "source": [
    "Parameter `base_category` allows to create hierarchical categories"
   ]
  },
  {
   "cell_type": "code",
   "execution_count": null,
   "metadata": {},
   "outputs": [],
   "source": [
    "write_header(test_file, output_file='quiz.yaml', pictures_directory='quiz/pics')\n",
    "write_class_preamble(test_file, 'Test category', base_category='base')"
   ]
  },
  {
   "cell_type": "code",
   "execution_count": null,
   "metadata": {},
   "outputs": [],
   "source": [
    "%cat {test_file}"
   ]
  },
  {
   "cell_type": "markdown",
   "metadata": {},
   "source": [
    "In `test_mode`"
   ]
  },
  {
   "cell_type": "code",
   "execution_count": null,
   "metadata": {},
   "outputs": [],
   "source": [
    "write_header(test_file, output_file='quiz.yaml', pictures_directory='quiz/pics')\n",
    "write_class_preamble(test_file, 'Test category', base_category='base', test_mode=True)"
   ]
  },
  {
   "cell_type": "code",
   "execution_count": null,
   "metadata": {},
   "outputs": [],
   "source": [
    "%cat {test_file}"
   ]
  },
  {
   "cell_type": "markdown",
   "metadata": {},
   "source": [
    "### `write_class_closing`"
   ]
  },
  {
   "cell_type": "markdown",
   "metadata": {},
   "source": [
    "A function to write the closing settings of a class.\n",
    "* `file`: name of the input file to be *appended to*\n",
    "* `n_instances`: number of questions of this class that will be created (the `setup` method of the class should be non-deterministic)\n",
    "* `time`: time in minutes (an *integer*) estimated necessary to solve the question"
   ]
  },
  {
   "cell_type": "code",
   "execution_count": null,
   "metadata": {},
   "outputs": [],
   "source": [
    "# export\n",
    "\n",
    "def write_class_closing(file: Union[str, pathlib.Path], n_instances: int, time: Optional[int] = None) -> None:\n",
    "    \n",
    "    settings = py2gift.util.yaml_to_dict(file)\n",
    "    category_name = set_class_closing(settings, n_instances, time)\n",
    "    py2gift.util.dict_to_yaml(settings, file)\n",
    "\n",
    "#     with open(file, 'a') as f:\n",
    "\n",
    "#         f.write(f'\\n        number of instances: {n_instances}')\n",
    "        \n",
    "#         if time:\n",
    "            \n",
    "#             f.write(f'\\n        time: {time}')"
   ]
  },
  {
   "cell_type": "code",
   "execution_count": null,
   "metadata": {},
   "outputs": [],
   "source": [
    "write_class_closing(test_file, 2, 15)"
   ]
  },
  {
   "cell_type": "code",
   "execution_count": null,
   "metadata": {},
   "outputs": [],
   "source": [
    "%cat {test_file}"
   ]
  },
  {
   "cell_type": "code",
   "execution_count": null,
   "metadata": {},
   "outputs": [],
   "source": [
    "!rm {test_file}"
   ]
  },
  {
   "cell_type": "code",
   "execution_count": null,
   "metadata": {},
   "outputs": [],
   "source": [
    "def write_class_closing2(file: Union[str, pathlib.Path], n_instances: int, time: Optional[int] = None) -> None:\n",
    "    \n",
    "    settings = py2gift.util.yaml_to_dict(file)\n",
    "    category_name = set_class_closing(settings, n_instances, time)\n",
    "    py2gift.util.dict_to_yaml(settings, file)"
   ]
  },
  {
   "cell_type": "code",
   "execution_count": null,
   "metadata": {},
   "outputs": [],
   "source": [
    "write_header(test_file, output_file='quiz.yaml', pictures_directory='quiz/pics')\n",
    "write_class_preamble(test_file, 'Test category', base_category='base', test_mode=True)\n",
    "write_class_closing2(test_file, 2, 15)"
   ]
  },
  {
   "cell_type": "code",
   "execution_count": null,
   "metadata": {},
   "outputs": [],
   "source": [
    "%cat {test_file}"
   ]
  },
  {
   "cell_type": "markdown",
   "metadata": {},
   "source": [
    "# Categories"
   ]
  },
  {
   "cell_type": "code",
   "execution_count": null,
   "metadata": {},
   "outputs": [],
   "source": [
    "# export\n",
    "\n",
    "def function_to_make_hierarchical_category_name(base_category: str) -> Callable[[str], list]:\n",
    "    \n",
    "    def make_subcategory(category: str) -> list:\n",
    "    \n",
    "        return [base_category, f'{base_category}/{category}']\n",
    "    \n",
    "    return make_subcategory"
   ]
  },
  {
   "cell_type": "code",
   "execution_count": null,
   "metadata": {},
   "outputs": [],
   "source": [
    "f = function_to_make_hierarchical_category_name('2020 exam')\n",
    "f('Random')"
   ]
  }
 ],
 "metadata": {
  "kernelspec": {
   "display_name": "Python 3",
   "language": "python",
   "name": "python3"
  }
 },
 "nbformat": 4,
 "nbformat_minor": 4
}
