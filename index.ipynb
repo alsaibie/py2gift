{
 "cells": [
  {
   "cell_type": "code",
   "execution_count": null,
   "metadata": {},
   "outputs": [],
   "source": [
    "#hide\n",
    "#from your_lib.core import *"
   ]
  },
  {
   "cell_type": "markdown",
   "metadata": {},
   "source": [
    "# py2gift\n",
    "\n",
    "> Write [Moodle](https://moodle.org/) quizzes from a [Jupyter](https://jupyter.org/) notebook."
   ]
  },
  {
   "cell_type": "markdown",
   "metadata": {},
   "source": [
    "`py2gift` is a library meant to write [question banks](https://docs.moodle.org/38/en/Question_bank) in [GIFT](https://docs.moodle.org/38/en/GIFT_format) format from within a Jupyter notebook. The advantages are:\n",
    "\n",
    "* you can use all your Python skills to *compute* whatever is required for the statement, solution and feedback of a question\n",
    "* it makes easy to write different (random) versions of the same question\n",
    "* questions can be previewed (pictures, $\\LaTeX$...) in the notebook\n",
    "* no need to install anything!! You can (though don't have to) click this mybinder link and start writing your questions right now from the browser."
   ]
  },
  {
   "cell_type": "markdown",
   "metadata": {},
   "source": [
    "This library is meant as a *companion* for [gift-wrapper](https://github.com/manuvazquez/gift-wrapper). The latter is meant to\n",
    "\n",
    "> Build GIFT (Moodle compatible) files easily\n",
    "\n",
    "but still you need to write the questions *by hand*. This library encompasses some utilities to ease the process. The ultimate goal is to write the exams in [jupyter](https://jupyter.org/) notebooks.\n",
    "\n",
    "It has been created using [nbdev](https://github.com/fastai/nbdev)."
   ]
  },
  {
   "cell_type": "markdown",
   "metadata": {},
   "source": [
    "# Give it a try"
   ]
  },
  {
   "cell_type": "markdown",
   "metadata": {},
   "source": []
  },
  {
   "cell_type": "markdown",
   "metadata": {},
   "source": [
    "## Install"
   ]
  },
  {
   "cell_type": "markdown",
   "metadata": {},
   "source": [
    "`pip install py2gift`"
   ]
  },
  {
   "cell_type": "markdown",
   "metadata": {},
   "source": [
    "## How to use"
   ]
  },
  {
   "cell_type": "markdown",
   "metadata": {},
   "source": [
    "Fill me in please! Don't forget code examples:"
   ]
  },
  {
   "cell_type": "code",
   "execution_count": null,
   "metadata": {},
   "outputs": [],
   "source": [
    "1+1"
   ]
  },
  {
   "cell_type": "markdown",
   "metadata": {},
   "source": [
    "The images are underneath handled by *gift-wrapper*, and hence either `.tex` (that can be compiled with *pdflatex*) or `.svg` files are fine."
   ]
  },
  {
   "cell_type": "markdown",
   "metadata": {},
   "source": [
    "The difference between two instances of the same question can be minor or significant. Ultimately, it depends on how sophisticated your Python code is (if the latter can solve the question/problem in a very general form, and you are also able to present it in the `statement`, you are good to go)."
   ]
  }
 ],
 "metadata": {
  "kernelspec": {
   "display_name": "Python 3",
   "language": "python",
   "name": "python3"
  }
 },
 "nbformat": 4,
 "nbformat_minor": 4
}
