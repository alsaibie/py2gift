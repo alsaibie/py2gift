{
 "cells": [
  {
   "cell_type": "code",
   "execution_count": null,
   "metadata": {},
   "outputs": [],
   "source": [
    "#hide\n",
    "#from your_lib.core import *"
   ]
  },
  {
   "cell_type": "markdown",
   "metadata": {},
   "source": [
    "# py2gift\n",
    "\n",
    "> Make input files for [gift-wrapper](https://github.com/manuvazquez/gift-wrapper) programmatically"
   ]
  },
  {
   "cell_type": "markdown",
   "metadata": {},
   "source": [
    "This library is meant as a *companion* for [gift-wrapper](https://github.com/manuvazquez/gift-wrapper). The latter is meant to\n",
    "\n",
    "> Build GIFT (Moodle compatible) files easily\n",
    "\n",
    "but still you need to write the questions *by hand*. These library encompasses some utilities to ease the process. It has been created using It has been using [nbdev](https://github.com/fastai/nbdev)."
   ]
  },
  {
   "cell_type": "markdown",
   "metadata": {},
   "source": [
    "## Install"
   ]
  },
  {
   "cell_type": "markdown",
   "metadata": {},
   "source": [
    "#`pip install py2gift`"
   ]
  },
  {
   "cell_type": "markdown",
   "metadata": {},
   "source": [
    "## How to use"
   ]
  },
  {
   "cell_type": "markdown",
   "metadata": {},
   "source": [
    "Fill me in please! Don't forget code examples:"
   ]
  },
  {
   "cell_type": "code",
   "execution_count": null,
   "metadata": {},
   "outputs": [],
   "source": [
    "1+1"
   ]
  },
  {
   "cell_type": "markdown",
   "metadata": {},
   "source": [
    "Remote\n",
    "\n",
    "![](http://www.tsc.uc3m.es/~mvazquez/tc/midterm2/constellations/4QAM.svg)\n",
    "\n",
    "after"
   ]
  },
  {
   "cell_type": "markdown",
   "metadata": {},
   "source": [
    "Local\n",
    "\n",
    "![](4QAM.svg)\n",
    "\n",
    "After"
   ]
  }
 ],
 "metadata": {
  "kernelspec": {
   "display_name": "Python 3",
   "language": "python",
   "name": "python3"
  }
 },
 "nbformat": 4,
 "nbformat_minor": 4
}
