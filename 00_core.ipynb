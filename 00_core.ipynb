{
 "cells": [
  {
   "cell_type": "code",
   "execution_count": null,
   "metadata": {},
   "outputs": [],
   "source": [
    "# default_exp core"
   ]
  },
  {
   "cell_type": "markdown",
   "metadata": {},
   "source": [
    "# Core\n",
    "\n",
    "> Main program"
   ]
  },
  {
   "cell_type": "markdown",
   "metadata": {},
   "source": [
    "The implementation of the main script is actually in the `build` function below. `main` is just a *wrapper* that parses command-line arguments."
   ]
  },
  {
   "cell_type": "code",
   "execution_count": null,
   "metadata": {},
   "outputs": [],
   "source": [
    "#hide\n",
    "from nbdev.showdoc import *"
   ]
  },
  {
   "cell_type": "code",
   "execution_count": null,
   "metadata": {},
   "outputs": [],
   "source": [
    "# export\n",
    "\n",
    "import sys\n",
    "import argparse\n",
    "import pathlib\n",
    "import importlib.util\n",
    "import string\n",
    "import collections\n",
    "from types import ModuleType\n",
    "from typing import Optional, Union\n",
    "\n",
    "import numpy as np\n",
    "import yaml\n",
    "\n",
    "import py2gift.util\n",
    "import py2gift.question\n",
    "import py2gift.input_file\n",
    "\n",
    "import gift_wrapper.core"
   ]
  },
  {
   "cell_type": "markdown",
   "metadata": {},
   "source": [
    "# Parsing of the command-line arguments"
   ]
  },
  {
   "cell_type": "markdown",
   "metadata": {},
   "source": [
    "The function below just parses command-line arguments and pass them to the `build` function below."
   ]
  },
  {
   "cell_type": "code",
   "execution_count": null,
   "metadata": {},
   "outputs": [],
   "source": [
    "# export\n",
    "\n",
    "def main():\n",
    "    \n",
    "    parser = argparse.ArgumentParser(description='Python to GIFT converter')\n",
    "\n",
    "    parser.add_argument(\n",
    "        'input_file', type=argparse.FileType('r'), default='global_settings.yaml', help='settings file', nargs='?')\n",
    "\n",
    "    parser.add_argument('-c', '--code_directory', default='.', help='directory with the required source code')\n",
    "\n",
    "    parser.add_argument(\n",
    "        '-m', '--main_module', default='questions.py', help='file with the questions generators')\n",
    "\n",
    "    parser.add_argument(\n",
    "        '-l', '--local', default=False, action='store_true', help=\"don't try to copy the images to the server\")\n",
    "\n",
    "    command_line_arguments = parser.parse_args()\n",
    "    \n",
    "    code_directory = pathlib.Path(command_line_arguments.code_directory)\n",
    "    main_module = pathlib.Path(command_line_arguments.main_module)\n",
    "\n",
    "    sys.path.insert(0, code_directory.absolute().as_posix())\n",
    "    spec = importlib.util.spec_from_file_location(main_module.stem, (code_directory / main_module).absolute())\n",
    "    questions_generators = importlib.util.module_from_spec(spec)\n",
    "    spec.loader.exec_module(questions_generators)\n",
    "    \n",
    "    build(command_line_arguments.input_file.name, command_line_arguments.local, questions_generators)"
   ]
  },
  {
   "cell_type": "markdown",
   "metadata": {},
   "source": [
    "# Main script"
   ]
  },
  {
   "cell_type": "markdown",
   "metadata": {},
   "source": [
    "## Auxiliary functions"
   ]
  },
  {
   "cell_type": "markdown",
   "metadata": {},
   "source": [
    "### init_parameters_from_settings"
   ]
  },
  {
   "cell_type": "markdown",
   "metadata": {},
   "source": [
    "A function to obtain the initialization parameters of a given class given the corresponding settings.\n",
    "\n",
    "* `cls_settings`: a `dict` with the all parameters for the class; it should include keys `statement`, `feedback` and, optionally, `time`\n",
    "\n",
    "It returns another dictionary."
   ]
  },
  {
   "cell_type": "code",
   "execution_count": null,
   "metadata": {},
   "outputs": [],
   "source": [
    "# export\n",
    "\n",
    "def init_parameters_from_settings(cls_settings: dict) -> dict:\n",
    "    \"\"\"\n",
    "    Returns a dictionary with the initialization parameters for a question.\n",
    "    \n",
    "    Parameters\n",
    "    ----------\n",
    "    \n",
    "    cls_settings: dict\n",
    "        The settings for the class.\n",
    "    \"\"\"\n",
    "\n",
    "    init_parameters = {\n",
    "        'statement': py2gift.question.TemplatedLatexText(cls_settings['statement']),\n",
    "        'feedback': py2gift.question.TemplatedLatexText(cls_settings['feedback'])\n",
    "    }\n",
    "    \n",
    "    if 'time' in cls_settings:\n",
    "        \n",
    "        init_parameters['time'] = cls_settings['time']\n",
    "\n",
    "    init_parameters.update(cls_settings.get('init parameters', {}))\n",
    "    \n",
    "    return init_parameters"
   ]
  },
  {
   "cell_type": "markdown",
   "metadata": {},
   "source": [
    "The name for a *testing* file"
   ]
  },
  {
   "cell_type": "code",
   "execution_count": null,
   "metadata": {},
   "outputs": [],
   "source": [
    "input_file = '_input.yaml'"
   ]
  },
  {
   "cell_type": "code",
   "execution_count": null,
   "metadata": {},
   "outputs": [],
   "source": [
    "%%writefile {input_file}\n",
    "\n",
    "output file: quiz.yaml\n",
    "pictures base directory: tc/midterm3\n",
    "path to gift-wrapper: '~/gift-wrapper/wrap.py'\n",
    "\n",
    "categories:\n",
    "\n",
    "  - name: Test category\n",
    "\n",
    "    classes:\n",
    "\n",
    "      - name: TestClass\n",
    "\n",
    "        question base name: Test class\n",
    "            \n",
    "        init parameters:\n",
    "            \n",
    "            distribution: Gaussian\n",
    "\n",
    "        statement: |\n",
    "          Consider a random variable, $X$, with mean $ \\mu = !mean $ and variance...\n",
    "          \n",
    "\n",
    "        feedback: |\n",
    "          Clearly, $Y$ is...\n",
    "          \n",
    "\n",
    "        time: 15\n",
    "        \n",
    "        number of instances: 2"
   ]
  },
  {
   "cell_type": "code",
   "execution_count": null,
   "metadata": {},
   "outputs": [],
   "source": [
    "with open(input_file) as yaml_data:\n",
    "\n",
    "    input_data = yaml.load(yaml_data, Loader=yaml.FullLoader)\n",
    "\n",
    "init_parameters_from_settings(input_data['categories'][0]['classes'][0])"
   ]
  },
  {
   "cell_type": "markdown",
   "metadata": {},
   "source": [
    "If `init_parameters` is absent, then no parameters will be passed when instatiating the class."
   ]
  },
  {
   "cell_type": "markdown",
   "metadata": {},
   "source": [
    "## build"
   ]
  },
  {
   "cell_type": "markdown",
   "metadata": {},
   "source": [
    "All the work is done by this function with the help of the ones above.\n",
    "\n",
    "* `input_file`: the input file with the settings for the questions generators in `question`\n",
    "* `local_run`: `gift_wrapper` argument (wheter or not, appropriate files should be transfer to a remote host)\n",
    "* `questions_module`: a module containing the classes referred to in `input_file`\n",
    "* `parameters_file`: `gift_wrapper` argument\n",
    "* `no_checks`: `gift_wrapper` argument (whether or not $\\LaTeX$ formulas should be checked"
   ]
  },
  {
   "cell_type": "code",
   "execution_count": null,
   "metadata": {},
   "outputs": [],
   "source": [
    "# export\n",
    "\n",
    "def build(\n",
    "    settings: str, local_run: bool, questions_module: ModuleType, parameters_file: str = 'parameters.yaml',\n",
    "    no_checks: bool = False, overwrite_existing_latex_files: bool = True, embed_images: bool = False):\n",
    "    \n",
    "    # if settings is the name of a file...\n",
    "    if type(settings) == str:\n",
    "\n",
    "        with open(settings) as f:\n",
    "\n",
    "            settings = yaml.load(f, Loader=yaml.FullLoader)\n",
    "    \n",
    "    else:\n",
    "        \n",
    "        assert type(settings) == dict\n",
    "\n",
    "    output_file = settings['output file']\n",
    "\n",
    "    category_questions = collections.defaultdict(list)\n",
    "\n",
    "    for cat in settings['categories']:\n",
    "\n",
    "        questions = []\n",
    "\n",
    "        for c in cat['classes']:\n",
    "\n",
    "            this_class_questions = []\n",
    "            \n",
    "            # either `parameters` or `number of instances` is present, but not both\n",
    "            assert ('parameters' in c) ^ ('number of instances' in c), (\n",
    "                'either \"parameters\" or \"number of instances\" must be specified')\n",
    "            \n",
    "            question_generator = getattr(questions_module, c['name'])(**init_parameters_from_settings(c))\n",
    "            \n",
    "            if 'parameters' in c:\n",
    "\n",
    "                for p in c['parameters']:\n",
    "\n",
    "                    this_class_questions.append(question_generator(**p))\n",
    "            \n",
    "            else:\n",
    "                \n",
    "                for _ in range(c['number of instances']):\n",
    "                    \n",
    "                    this_class_questions.append(question_generator())\n",
    "\n",
    "            questions.extend(py2gift.util.add_name(this_class_questions, base_name=c['question base name']))\n",
    "        \n",
    "        category_questions[cat['name'] if type(cat['name']) != list else tuple(cat['name'])].extend(questions)\n",
    "\n",
    "    # --------\n",
    "\n",
    "    py2gift.util.write_multiple_categories(category_questions, settings['pictures base directory'], output_file=output_file)\n",
    "    \n",
    "    gift_wrapper.core.wrap(\n",
    "        parameters_file, output_file, local_run=local_run, no_checks=no_checks,\n",
    "        overwrite_existing_latex_files=overwrite_existing_latex_files, embed_images=embed_images)"
   ]
  },
  {
   "cell_type": "markdown",
   "metadata": {},
   "source": [
    "## Testing"
   ]
  },
  {
   "cell_type": "markdown",
   "metadata": {},
   "source": [
    "This function expects, among other things, an *input file* (defined above), a *module* implementing the classes referenced in the latter, and a *parameters file*."
   ]
  },
  {
   "cell_type": "markdown",
   "metadata": {},
   "source": [
    "## Module with questions"
   ]
  },
  {
   "cell_type": "markdown",
   "metadata": {},
   "source": [
    "This can be used in the same way as module would."
   ]
  },
  {
   "cell_type": "code",
   "execution_count": null,
   "metadata": {},
   "outputs": [],
   "source": [
    "class FakeModule:\n",
    "    \n",
    "    class TestClass(py2gift.question.NumericalQuestionGenerator):\n",
    "    \n",
    "        def __init__(\n",
    "            self, statement: py2gift.question.TemplatedLatexText, feedback: py2gift.question.TemplatedLatexText,\n",
    "            distribution: str,\n",
    "            time: Optional[int] = None,prng: np.random.RandomState = np.random.RandomState(42)) -> None:\n",
    "\n",
    "            super().__init__(statement, feedback, time, prng)\n",
    "            \n",
    "            self.distribution = distribution\n",
    "        \n",
    "        def setup(self):\n",
    "            \n",
    "            mean = np.random.rand()\n",
    "\n",
    "            self.statement.fill(mean=mean)\n",
    "\n",
    "            self.solution = 42\n",
    "            self.error = '10%'"
   ]
  },
  {
   "cell_type": "markdown",
   "metadata": {},
   "source": [
    "## Parameters file"
   ]
  },
  {
   "cell_type": "code",
   "execution_count": null,
   "metadata": {},
   "outputs": [],
   "source": [
    "parameters_file = '_parameters.yaml'"
   ]
  },
  {
   "cell_type": "code",
   "execution_count": null,
   "metadata": {},
   "outputs": [],
   "source": [
    "%%writefile {parameters_file}\n",
    "images hosting:\n",
    "\n",
    "  ssh:\n",
    "    user: mvazquez\n",
    "\n",
    "    # below, one should specify either a password for the user or  \"public key\" file but NOT both of them\n",
    "\n",
    "    password:\n",
    "\n",
    "    # \"~\" stands for the user's home directory (in Linux for one...)\n",
    "    public_key: ~/.ssh/id_rsa_mymachine.pub\n",
    "\n",
    "  copy:\n",
    "    # machine into which files will be copied\n",
    "    host: hidra1\n",
    "\n",
    "    # the path that in the remote machine acts as root of the publicly visible directories hierarchy (hence it's not\n",
    "    # visible from outside);  it *should* exist (\".\" stands for the working directory when you ssh into the machine)\n",
    "    public filesystem root: ./public_html\n",
    "\n",
    "  # public address from which the images will hang\n",
    "  public URL: http://www.tsc.uc3m.es/~mvazquez/\n",
    "\n",
    "latex:\n",
    "\n",
    "  # auxiliary TeX file that will be created to check that formulas can be compiled\n",
    "  auxiliary file: __latex_check.tex"
   ]
  },
  {
   "cell_type": "code",
   "execution_count": null,
   "metadata": {},
   "outputs": [],
   "source": [
    "build(input_file, local_run=True, questions_module=FakeModule, parameters_file=parameters_file, no_checks=True)"
   ]
  },
  {
   "cell_type": "markdown",
   "metadata": {},
   "source": [
    "The file actually created by `build` (`gift_wrapper`-ready questions):"
   ]
  },
  {
   "cell_type": "code",
   "execution_count": null,
   "metadata": {},
   "outputs": [],
   "source": [
    "%cat quiz.yaml"
   ]
  },
  {
   "cell_type": "markdown",
   "metadata": {},
   "source": [
    "The above file is processed by gift wrapper to give:"
   ]
  },
  {
   "cell_type": "code",
   "execution_count": null,
   "metadata": {},
   "outputs": [],
   "source": [
    "%cat quiz.gift.txt"
   ]
  },
  {
   "cell_type": "code",
   "execution_count": null,
   "metadata": {},
   "outputs": [],
   "source": [
    "!rm quiz.yaml quiz.gift.txt"
   ]
  },
  {
   "cell_type": "markdown",
   "metadata": {},
   "source": [
    "One can also pass directly the `dict` with the settings."
   ]
  },
  {
   "cell_type": "code",
   "execution_count": null,
   "metadata": {},
   "outputs": [],
   "source": [
    "with open(input_file) as f:\n",
    "\n",
    "    settings = yaml.load(f, Loader=yaml.FullLoader)\n",
    "\n",
    "build(settings, local_run=True, questions_module=FakeModule, parameters_file=parameters_file, no_checks=True)"
   ]
  },
  {
   "cell_type": "code",
   "execution_count": null,
   "metadata": {},
   "outputs": [],
   "source": [
    "%cat quiz.yaml"
   ]
  },
  {
   "cell_type": "markdown",
   "metadata": {},
   "source": [
    "# Extra"
   ]
  },
  {
   "cell_type": "markdown",
   "metadata": {},
   "source": [
    "This is intended for previewing a question in a [jupyter](https://jupyter.org/) notebook."
   ]
  },
  {
   "cell_type": "markdown",
   "metadata": {},
   "source": [
    "### `build_question`"
   ]
  },
  {
   "cell_type": "markdown",
   "metadata": {},
   "source": [
    "A function to build a (single) question from the corresponding settings.\n",
    "\n",
    "* `category_name`: name of the category\n",
    "* `class_name`: name of the question's class\n",
    "* `settings`: a **global** settings dictionary (usually read from a file) in which to find those for the requested category and class\n",
    "* `module`: an **already imported** Python module in which to find the class named *name*\n",
    "\n",
    "It returns a `dict`."
   ]
  },
  {
   "cell_type": "code",
   "execution_count": null,
   "metadata": {},
   "outputs": [],
   "source": [
    "# export\n",
    "\n",
    "def build_question(question_generator: py2gift.question.QuestionGenerator, category_name: str, settings: dict, n_question: int=0) -> dict:\n",
    "    \n",
    "    class_name = question_generator.__name__\n",
    "    \n",
    "    class_settings = py2gift.input_file.extract_class_settings(category_name, class_name, settings)\n",
    "    \n",
    "    # an instance\n",
    "    question_generator = question_generator(**init_parameters_from_settings(class_settings))\n",
    "\n",
    "    assert ('parameters' in class_settings) ^ ('number of instances' in class_settings), (\n",
    "        'either \"parameters\" or \"number of instances\" must be specified')\n",
    "\n",
    "    if 'parameters' in class_settings:\n",
    "        # notice that `parameters` yields a list\n",
    "        return question_generator(**class_settings['parameters'][n_question])\n",
    "    else:\n",
    "        return question_generator()"
   ]
  },
  {
   "cell_type": "markdown",
   "metadata": {},
   "source": [
    "For testing, we need some settings. It is more natural to read and write them in a file."
   ]
  },
  {
   "cell_type": "code",
   "execution_count": null,
   "metadata": {},
   "outputs": [],
   "source": [
    "settings_file = '_settings.yaml'"
   ]
  },
  {
   "cell_type": "code",
   "execution_count": null,
   "metadata": {},
   "outputs": [],
   "source": [
    "%%writefile {settings_file}\n",
    "\n",
    "output file: quiz.yaml\n",
    "pictures base directory: pics\n",
    "\n",
    "categories:\n",
    "\n",
    "  - name: Category 1\n",
    "\n",
    "    classes:\n",
    "\n",
    "      - name: A\n",
    "\n",
    "        question base name: A numerical question\n",
    "\n",
    "        statement: What is...\n",
    "\n",
    "        feedback: Well...\n",
    "\n",
    "        parameters:\n",
    "\n",
    "          - a: 5\n",
    "            b: 3\n",
    "\n",
    "      - name: A\n",
    "\n",
    "        question base name: Another numerical question\n",
    "\n",
    "        statement: What is...\n",
    "\n",
    "        feedback: Well...\n",
    "        \n",
    "        number of instances: 2\n",
    "\n",
    "  # -----------------------------\n",
    "\n",
    "  - name: Category 2\n",
    "\n",
    "    classes:\n",
    "\n",
    "      - name: B\n",
    "\n",
    "        question base name: A multiple-choice question\n",
    "\n",
    "        init parameters:\n",
    "\n",
    "          nodes: ['S1', 'S2']\n",
    "\n",
    "        statement: |\n",
    "          Consider...\n",
    "\n",
    "        feedback: |\n",
    "          We must...\n",
    "\n",
    "        parameters: &dijkstra_parameters\n",
    "\n",
    "          - n: 0\n",
    "\n",
    "          - n: 1\n",
    "            \n",
    "  - name: Category 3\n",
    "\n",
    "    classes:\n",
    "\n",
    "      - name: C\n",
    "\n",
    "        question base name: Another numerical question\n",
    "\n",
    "        statement: What is...\n",
    "\n",
    "        feedback: Well...\n",
    "        \n",
    "        number of instances: 2"
   ]
  },
  {
   "cell_type": "markdown",
   "metadata": {},
   "source": [
    "Next, we need to define the classes referenced above (`A`, `B` and `C`)"
   ]
  },
  {
   "cell_type": "code",
   "execution_count": null,
   "metadata": {},
   "outputs": [],
   "source": [
    "class A(py2gift.question.NumericalQuestionGenerator):\n",
    "    \n",
    "    def setup(self, a: int, b:int):\n",
    "        \n",
    "        self.solution = 42\n",
    "        self.error =  '10%'\n",
    "\n",
    "class B(py2gift.question.MultipleChoiceQuestionGenerator):\n",
    "    \n",
    "    def __init__(\n",
    "        self, statement: py2gift.question.TemplatedLatexText, feedback: py2gift.question.TemplatedLatexText,\n",
    "        nodes: list,\n",
    "        time: Optional[int] = None, prng: np.random.RandomState = np.random.RandomState(42)) -> None:\n",
    "        \n",
    "        super().__init__(statement, feedback, time, prng)\n",
    "        \n",
    "        self.nodes = nodes\n",
    "    \n",
    "    \n",
    "    def setup(self, n:int):\n",
    "        \n",
    "        self.wrong_answers = [\n",
    "            ['yes', 50],\n",
    "            ['no', -50],\n",
    "            ['nope', -50],\n",
    "            ['yessss!!!', 50]\n",
    "        ]\n",
    "\n",
    "class C(py2gift.question.NumericalQuestionGenerator):\n",
    "    \n",
    "    def setup(self):\n",
    "        \n",
    "        self.solution = 52\n",
    "        self.error =  '10%'"
   ]
  },
  {
   "cell_type": "code",
   "execution_count": null,
   "metadata": {},
   "outputs": [],
   "source": [
    "build_question(A, category_name='Category 1', settings=py2gift.util.yaml_to_dict(settings_file))"
   ]
  },
  {
   "cell_type": "code",
   "execution_count": null,
   "metadata": {},
   "outputs": [],
   "source": [
    "build_question(C, category_name='Category 3', settings=py2gift.util.yaml_to_dict(settings_file))"
   ]
  },
  {
   "cell_type": "code",
   "execution_count": null,
   "metadata": {},
   "outputs": [],
   "source": [
    "!rm {settings_file}"
   ]
  },
  {
   "cell_type": "markdown",
   "metadata": {},
   "source": [
    "---"
   ]
  },
  {
   "cell_type": "markdown",
   "metadata": {},
   "source": [
    "Notice the input (settings) dictionary is modified."
   ]
  },
  {
   "cell_type": "code",
   "execution_count": null,
   "metadata": {},
   "outputs": [],
   "source": [
    "# export\n",
    "\n",
    "def markdown_from_question(question_settings: dict, question_class: gift_wrapper.question.HtmlQuestion) -> str:\n",
    "    \n",
    "    # the class that will be instantiated for this particular question; notice the class is removed\n",
    "    # (popped) from the dictionary so that it doesn't get passed to the initializer\n",
    "    question_class = getattr(gift_wrapper.question, question_settings.pop('class'))\n",
    "\n",
    "    # latex formulas are not checked\n",
    "    question_settings['check_latex_formulas'] = False\n",
    "\n",
    "    question_settings['history'] = {'already compiled': set()}\n",
    "    \n",
    "    question_settings['latex_auxiliary_file'] = '__latex__.tex'\n",
    "\n",
    "    question_settings['name'] = 'Test'\n",
    "\n",
    "    question = gift_wrapper.question.SvgToMarkdown(\n",
    "        gift_wrapper.question.TexToSvg(question_class(**question_settings))\n",
    "    )\n",
    "\n",
    "    markdown = question.to_jupyter()\n",
    "\n",
    "    for f in question.pre_processing_functions:\n",
    "\n",
    "        markdown = f(markdown)\n",
    "    \n",
    "    return markdown"
   ]
  },
  {
   "cell_type": "code",
   "execution_count": null,
   "metadata": {},
   "outputs": [],
   "source": [
    "question_settings = dict()\n",
    "question_settings['class'] = 'Numerical'\n",
    "question_settings['statement'] = 'What is the value of $\\pi$?'\n",
    "question_settings['solution'] = {'value': 3.14, 'error': '50%'}\n",
    "question_settings['feedback'] = 'well, $\\pi$'"
   ]
  },
  {
   "cell_type": "code",
   "execution_count": null,
   "metadata": {},
   "outputs": [],
   "source": [
    "py2gift.util.render_latex(markdown_from_question(question_settings, gift_wrapper.question.Numerical))"
   ]
  },
  {
   "cell_type": "markdown",
   "metadata": {},
   "source": [
    "---"
   ]
  },
  {
   "cell_type": "code",
   "execution_count": null,
   "metadata": {},
   "outputs": [],
   "source": [
    "# export\n",
    "\n",
    "def generator_to_markdown(\n",
    "    settings: Union[str, pathlib.Path, dict], category: str, cls: py2gift.question):\n",
    "    \"\"\"\n",
    "    Returns markdown text from a generator.\n",
    "\n",
    "\n",
    "    Parameters\n",
    "    ----------\n",
    "    settings: str, Pathlib, dict\n",
    "        The settings file or corresponding dictionary.\n",
    "    category: str\n",
    "        The category of the question.\n",
    "    cls: py2gift.question.QuestionGenerator\n",
    "        The class implementing the generator.\n",
    "\n",
    "    Returns\n",
    "    -------\n",
    "    out: str\n",
    "        Markdown text.\n",
    "\n",
    "    \"\"\"\n",
    "    \n",
    "    # if settings is the name of a file...\n",
    "    if type(settings) == str:\n",
    "        \n",
    "        settings = yaml_to_dict(settings)\n",
    "    \n",
    "    else:\n",
    "        \n",
    "        assert type(settings) == dict\n",
    "\n",
    "    question_settings = py2gift.core.build_question(cls, category, settings)\n",
    "    question_class = getattr(gift_wrapper.question, question_settings['class'])\n",
    "\n",
    "    return markdown_from_question(question_settings, question_class)"
   ]
  },
  {
   "cell_type": "markdown",
   "metadata": {},
   "source": [
    "---\n",
    "It turns a $\\TeX$ file into an svg, and returns a *markdown* string that allows to visualize it in a cell"
   ]
  },
  {
   "cell_type": "code",
   "execution_count": null,
   "metadata": {},
   "outputs": [],
   "source": [
    "# export\n",
    "\n",
    "def latex_to_markdown(input_file: Union[str, pathlib.Path], delete_input_file_afterwards: bool = False) -> str:\n",
    "    \n",
    "    output_file = gift_wrapper.image.pdf_to_svg(gift_wrapper.image.tex_to_pdf(input_file))\n",
    "    \n",
    "    suffixes = ['.aux', '.log', '.pdf']\n",
    "    \n",
    "    if delete_input_file_afterwards:\n",
    "        \n",
    "        suffixes.append('.tex')\n",
    "    \n",
    "    for suffix in suffixes:\n",
    "        \n",
    "        file_to_delete = output_file.with_suffix(suffix)\n",
    "        \n",
    "        if file_to_delete.exists():\n",
    "        \n",
    "            file_to_delete.unlink()\n",
    "    \n",
    "    return r'![](' + output_file.as_posix() + ')'"
   ]
  }
 ],
 "metadata": {
  "kernelspec": {
   "display_name": "Python 3",
   "language": "python",
   "name": "python3"
  }
 },
 "nbformat": 4,
 "nbformat_minor": 4
}
