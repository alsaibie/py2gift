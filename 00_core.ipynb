{
 "cells": [
  {
   "cell_type": "code",
   "execution_count": null,
   "metadata": {},
   "outputs": [],
   "source": [
    "# default_exp core"
   ]
  },
  {
   "cell_type": "markdown",
   "metadata": {},
   "source": [
    "# Core\n",
    "\n",
    "> Main program"
   ]
  },
  {
   "cell_type": "markdown",
   "metadata": {},
   "source": [
    "The implementation of the main script is actually in the `build` function below. `main` is just a *wrapper* that parses command-line arguments."
   ]
  },
  {
   "cell_type": "code",
   "execution_count": null,
   "metadata": {},
   "outputs": [],
   "source": [
    "#hide\n",
    "from nbdev.showdoc import *"
   ]
  },
  {
   "cell_type": "code",
   "execution_count": null,
   "metadata": {},
   "outputs": [],
   "source": [
    "# export\n",
    "\n",
    "import sys\n",
    "import argparse\n",
    "import pathlib\n",
    "import subprocess\n",
    "import importlib.util\n",
    "import string\n",
    "import collections\n",
    "from types import ModuleType\n",
    "\n",
    "import yaml\n",
    "from py2gift import util"
   ]
  },
  {
   "cell_type": "markdown",
   "metadata": {},
   "source": [
    "# Parsing of the command-line arguments"
   ]
  },
  {
   "cell_type": "markdown",
   "metadata": {},
   "source": [
    "The function below just parses command-line arguments and pass them to the `build` function below."
   ]
  },
  {
   "cell_type": "code",
   "execution_count": null,
   "metadata": {},
   "outputs": [],
   "source": [
    "# export\n",
    "\n",
    "def main():\n",
    "    \n",
    "    parser = argparse.ArgumentParser(description='Python to GIFT converter')\n",
    "\n",
    "    parser.add_argument(\n",
    "        'input_file', type=argparse.FileType('r'), default='global_settings.yaml', help='settings file', nargs='?')\n",
    "\n",
    "    parser.add_argument('-c', '--code_directory', default='.', help='directory with the required source code')\n",
    "\n",
    "    parser.add_argument(\n",
    "        '-m', '--main_module', default='questions.py', help='file with the questions generators')\n",
    "\n",
    "    parser.add_argument(\n",
    "        '-l', '--local', default=False, action='store_true', help=\"don't try to copy the images to the server\")\n",
    "\n",
    "    command_line_arguments = parser.parse_args()\n",
    "    \n",
    "    code_directory = pathlib.Path(command_line_arguments.code_directory)\n",
    "    main_module = pathlib.Path(command_line_arguments.main_module)\n",
    "\n",
    "    sys.path.insert(0, code_directory.absolute().as_posix())\n",
    "    spec = importlib.util.spec_from_file_location(main_module.stem, (code_directory / main_module).absolute())\n",
    "    questions_generators = importlib.util.module_from_spec(spec)\n",
    "    spec.loader.exec_module(questions_generators)\n",
    "    \n",
    "    build(command_line_arguments.input_file.name, command_line_arguments.local, questions_generators)"
   ]
  },
  {
   "cell_type": "markdown",
   "metadata": {},
   "source": [
    "# Main script"
   ]
  },
  {
   "cell_type": "code",
   "execution_count": null,
   "metadata": {},
   "outputs": [],
   "source": [
    "# export\n",
    "\n",
    "def build(input_file: str, local_run: bool, questions_module: ModuleType):\n",
    "\n",
    "    with open(input_file) as f:\n",
    "\n",
    "        settings = yaml.load(f, Loader=yaml.FullLoader)\n",
    "\n",
    "    output_file = settings['output file']\n",
    "    executable = pathlib.Path(settings['path to gift-wrapper']).expanduser()\n",
    "\n",
    "    category_questions = collections.defaultdict(list)\n",
    "\n",
    "    for cat in settings['categories']:\n",
    "\n",
    "        questions = []\n",
    "\n",
    "        for c in cat['classes']:\n",
    "\n",
    "            this_class_questions = []\n",
    "\n",
    "            init_parameters = {\n",
    "                'unprocessed_statement': string.Template(c['statement']),\n",
    "                'unprocessed_feedback': string.Template(c['feedback'])}\n",
    "\n",
    "            init_parameters.update(c.get('init parameters', {}))\n",
    "\n",
    "            question_generator = getattr(questions_module, c['name'])(**init_parameters)\n",
    "\n",
    "            for p in c['parameters']:\n",
    "\n",
    "                this_class_questions.append(question_generator(**p))\n",
    "\n",
    "            questions.extend(util.add_name(this_class_questions, base_name=c['question base name']))\n",
    "\n",
    "        category_questions[cat['name']].extend(questions)\n",
    "\n",
    "    # --------\n",
    "\n",
    "    util.write_multiple_categories(category_questions, settings['pictures base directory'], output_file=output_file)\n",
    "\n",
    "    command = [executable.as_posix()]\n",
    "\n",
    "    # if \"local\" running was requested...\n",
    "    if local_run:\n",
    "\n",
    "        command.append('-l')\n",
    "\n",
    "    command.extend(['-i', output_file])\n",
    "\n",
    "    run_summary = subprocess.run(command, capture_output=True)\n",
    "\n",
    "    assert run_summary.returncode == 0, f'\"gift-wrapper\" finished abruptly ({run_summary.stderr})'"
   ]
  }
 ],
 "metadata": {
  "kernelspec": {
   "display_name": "Python 3",
   "language": "python",
   "name": "python3"
  }
 },
 "nbformat": 4,
 "nbformat_minor": 4
}
