{
 "cells": [
  {
   "cell_type": "code",
   "execution_count": null,
   "metadata": {},
   "outputs": [],
   "source": [
    "# default_exp core"
   ]
  },
  {
   "cell_type": "markdown",
   "metadata": {},
   "source": [
    "# Core\n",
    "\n",
    "> Main program"
   ]
  },
  {
   "cell_type": "markdown",
   "metadata": {},
   "source": [
    "The implementation of the main script is actually in the `build` function below. `main` is just a *wrapper* that parses command-line arguments."
   ]
  },
  {
   "cell_type": "code",
   "execution_count": null,
   "metadata": {},
   "outputs": [],
   "source": [
    "#hide\n",
    "from nbdev.showdoc import *"
   ]
  },
  {
   "cell_type": "code",
   "execution_count": null,
   "metadata": {},
   "outputs": [],
   "source": [
    "# export\n",
    "\n",
    "import sys\n",
    "import argparse\n",
    "import pathlib\n",
    "import importlib.util\n",
    "import string\n",
    "import collections\n",
    "from types import ModuleType\n",
    "\n",
    "import numpy as np\n",
    "import yaml\n",
    "from py2gift import util\n",
    "from py2gift import question\n",
    "\n",
    "import gift_wrapper.core"
   ]
  },
  {
   "cell_type": "markdown",
   "metadata": {},
   "source": [
    "# Parsing of the command-line arguments"
   ]
  },
  {
   "cell_type": "markdown",
   "metadata": {},
   "source": [
    "The function below just parses command-line arguments and pass them to the `build` function below."
   ]
  },
  {
   "cell_type": "code",
   "execution_count": null,
   "metadata": {},
   "outputs": [],
   "source": [
    "# export\n",
    "\n",
    "def main():\n",
    "    \n",
    "    parser = argparse.ArgumentParser(description='Python to GIFT converter')\n",
    "\n",
    "    parser.add_argument(\n",
    "        'input_file', type=argparse.FileType('r'), default='global_settings.yaml', help='settings file', nargs='?')\n",
    "\n",
    "    parser.add_argument('-c', '--code_directory', default='.', help='directory with the required source code')\n",
    "\n",
    "    parser.add_argument(\n",
    "        '-m', '--main_module', default='questions.py', help='file with the questions generators')\n",
    "\n",
    "    parser.add_argument(\n",
    "        '-l', '--local', default=False, action='store_true', help=\"don't try to copy the images to the server\")\n",
    "\n",
    "    command_line_arguments = parser.parse_args()\n",
    "    \n",
    "    code_directory = pathlib.Path(command_line_arguments.code_directory)\n",
    "    main_module = pathlib.Path(command_line_arguments.main_module)\n",
    "\n",
    "    sys.path.insert(0, code_directory.absolute().as_posix())\n",
    "    spec = importlib.util.spec_from_file_location(main_module.stem, (code_directory / main_module).absolute())\n",
    "    questions_generators = importlib.util.module_from_spec(spec)\n",
    "    spec.loader.exec_module(questions_generators)\n",
    "    \n",
    "    build(command_line_arguments.input_file.name, command_line_arguments.local, questions_generators)"
   ]
  },
  {
   "cell_type": "markdown",
   "metadata": {},
   "source": [
    "# Main script"
   ]
  },
  {
   "cell_type": "markdown",
   "metadata": {},
   "source": [
    "A function to obtain the initialization parameters of a given class given the corresponding settings.\n",
    "\n",
    "* `settings`: a `dict` with the required parameters; it should include keys *statement* and *feedback*\n",
    "\n",
    "It returns another dictionary."
   ]
  },
  {
   "cell_type": "code",
   "execution_count": null,
   "metadata": {},
   "outputs": [],
   "source": [
    "# export\n",
    "\n",
    "def init_parameters_from_settings(settings: dict) -> dict:\n",
    "\n",
    "    init_parameters = {\n",
    "        'unprocessed_statement': string.Template(settings['statement']),\n",
    "        'unprocessed_feedback': string.Template(settings['feedback'])\n",
    "    }\n",
    "\n",
    "    init_parameters.update(settings.get('init parameters', {}))\n",
    "    \n",
    "    return init_parameters"
   ]
  },
  {
   "cell_type": "markdown",
   "metadata": {},
   "source": [
    "---\n",
    "\n",
    "A function to build a (single) question from the corresponding settings.\n",
    "\n",
    "* `category_name`: name of the category\n",
    "* `class_name`: name of the question's class\n",
    "* `settings`: a **global** settings dictionary (usually read from a file) in which to find those for the requested category and class\n",
    "* `module`: an **already imported** Python module in which to find the class named *name*\n",
    "\n",
    "It returns a `dict`."
   ]
  },
  {
   "cell_type": "code",
   "execution_count": null,
   "metadata": {},
   "outputs": [],
   "source": [
    "# export\n",
    "\n",
    "def build_question(question_generator: question.QuestionGenerator, category_name: str, settings: dict) -> dict:\n",
    "    \n",
    "    class_name = question_generator.__name__\n",
    "    \n",
    "    class_settings = util.extract_class_settings(category_name, class_name, settings)\n",
    "    \n",
    "    # an instance\n",
    "    question_generator = question_generator(**init_parameters_from_settings(class_settings))\n",
    "\n",
    "    assert ('parameters' in class_settings) ^ ('number of instances' in class_settings), 'either \"parameters\" or \"number of instances\" must be specified'\n",
    "\n",
    "    if 'parameters' in class_settings:\n",
    "        return question_generator(**class_settings['parameters'])\n",
    "    else:\n",
    "        return question_generator()"
   ]
  },
  {
   "cell_type": "markdown",
   "metadata": {},
   "source": [
    "---"
   ]
  },
  {
   "cell_type": "code",
   "execution_count": null,
   "metadata": {},
   "outputs": [],
   "source": [
    "# export\n",
    "\n",
    "def build(input_file: str, local_run: bool, questions_module: ModuleType, parameters_file: str = 'parameters.yaml'):\n",
    "\n",
    "    with open(input_file) as f:\n",
    "\n",
    "        settings = yaml.load(f, Loader=yaml.FullLoader)\n",
    "\n",
    "    output_file = settings['output file']\n",
    "\n",
    "    category_questions = collections.defaultdict(list)\n",
    "\n",
    "    for cat in settings['categories']:\n",
    "\n",
    "        questions = []\n",
    "\n",
    "        for c in cat['classes']:\n",
    "\n",
    "            this_class_questions = []\n",
    "            \n",
    "            assert ('parameters' in c) ^ ('number of instances' in c), 'either \"parameters\" or \"number of instances\" must be specified'\n",
    "            \n",
    "            question_generator = getattr(questions_module, c['name'])(**init_parameters_from_settings(c))\n",
    "            \n",
    "            if 'parameters' in c:\n",
    "\n",
    "                for p in c['parameters']:\n",
    "\n",
    "                    this_class_questions.append(question_generator(**p))\n",
    "            \n",
    "            else:\n",
    "                \n",
    "                for _ in range(c['number of instances']):\n",
    "                    \n",
    "                    this_class_questions.append(question_generator())\n",
    "\n",
    "            questions.extend(util.add_name(this_class_questions, base_name=c['question base name']))\n",
    "\n",
    "        category_questions[cat['name']].extend(questions)\n",
    "\n",
    "    # --------\n",
    "\n",
    "    util.write_multiple_categories(category_questions, settings['pictures base directory'], output_file=output_file)\n",
    "    \n",
    "    gift_wrapper.core.wrap(parameters_file, output_file, local_run=local_run, no_checks=False)"
   ]
  },
  {
   "cell_type": "markdown",
   "metadata": {},
   "source": [
    "This function expects three things (the parameters file is presumed and not an input parameter)."
   ]
  },
  {
   "cell_type": "markdown",
   "metadata": {},
   "source": [
    "## Module with questions"
   ]
  },
  {
   "cell_type": "code",
   "execution_count": null,
   "metadata": {},
   "outputs": [],
   "source": [
    "class FakeModule:\n",
    "    \n",
    "    class TestClass(question.NumericalQuestionGenerator):\n",
    "    \n",
    "        def __init__(\n",
    "            self, unprocessed_statement: string.Template, unprocessed_feedback: string.Template,\n",
    "            mean: float,\n",
    "            prng: np.random.RandomState = np.random.RandomState(42)) -> None:\n",
    "\n",
    "            super().__init__(unprocessed_statement, unprocessed_feedback, prng)\n",
    "            \n",
    "            self.mean = mean\n",
    "        \n",
    "        def setup(self):\n",
    "\n",
    "            self.statement = self.unprocessed_statement.substitute(mean=self.mean)\n",
    "\n",
    "            self.solution = 42\n",
    "            self.error = '10%'\n",
    "\n",
    "            self.feedback = self.unprocessed_feedback.substitute()"
   ]
  },
  {
   "cell_type": "markdown",
   "metadata": {},
   "source": [
    "## Input file"
   ]
  },
  {
   "cell_type": "code",
   "execution_count": null,
   "metadata": {},
   "outputs": [],
   "source": [
    "input_file = 'doc_input.yaml'"
   ]
  },
  {
   "cell_type": "code",
   "execution_count": null,
   "metadata": {},
   "outputs": [],
   "source": [
    "%%writefile {input_file}\n",
    "\n",
    "output file: third_midterm.yaml\n",
    "pictures base directory: tc/midterm3\n",
    "path to gift-wrapper: '~/gift-wrapper/wrap.py'\n",
    "\n",
    "categories:\n",
    "\n",
    "  - name: Test category\n",
    "\n",
    "    classes:\n",
    "\n",
    "      - name: TestClass\n",
    "\n",
    "        question base name: Test class\n",
    "            \n",
    "        init parameters:\n",
    "            \n",
    "            mean: 3\n",
    "\n",
    "        statement: |\n",
    "          Consider a Gaussian random variable, $$X$$, with mean $$ \\mu = $mean $$ and variance...\n",
    "          \n",
    "\n",
    "        feedback: |\n",
    "          Clearly, $$Y$$ is...\n",
    "          \n",
    "\n",
    "        number of instances: 2"
   ]
  },
  {
   "cell_type": "markdown",
   "metadata": {},
   "source": [
    "## Parameters file"
   ]
  },
  {
   "cell_type": "code",
   "execution_count": null,
   "metadata": {},
   "outputs": [],
   "source": [
    "parameters_file = 'doc_parameters.yaml'"
   ]
  },
  {
   "cell_type": "code",
   "execution_count": null,
   "metadata": {},
   "outputs": [],
   "source": [
    "%%writefile {parameters_file}\n",
    "images hosting:\n",
    "\n",
    "  ssh:\n",
    "    user: mvazquez\n",
    "\n",
    "    # below, one should specify either a password for the user or  \"public key\" file but NOT both of them\n",
    "\n",
    "    password:\n",
    "\n",
    "    # \"~\" stands for the user's home directory (in Linux for one...)\n",
    "    public_key: ~/.ssh/id_rsa_mymachine.pub\n",
    "\n",
    "  copy:\n",
    "    # machine into which files will be copied\n",
    "    host: hidra1\n",
    "\n",
    "    # the path that in the remote machine acts as root of the publicly visible directories hierarchy (hence it's not\n",
    "    # visible from outside);  it *should* exist (\".\" stands for the working directory when you ssh into the machine)\n",
    "    public filesystem root: ./public_html\n",
    "\n",
    "  # public address from which the images will hang\n",
    "  public URL: http://www.tsc.uc3m.es/~mvazquez/\n",
    "\n",
    "latex:\n",
    "\n",
    "  # auxiliary TeX file that will be created to check that formulas can be compiled\n",
    "  auxiliary file: __latex_check.tex"
   ]
  },
  {
   "cell_type": "code",
   "execution_count": null,
   "metadata": {},
   "outputs": [],
   "source": [
    "build(input_file, local_run=True, questions_module=FakeModule, parameters_file=parameters_file)"
   ]
  }
 ],
 "metadata": {
  "kernelspec": {
   "display_name": "Python 3",
   "language": "python",
   "name": "python3"
  }
 },
 "nbformat": 4,
 "nbformat_minor": 4
}
