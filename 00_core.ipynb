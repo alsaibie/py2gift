{
 "cells": [
  {
   "cell_type": "code",
   "execution_count": null,
   "metadata": {},
   "outputs": [],
   "source": [
    "# default_exp core"
   ]
  },
  {
   "cell_type": "markdown",
   "metadata": {},
   "source": [
    "# Core\n",
    "\n",
    "> Main program"
   ]
  },
  {
   "cell_type": "markdown",
   "metadata": {},
   "source": [
    "The implementation of the main script is actually in the `build` function below. `main` is just a *wrapper* that parses command-line arguments."
   ]
  },
  {
   "cell_type": "code",
   "execution_count": null,
   "metadata": {},
   "outputs": [],
   "source": [
    "#hide\n",
    "from nbdev.showdoc import *"
   ]
  },
  {
   "cell_type": "code",
   "execution_count": null,
   "metadata": {},
   "outputs": [],
   "source": [
    "# export\n",
    "\n",
    "import sys\n",
    "import argparse\n",
    "import pathlib\n",
    "import subprocess\n",
    "import importlib.util\n",
    "import string\n",
    "import collections\n",
    "from types import ModuleType\n",
    "\n",
    "import yaml\n",
    "from py2gift import util\n",
    "from py2gift import question"
   ]
  },
  {
   "cell_type": "markdown",
   "metadata": {},
   "source": [
    "# Parsing of the command-line arguments"
   ]
  },
  {
   "cell_type": "markdown",
   "metadata": {},
   "source": [
    "The function below just parses command-line arguments and pass them to the `build` function below."
   ]
  },
  {
   "cell_type": "code",
   "execution_count": null,
   "metadata": {},
   "outputs": [],
   "source": [
    "# export\n",
    "\n",
    "def main():\n",
    "    \n",
    "    parser = argparse.ArgumentParser(description='Python to GIFT converter')\n",
    "\n",
    "    parser.add_argument(\n",
    "        'input_file', type=argparse.FileType('r'), default='global_settings.yaml', help='settings file', nargs='?')\n",
    "\n",
    "    parser.add_argument('-c', '--code_directory', default='.', help='directory with the required source code')\n",
    "\n",
    "    parser.add_argument(\n",
    "        '-m', '--main_module', default='questions.py', help='file with the questions generators')\n",
    "\n",
    "    parser.add_argument(\n",
    "        '-l', '--local', default=False, action='store_true', help=\"don't try to copy the images to the server\")\n",
    "\n",
    "    command_line_arguments = parser.parse_args()\n",
    "    \n",
    "    code_directory = pathlib.Path(command_line_arguments.code_directory)\n",
    "    main_module = pathlib.Path(command_line_arguments.main_module)\n",
    "\n",
    "    sys.path.insert(0, code_directory.absolute().as_posix())\n",
    "    spec = importlib.util.spec_from_file_location(main_module.stem, (code_directory / main_module).absolute())\n",
    "    questions_generators = importlib.util.module_from_spec(spec)\n",
    "    spec.loader.exec_module(questions_generators)\n",
    "    \n",
    "    build(command_line_arguments.input_file.name, command_line_arguments.local, questions_generators)"
   ]
  },
  {
   "cell_type": "markdown",
   "metadata": {},
   "source": [
    "# Main script"
   ]
  },
  {
   "cell_type": "markdown",
   "metadata": {},
   "source": [
    "A function to instantiate a class given a dictionary with the settings.\n",
    "\n",
    "* `c`: a `dict` with the required parameters; it should include keys *name*, *statement* and *feedback*\n",
    "* `module`: an **already imported** Python module in which to find the class named *name*\n",
    "\n",
    "It returns a Python class."
   ]
  },
  {
   "cell_type": "code",
   "execution_count": null,
   "metadata": {},
   "outputs": [],
   "source": [
    "# export\n",
    "\n",
    "def settings_to_class(c: dict, module: ModuleType) -> question.QuestionGenerator:\n",
    "\n",
    "    init_parameters = {\n",
    "        'unprocessed_statement': string.Template(c['statement']),\n",
    "        'unprocessed_feedback': string.Template(c['feedback'])\n",
    "    }\n",
    "\n",
    "    init_parameters.update(c.get('init parameters', {}))\n",
    "\n",
    "    return getattr(module, c['name'])(**init_parameters)"
   ]
  },
  {
   "cell_type": "markdown",
   "metadata": {},
   "source": [
    "A function to build a (single) question from the corresponding settings.\n",
    "\n",
    "* `category_name`: name of the category\n",
    "* `class_name`: name of the question's class\n",
    "* `settings`: a **global** settings dictionary (usually read from a file) in which to find those for the requested category and class\n",
    "* `module`: an **already imported** Python module in which to find the class named *name*\n",
    "\n",
    "It returns a `dict`."
   ]
  },
  {
   "cell_type": "code",
   "execution_count": null,
   "metadata": {},
   "outputs": [],
   "source": [
    "# export\n",
    "\n",
    "def build_question(category_name: str, class_name: str, settings: dict, module: ModuleType) -> dict:\n",
    "\n",
    "    \n",
    "    try:\n",
    "        \n",
    "        category_settings = [cat for cat in settings['categories'] if cat['name'] == category_name][0]\n",
    "    \n",
    "    except IndexError:\n",
    "        \n",
    "        print(f'cannot find the requested category, {category_name}')\n",
    "        sys.exit(1)\n",
    "        \n",
    "    try:\n",
    "        \n",
    "        class_settings = [cls for cls in category_settings['classes'] if cls['name'] == class_name][0]\n",
    "        \n",
    "    except IndexError:\n",
    "        \n",
    "        print(f'cannot find the requested class, {class_name}')\n",
    "        sys.exit(1)\n",
    "        \n",
    "        \n",
    "\n",
    "    question_generator = settings_to_class(class_settings, module)\n",
    "\n",
    "    assert ('parameters' in class_settings) ^ ('number of instances' in class_settings), 'either \"parameters\" or \"number of instances\" must be specified'\n",
    "\n",
    "    if 'parameters' in class_settings:\n",
    "        return question_generator(**class_settings['parameters'])\n",
    "    else:\n",
    "        return question_generator()"
   ]
  },
  {
   "cell_type": "code",
   "execution_count": null,
   "metadata": {},
   "outputs": [],
   "source": [
    "# export\n",
    "\n",
    "def build(input_file: str, local_run: bool, questions_module: ModuleType):\n",
    "\n",
    "    with open(input_file) as f:\n",
    "\n",
    "        settings = yaml.load(f, Loader=yaml.FullLoader)\n",
    "\n",
    "    output_file = settings['output file']\n",
    "    executable = pathlib.Path(settings['path to gift-wrapper']).expanduser()\n",
    "\n",
    "    category_questions = collections.defaultdict(list)\n",
    "\n",
    "    for cat in settings['categories']:\n",
    "\n",
    "        questions = []\n",
    "\n",
    "        for c in cat['classes']:\n",
    "\n",
    "            this_class_questions = []\n",
    "            \n",
    "            assert ('parameters' in c) ^ ('number of instances' in c), 'either \"parameters\" or \"number of instances\" must be specified'\n",
    "            \n",
    "            question_generator = settings_to_class(c, questions_module)\n",
    "            \n",
    "            if 'parameters' in c:\n",
    "\n",
    "                for p in c['parameters']:\n",
    "\n",
    "                    this_class_questions.append(question_generator(**p))\n",
    "            \n",
    "            else:\n",
    "                \n",
    "                for _ in range(c['number of instances']):\n",
    "                    \n",
    "                    this_class_questions.append(question_generator())\n",
    "\n",
    "            questions.extend(util.add_name(this_class_questions, base_name=c['question base name']))\n",
    "\n",
    "        category_questions[cat['name']].extend(questions)\n",
    "\n",
    "    # --------\n",
    "\n",
    "    util.write_multiple_categories(category_questions, settings['pictures base directory'], output_file=output_file)\n",
    "\n",
    "    command = [executable.as_posix()]\n",
    "\n",
    "    # if \"local\" running was requested...\n",
    "    if local_run:\n",
    "\n",
    "        command.append('-l')\n",
    "\n",
    "    command.extend(['-i', output_file])\n",
    "\n",
    "    run_summary = subprocess.run(command, capture_output=True)\n",
    "\n",
    "    assert run_summary.returncode == 0, f'\"gift-wrapper\" finished abruptly ({run_summary.stderr})'"
   ]
  }
 ],
 "metadata": {
  "kernelspec": {
   "display_name": "Python 3",
   "language": "python",
   "name": "python3"
  }
 },
 "nbformat": 4,
 "nbformat_minor": 4
}
