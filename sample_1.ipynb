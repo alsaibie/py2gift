{
 "cells": [
  {
   "cell_type": "code",
   "execution_count": null,
   "metadata": {},
   "outputs": [],
   "source": [
    "import json\n",
    "\n",
    "import py2gift.question\n",
    "import py2gift.input_file\n",
    "import py2gift.notebook\n",
    "import py2gift.core\n",
    "\n",
    "import numpy as np"
   ]
  },
  {
   "cell_type": "markdown",
   "metadata": {},
   "source": [
    "# General settings"
   ]
  },
  {
   "cell_type": "markdown",
   "metadata": {},
   "source": [
    "A settings manager object (with default options)"
   ]
  },
  {
   "cell_type": "code",
   "execution_count": null,
   "metadata": {},
   "outputs": [],
   "source": [
    "settings = py2gift.input_file.Settings()"
   ]
  },
  {
   "cell_type": "markdown",
   "metadata": {},
   "source": [
    "How many versions of a question are to be generated"
   ]
  },
  {
   "cell_type": "code",
   "execution_count": null,
   "metadata": {},
   "outputs": [],
   "source": [
    "n_instances = 2"
   ]
  },
  {
   "cell_type": "markdown",
   "metadata": {},
   "source": [
    "# Question 1"
   ]
  },
  {
   "cell_type": "markdown",
   "metadata": {},
   "source": [
    "The estimated duration of the question"
   ]
  },
  {
   "cell_type": "code",
   "execution_count": null,
   "metadata": {},
   "outputs": [],
   "source": [
    "time = 12"
   ]
  },
  {
   "cell_type": "markdown",
   "metadata": {},
   "source": [
    "We need to specify\n",
    "* the name of the Python class that implements this question\n",
    "* the category to which the question will belong inside the *Moodle*'s question bank\n",
    "* the *base* name for the question: several versions of the same question will be created, and they will be named \"\\<*question base name*\\> \\<*number of version in Roman numbers*\\>\". For instance, if the *question base name* is \"Foo\", we will get questions \"Foo I\", \"Foo II\",..."
   ]
  },
  {
   "cell_type": "markdown",
   "metadata": {},
   "source": [
    "**Caveat**: the variables below are used by `%%statement` and `%%feedback` *magics* to know what to modify (they determine the *context*). So, when moving back and forth between questions (up and down in the jupyter notebook), one should at least re-run the cell below before modifying anything in the corresponding question."
   ]
  },
  {
   "cell_type": "code",
   "execution_count": null,
   "metadata": {},
   "outputs": [],
   "source": [
    "class_name = 'Question1'\n",
    "category_name = 'Cat 1'\n",
    "question_base_name='Toy question'"
   ]
  },
  {
   "cell_type": "markdown",
   "metadata": {},
   "source": [
    "The category is *registered* in the settings object"
   ]
  },
  {
   "cell_type": "code",
   "execution_count": null,
   "metadata": {},
   "outputs": [],
   "source": [
    "category_name = settings.add_category(category_name=category_name)"
   ]
  },
  {
   "cell_type": "markdown",
   "metadata": {},
   "source": [
    "The question is registered in the newly-created category"
   ]
  },
  {
   "cell_type": "code",
   "execution_count": null,
   "metadata": {},
   "outputs": [],
   "source": [
    "settings.add_or_update_class(\n",
    "    category_name=category_name, class_name=class_name, question_base_name=question_base_name,\n",
    "    n_instances=n_instances, time=time)"
   ]
  },
  {
   "cell_type": "markdown",
   "metadata": {},
   "source": [
    "The statement of the question is entered through an *ipython* magic since it allows to capture freely-typed text. In principle, the text can be anything but if you want different versions of the same question, it should contain some *variables* that will be filled by Python code. These variables are prefixed by `!`."
   ]
  },
  {
   "cell_type": "code",
   "execution_count": null,
   "metadata": {},
   "outputs": [],
   "source": [
    "%%statement settings --cls {class_name} --category {json.dumps(category_name)}\n",
    "What is the product of !factors?"
   ]
  },
  {
   "cell_type": "code",
   "execution_count": null,
   "metadata": {},
   "outputs": [],
   "source": [
    "%%feedback  settings --cls {class_name} --category {json.dumps(category_name)}\n",
    "Since blah blah"
   ]
  },
  {
   "cell_type": "markdown",
   "metadata": {},
   "source": [
    "The class implementing the question is defined. It should inherit from one of the classes in module `py2gift.question`:\n",
    "* `py2gift.question.MultipleChoiceQuestionGenerator`: for multiple-choice questions\n",
    "* `py2gift.question.NumericalQuestionGenerator`: for numerical-answer questions\n",
    "\n",
    "The only mandatory method the new class must define is `setup`. Its purpose is to fill in the *blanks* in both the `statement` and `feedback` of the question by calling, respectively, `self.statement.fill` and `self.feedback.fill`. Also, it should provide:\n",
    "* the solution and error tolerance for `py2gift.question.NumericalQuestionGenerator`: one should set `self.solution` to some **number** and `self.error` to either a **number or a string indicating a percentage**\n",
    "* the right answer along with the wrong ones for `py2gift.question.MultipleChoiceQuestionGenerator`:"
   ]
  },
  {
   "cell_type": "code",
   "execution_count": null,
   "metadata": {},
   "outputs": [],
   "source": [
    "class Question1(py2gift.question.NumericalQuestionGenerator):\n",
    "    \n",
    "    def setup(self):\n",
    "        \n",
    "        factors = np.random.rand(4)\n",
    "        \n",
    "        self.statement.fill(factors='foo')\n",
    "        \n",
    "        self.solution = 42\n",
    "        self.error = '10%'"
   ]
  },
  {
   "cell_type": "code",
   "execution_count": null,
   "metadata": {},
   "outputs": [],
   "source": [
    "py2gift.util.render_latex(py2gift.core.generator_to_markdown(\n",
    "    settings.to_dict(), category_name, getattr(settings.fake_module, class_name)))"
   ]
  }
 ],
 "metadata": {
  "kernelspec": {
   "display_name": "Python 3",
   "language": "python",
   "name": "python3"
  }
 },
 "nbformat": 4,
 "nbformat_minor": 4
}
