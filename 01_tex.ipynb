{
 "cells": [
  {
   "cell_type": "code",
   "execution_count": null,
   "metadata": {},
   "outputs": [],
   "source": [
    "# default_exp tex"
   ]
  },
  {
   "cell_type": "code",
   "execution_count": null,
   "metadata": {},
   "outputs": [],
   "source": [
    "# hide\n",
    "from py2gift.util import render_latex"
   ]
  },
  {
   "cell_type": "code",
   "execution_count": null,
   "metadata": {},
   "outputs": [],
   "source": [
    "# export\n",
    "from typing import Union, Iterable\n",
    "\n",
    "import numpy as np\n",
    "\n",
    "from py2gift.util import to_formula_maybe"
   ]
  },
  {
   "cell_type": "markdown",
   "metadata": {},
   "source": [
    "# TeX\n",
    "\n",
    "> A collection of functions to ease the inclusion of TeX strings in Python source code"
   ]
  },
  {
   "cell_type": "markdown",
   "metadata": {},
   "source": [
    "# Definitions of functions"
   ]
  },
  {
   "cell_type": "markdown",
   "metadata": {},
   "source": [
    "## Gaussian pdf"
   ]
  },
  {
   "cell_type": "code",
   "execution_count": null,
   "metadata": {},
   "outputs": [],
   "source": [
    "# export\n",
    "@to_formula_maybe\n",
    "def gaussian_pdf(x: str = 'x', mean: str = r'\\mu', variance: str = r'\\sigma^2') -> str:\n",
    "    \"\"\"\n",
    "        Returns a string representing the probability density function for a Gaussian distribution.\n",
    "    \"\"\"\n",
    "\n",
    "    return r'\\frac{1}{\\sqrt{2\\pi ' + variance + r'}}e^{-\\frac{(' + x + '-' + mean + r')^2}{2' + variance + r'}}'"
   ]
  },
  {
   "cell_type": "markdown",
   "metadata": {},
   "source": [
    "With no arguments, it yields the usual formula,"
   ]
  },
  {
   "cell_type": "code",
   "execution_count": null,
   "metadata": {},
   "outputs": [],
   "source": [
    "render_latex(gaussian_pdf(to_formula=True))"
   ]
  },
  {
   "cell_type": "markdown",
   "metadata": {},
   "source": [
    "The arguments allow to use different symbols for the random variable, the mean and the variance"
   ]
  },
  {
   "cell_type": "code",
   "execution_count": null,
   "metadata": {},
   "outputs": [],
   "source": [
    "render_latex(gaussian_pdf(x=\"n\", mean=\"m\", variance=\"v\", to_formula=True))"
   ]
  },
  {
   "cell_type": "markdown",
   "metadata": {},
   "source": [
    "## Q-function"
   ]
  },
  {
   "cell_type": "code",
   "execution_count": null,
   "metadata": {},
   "outputs": [],
   "source": [
    "# export\n",
    "@to_formula_maybe\n",
    "def q_function_approximation(x: str = 'x') -> str:\n",
    "    \"\"\"\n",
    "    Returns a string representing the Stirling approximation.\n",
    "    \"\"\"\n",
    "\n",
    "    return f'Q({x}) \\\\approx \\\\frac{{1}}{{2}} e^{{-\\\\frac{{{x}^2}}{{2}}}}'"
   ]
  },
  {
   "cell_type": "markdown",
   "metadata": {},
   "source": [
    "With no arguments, the argument is $x$"
   ]
  },
  {
   "cell_type": "code",
   "execution_count": null,
   "metadata": {},
   "outputs": [],
   "source": [
    "render_latex(q_function_approximation(to_formula=True))"
   ]
  },
  {
   "cell_type": "markdown",
   "metadata": {},
   "source": [
    "but a specific variable can be passed"
   ]
  },
  {
   "cell_type": "code",
   "execution_count": null,
   "metadata": {},
   "outputs": [],
   "source": [
    "render_latex(q_function_approximation('t', to_formula=True))"
   ]
  },
  {
   "cell_type": "markdown",
   "metadata": {},
   "source": [
    "# Number"
   ]
  },
  {
   "cell_type": "code",
   "execution_count": null,
   "metadata": {},
   "outputs": [],
   "source": [
    "@to_formula_maybe\n",
    "def from_number(n: Union[int, float], prefix: str = '', precision: int = 3) -> str:\n",
    "    \"\"\"\n",
    "    Returns a string for a given number.\n",
    "    \"\"\"\n",
    "\n",
    "    if (type(n) == float) or (type(n) == np.float64):\n",
    "\n",
    "        format_specifier = f'.{precision}f'\n",
    "\n",
    "        return f'{prefix}{n:{format_specifier}}'\n",
    "\n",
    "    else:\n",
    "\n",
    "        return f'{n}'"
   ]
  },
  {
   "cell_type": "markdown",
   "metadata": {},
   "source": [
    "Valid for both floating point numbers,"
   ]
  },
  {
   "cell_type": "code",
   "execution_count": null,
   "metadata": {},
   "outputs": [],
   "source": [
    "render_latex(from_number(2.3, to_formula=True))"
   ]
  },
  {
   "cell_type": "markdown",
   "metadata": {},
   "source": [
    "and integers"
   ]
  },
  {
   "cell_type": "code",
   "execution_count": null,
   "metadata": {},
   "outputs": [],
   "source": [
    "render_latex(from_number(3, to_formula=True))"
   ]
  },
  {
   "cell_type": "markdown",
   "metadata": {},
   "source": [
    "# Matrix/vector"
   ]
  },
  {
   "cell_type": "code",
   "execution_count": null,
   "metadata": {},
   "outputs": [],
   "source": [
    "@to_formula_maybe\n",
    "def from_matrix(m: Union[list, np.ndarray]) -> str:\n",
    "    \"\"\"\n",
    "    Returns a string for a given array or matrix.\n",
    "    \"\"\"\n",
    "\n",
    "    if isinstance(m[0], (list, np.ndarray)):\n",
    "\n",
    "        return r'\\begin{bmatrix}' + r' \\\\ '.join(\n",
    "            [(r' & '.join([f'{e:.3f}' for e in row])) for row in m]) + r'\\end{bmatrix}'\n",
    "\n",
    "    else:\n",
    "        return r'\\begin{bmatrix}' + r' & '.join([f'{e:.3f}' for e in m]) + r'\\end{bmatrix}'"
   ]
  },
  {
   "cell_type": "markdown",
   "metadata": {},
   "source": [
    "This can be applied on lists"
   ]
  },
  {
   "cell_type": "code",
   "execution_count": null,
   "metadata": {},
   "outputs": [],
   "source": [
    "render_latex(from_matrix([1, 2, 3], to_formula=True))"
   ]
  },
  {
   "cell_type": "markdown",
   "metadata": {},
   "source": [
    "or matrices"
   ]
  },
  {
   "cell_type": "code",
   "execution_count": null,
   "metadata": {},
   "outputs": [],
   "source": [
    "render_latex(from_matrix(np.array([[1.11, 3.14], [14.2, 5.1]]), to_formula=True))"
   ]
  },
  {
   "cell_type": "code",
   "execution_count": null,
   "metadata": {},
   "outputs": [],
   "source": [
    "render_latex(from_matrix(np.array([14.2, 5.1]), to_formula=True))"
   ]
  },
  {
   "cell_type": "markdown",
   "metadata": {},
   "source": [
    "## Integer matrix"
   ]
  },
  {
   "cell_type": "code",
   "execution_count": null,
   "metadata": {},
   "outputs": [],
   "source": [
    "@to_formula_maybe\n",
    "def from_integer_matrix(m: Iterable) -> str:\n",
    "    \"\"\"\n",
    "    Returns a string for a given matrix of integers\n",
    "    \"\"\"\n",
    "\n",
    "    return r'\\begin{bmatrix}' + r' \\\\ '.join([(r' & '.join([f'{e:d}' for e in row])) for row in m]) + r'\\end{bmatrix}'"
   ]
  },
  {
   "cell_type": "code",
   "execution_count": null,
   "metadata": {},
   "outputs": [],
   "source": [
    "render_latex(from_integer_matrix(np.array([[1, 3], [4, 5]]), to_formula=True))"
   ]
  }
 ],
 "metadata": {
  "kernelspec": {
   "display_name": "Python 3",
   "language": "python",
   "name": "python3"
  }
 },
 "nbformat": 4,
 "nbformat_minor": 4
}
