{
 "cells": [
  {
   "cell_type": "code",
   "execution_count": null,
   "metadata": {},
   "outputs": [],
   "source": [
    "# default_exp tex"
   ]
  },
  {
   "cell_type": "markdown",
   "metadata": {},
   "source": [
    "# TeX\n",
    "\n",
    "> A collection of functions to ease the inclusion of TeX strings in Python source code."
   ]
  },
  {
   "cell_type": "code",
   "execution_count": null,
   "metadata": {},
   "outputs": [],
   "source": [
    "# hide\n",
    "from py2gift.util import render_latex"
   ]
  },
  {
   "cell_type": "code",
   "execution_count": null,
   "metadata": {},
   "outputs": [],
   "source": [
    "# export\n",
    "\n",
    "from typing import Union, Iterable, List, Optional\n",
    "\n",
    "import numpy as np\n",
    "\n",
    "from py2gift.util import to_formula_maybe"
   ]
  },
  {
   "cell_type": "markdown",
   "metadata": {},
   "source": [
    "# Convenience functions"
   ]
  },
  {
   "cell_type": "markdown",
   "metadata": {},
   "source": [
    "Enumerates the strings in a list, optionally enclosing every element between `$`s."
   ]
  },
  {
   "cell_type": "code",
   "execution_count": null,
   "metadata": {},
   "outputs": [],
   "source": [
    "# export\n",
    "\n",
    "def join(strings_list: List[str], nexus: str = 'and', to_formula: bool = True):\n",
    "    \"\"\"\n",
    "    Encloses every element in a list between `$`s and returns a string enumerating them.\n",
    "    \"\"\"\n",
    "    \n",
    "    if to_formula:\n",
    "        \n",
    "        delimiter = '$'\n",
    "    \n",
    "    else:\n",
    "        \n",
    "        delimiter = ''\n",
    "    \n",
    "    return delimiter + f'{delimiter}, {delimiter}'.join(strings_list[:-1]) + f'{delimiter} {nexus} {delimiter}{strings_list[-1]}{delimiter}'"
   ]
  },
  {
   "cell_type": "code",
   "execution_count": null,
   "metadata": {},
   "outputs": [],
   "source": [
    "render_latex(join(['a', 'b', 'c']))"
   ]
  },
  {
   "cell_type": "code",
   "execution_count": null,
   "metadata": {},
   "outputs": [],
   "source": [
    "render_latex(join(['a', 'b', 'c'], nexus='y'))"
   ]
  },
  {
   "cell_type": "code",
   "execution_count": null,
   "metadata": {},
   "outputs": [],
   "source": [
    "render_latex(join(['2', '\\sigma']))"
   ]
  },
  {
   "cell_type": "markdown",
   "metadata": {},
   "source": [
    "# Definitions of functions"
   ]
  },
  {
   "cell_type": "markdown",
   "metadata": {},
   "source": [
    "*Customizable* mathematical functions."
   ]
  },
  {
   "cell_type": "markdown",
   "metadata": {},
   "source": [
    "## Gaussian pdf"
   ]
  },
  {
   "cell_type": "code",
   "execution_count": null,
   "metadata": {},
   "outputs": [],
   "source": [
    "# export\n",
    "\n",
    "@to_formula_maybe\n",
    "def gaussian_pdf(x: str = 'x', mean: str = r'\\mu', variance: str = r'\\sigma^2') -> str:\n",
    "    \"\"\"\n",
    "    Returns a string representing the probability density function for a Gaussian distribution.\n",
    "    \"\"\"\n",
    "\n",
    "    return r'\\frac{1}{\\sqrt{2\\pi ' + variance + r'}}e^{-\\frac{(' + x + '-' + mean + r')^2}{2' + variance + r'}}'"
   ]
  },
  {
   "cell_type": "markdown",
   "metadata": {},
   "source": [
    "With no arguments, it yields the usual formula,"
   ]
  },
  {
   "cell_type": "code",
   "execution_count": null,
   "metadata": {},
   "outputs": [],
   "source": [
    "render_latex(gaussian_pdf(to_formula=True))"
   ]
  },
  {
   "cell_type": "markdown",
   "metadata": {},
   "source": [
    "The arguments allow to use different symbols for the random variable, the mean and the variance"
   ]
  },
  {
   "cell_type": "code",
   "execution_count": null,
   "metadata": {},
   "outputs": [],
   "source": [
    "render_latex(gaussian_pdf(x=\"n\", mean=\"m\", variance=\"v\", to_formula=True))"
   ]
  },
  {
   "cell_type": "markdown",
   "metadata": {},
   "source": [
    "## Q-function"
   ]
  },
  {
   "cell_type": "markdown",
   "metadata": {},
   "source": [
    "## Stirling's approximation"
   ]
  },
  {
   "cell_type": "code",
   "execution_count": null,
   "metadata": {},
   "outputs": [],
   "source": [
    "# export\n",
    "\n",
    "@to_formula_maybe\n",
    "def q_function_approximation(x: str = 'x') -> str:\n",
    "    \"\"\"\n",
    "    Returns a string representing the Stirling approximation.\n",
    "    \"\"\"\n",
    "\n",
    "    return f'Q({x}) \\\\approx \\\\frac{{1}}{{2}} e^{{-\\\\frac{{{x}^2}}{{2}}}}'"
   ]
  },
  {
   "cell_type": "markdown",
   "metadata": {},
   "source": [
    "With no arguments, the argument is $x$"
   ]
  },
  {
   "cell_type": "code",
   "execution_count": null,
   "metadata": {},
   "outputs": [],
   "source": [
    "render_latex(q_function_approximation(to_formula=True))"
   ]
  },
  {
   "cell_type": "markdown",
   "metadata": {},
   "source": [
    "but a specific variable can be passed"
   ]
  },
  {
   "cell_type": "code",
   "execution_count": null,
   "metadata": {},
   "outputs": [],
   "source": [
    "render_latex(q_function_approximation('t', to_formula=True))"
   ]
  },
  {
   "cell_type": "markdown",
   "metadata": {},
   "source": [
    "# Numbers"
   ]
  },
  {
   "cell_type": "markdown",
   "metadata": {},
   "source": [
    "Utilities to turn numbers (or collections thereof) into $\\LaTeX$ source code."
   ]
  },
  {
   "cell_type": "code",
   "execution_count": null,
   "metadata": {},
   "outputs": [],
   "source": [
    "# export\n",
    "\n",
    "@to_formula_maybe\n",
    "def from_number(n: Union[int, float], prefix: str = '', precision: int = 3) -> str:\n",
    "    \"\"\"\n",
    "    Returns a string for a given number.\n",
    "    \"\"\"\n",
    "\n",
    "    if (type(n) == float) or (type(n) == np.float64):\n",
    "\n",
    "        format_specifier = f'.{precision}f'\n",
    "\n",
    "        return f'{prefix}{n:{format_specifier}}'\n",
    "\n",
    "    else:\n",
    "\n",
    "        return f'{n}'"
   ]
  },
  {
   "cell_type": "markdown",
   "metadata": {},
   "source": [
    "`from_number` turns an integer or a float number into valid $\\LaTeX$ code"
   ]
  },
  {
   "cell_type": "markdown",
   "metadata": {},
   "source": [
    "* `n` is a float or integer number\n",
    "* `prefix` is a string to be *prepended* to the number\n",
    "* `precision` is the number of decimal places (ignored if the number is an integer)"
   ]
  },
  {
   "cell_type": "markdown",
   "metadata": {},
   "source": [
    "Valid for both floating point numbers,"
   ]
  },
  {
   "cell_type": "code",
   "execution_count": null,
   "metadata": {},
   "outputs": [],
   "source": [
    "render_latex(from_number(2.3, to_formula=True))"
   ]
  },
  {
   "cell_type": "markdown",
   "metadata": {},
   "source": [
    "and integers"
   ]
  },
  {
   "cell_type": "code",
   "execution_count": null,
   "metadata": {},
   "outputs": [],
   "source": [
    "render_latex(from_number(3, to_formula=True))"
   ]
  },
  {
   "cell_type": "markdown",
   "metadata": {},
   "source": [
    "If the number is an integer, `precision` parameter is ignored"
   ]
  },
  {
   "cell_type": "code",
   "execution_count": null,
   "metadata": {},
   "outputs": [],
   "source": [
    "render_latex(from_number(42, precision=6, to_formula=True))"
   ]
  },
  {
   "cell_type": "markdown",
   "metadata": {},
   "source": [
    "## Matrix/vector"
   ]
  },
  {
   "cell_type": "markdown",
   "metadata": {},
   "source": [
    "Functions to turn a matrix or vector into $\\LaTeX$ source code."
   ]
  },
  {
   "cell_type": "code",
   "execution_count": null,
   "metadata": {},
   "outputs": [],
   "source": [
    "# export\n",
    "\n",
    "@to_formula_maybe\n",
    "def from_matrix(m: Union[list, np.ndarray], float_point_precision: int = 3) -> str:\n",
    "    \"\"\"\n",
    "    Returns a string for a given array or matrix.\n",
    "    \"\"\"\n",
    "    \n",
    "    format_from_number = lambda x: f'.{float_point_precision}f' if (type(x) == np.float64) or (type(x) == float) else f'd'\n",
    "\n",
    "    if isinstance(m[0], (list, np.ndarray)):\n",
    "\n",
    "        return r'\\begin{bmatrix}' + r' \\\\ '.join(\n",
    "            [(r' & '.join([f'{e:{format_from_number(m[0][0])}}' for e in row])) for row in m]) + r'\\end{bmatrix}'\n",
    "\n",
    "    else:\n",
    "        \n",
    "        return r'\\begin{bmatrix}' + r' & '.join([f'{e:{format_from_number(m[0])}}' for e in m]) + r'\\end{bmatrix}'"
   ]
  },
  {
   "cell_type": "markdown",
   "metadata": {},
   "source": [
    "`from_matrix` returns $\\LaTeX$ source code for a list or `np.ndarray`"
   ]
  },
  {
   "cell_type": "markdown",
   "metadata": {},
   "source": [
    "This can be applied on lists"
   ]
  },
  {
   "cell_type": "code",
   "execution_count": null,
   "metadata": {},
   "outputs": [],
   "source": [
    "render_latex(from_matrix([1, 2, 3], to_formula=True) + ',')"
   ]
  },
  {
   "cell_type": "markdown",
   "metadata": {},
   "source": [
    "or numpy arrays, both *2D*"
   ]
  },
  {
   "cell_type": "code",
   "execution_count": null,
   "metadata": {},
   "outputs": [],
   "source": [
    "render_latex(from_matrix(np.array([[1.11, 3.14], [14.2, 5.1]]), to_formula=True) + ',')"
   ]
  },
  {
   "cell_type": "markdown",
   "metadata": {},
   "source": [
    "and *1D*"
   ]
  },
  {
   "cell_type": "code",
   "execution_count": null,
   "metadata": {},
   "outputs": [],
   "source": [
    "render_latex(from_matrix(np.array([14.2, 5.1]), to_formula=True))"
   ]
  },
  {
   "cell_type": "markdown",
   "metadata": {},
   "source": [
    "If the numbers are integers, that is taken into account:"
   ]
  },
  {
   "cell_type": "code",
   "execution_count": null,
   "metadata": {},
   "outputs": [],
   "source": [
    "render_latex(from_matrix(np.array([[1, 3], [4, 5]]), to_formula=True))"
   ]
  },
  {
   "cell_type": "code",
   "execution_count": null,
   "metadata": {},
   "outputs": [],
   "source": [
    "render_latex(from_matrix(np.array([14, 5]), to_formula=True))"
   ]
  },
  {
   "cell_type": "code",
   "execution_count": null,
   "metadata": {},
   "outputs": [],
   "source": [
    "render_latex(from_matrix([1, 2], to_formula=True))"
   ]
  },
  {
   "cell_type": "markdown",
   "metadata": {},
   "source": [
    "# Operations"
   ]
  },
  {
   "cell_type": "markdown",
   "metadata": {},
   "source": [
    "## Dot product"
   ]
  },
  {
   "cell_type": "markdown",
   "metadata": {},
   "source": [
    "Builds a string for the dot product of two vectors, regardless of whether they are symbols or numbers.\n",
    "* `lhs_template` is a string with a [replacement field](https://docs.python.org/3/library/string.html#format-string-syntax) that will be replaced by one of the corresponding elements in...\n",
    "* `rhs` is a list of `float`s\n",
    "* `rhs_template` is a string with a [replacement field](https://docs.python.org/3/library/string.html#format-string-syntax) that will be replaced by one of the corresponding elements in...\n",
    "* `rhs` is a list of `float`s"
   ]
  },
  {
   "cell_type": "code",
   "execution_count": null,
   "metadata": {},
   "outputs": [],
   "source": [
    "# export\n",
    "\n",
    "@to_formula_maybe\n",
    "def dot_product(lhs_template: str, lhs: list, rhs_template: str, rhs: list, product_operator = '') -> str:\n",
    "    \n",
    "    return '+'.join([lhs_template.format(l) + product_operator + rhs_template.format(r) for l,r in zip(lhs, rhs)])"
   ]
  },
  {
   "cell_type": "code",
   "execution_count": null,
   "metadata": {},
   "outputs": [],
   "source": [
    "render_latex(dot_product('p(y_1|x_{})', [1, 2], 'p(x_{})', [1,2], to_formula=True))"
   ]
  },
  {
   "cell_type": "code",
   "execution_count": null,
   "metadata": {},
   "outputs": [],
   "source": [
    "render_latex(dot_product('{}', [0.1, 0.2], '{}', [0.75, 0.9], product_operator=r'\\cdot', to_formula=True))"
   ]
  },
  {
   "cell_type": "markdown",
   "metadata": {},
   "source": [
    "## Law of total probability"
   ]
  },
  {
   "cell_type": "code",
   "execution_count": null,
   "metadata": {},
   "outputs": [],
   "source": [
    "# export\n",
    "\n",
    "@to_formula_maybe\n",
    "def total_probability(fixed_symbol: str, varying_symbol_template: str, n: int, start_at: int = 1) -> str:\n",
    "    \n",
    "    return '+'.join([f'p({fixed_symbol},{varying_symbol_template.format(i)})' for i in range(start_at, start_at+n)])"
   ]
  },
  {
   "cell_type": "code",
   "execution_count": null,
   "metadata": {},
   "outputs": [],
   "source": [
    "render_latex(total_probability('x_1', 'y_{}', 3, to_formula=True))"
   ]
  },
  {
   "cell_type": "markdown",
   "metadata": {},
   "source": [
    "Starting at a different index"
   ]
  },
  {
   "cell_type": "code",
   "execution_count": null,
   "metadata": {},
   "outputs": [],
   "source": [
    "render_latex(total_probability('x_1', 'y_{}', 3, start_at=3, to_formula=True))"
   ]
  },
  {
   "cell_type": "markdown",
   "metadata": {},
   "source": [
    "# Enumerations"
   ]
  },
  {
   "cell_type": "markdown",
   "metadata": {},
   "source": [
    "Given a list of `float`s,  `enumerate_math` builds a $\\TeX$ string in which the value of each one is printed after (optionally) being assigned to an indexed variable that follows a given pattern.\n",
    "\n",
    "* `numbers_list` is a list of `float`s\n",
    "* `assigned_to` is a string with a [replacement field](https://docs.python.org/3/library/string.html#format-string-syntax). This means that any `{` or `}` must be escaped by doubling it.\n",
    "* `precision` is the number of decimal places"
   ]
  },
  {
   "cell_type": "code",
   "execution_count": null,
   "metadata": {},
   "outputs": [],
   "source": [
    "# export\n",
    "\n",
    "def enumerate_math(\n",
    "    numbers_list: List[float], assigned_to: Optional[str] = None, nexus: str = 'and', precision: int = 3, start_at: int = 1) -> str:\n",
    "    \"\"\"\n",
    "    Returns a string for a enumeration of formulas.\n",
    "    \"\"\"\n",
    "\n",
    "    format_specifier = f'.{precision}f'\n",
    "\n",
    "    strings_list = [f'{e:{format_specifier}}' for e in numbers_list]\n",
    "\n",
    "    if assigned_to:\n",
    "\n",
    "        strings_list = [assigned_to.format(i_s) + ' = ' + s for i_s, s in enumerate(strings_list, start_at)]\n",
    "    \n",
    "    return join(strings_list, nexus=nexus)"
   ]
  },
  {
   "cell_type": "markdown",
   "metadata": {},
   "source": [
    "Using the optional `assigned_to` arguement,"
   ]
  },
  {
   "cell_type": "code",
   "execution_count": null,
   "metadata": {},
   "outputs": [],
   "source": [
    "render_latex(enumerate_math([0.7, 0.9], assigned_to='w_t^{{({})}}'))"
   ]
  },
  {
   "cell_type": "markdown",
   "metadata": {},
   "source": [
    "and without it"
   ]
  },
  {
   "cell_type": "code",
   "execution_count": null,
   "metadata": {},
   "outputs": [],
   "source": [
    "render_latex(enumerate_math([0.7, 0.9]))"
   ]
  },
  {
   "cell_type": "markdown",
   "metadata": {},
   "source": [
    "Starting at a different index on the left-hand-side"
   ]
  },
  {
   "cell_type": "code",
   "execution_count": null,
   "metadata": {},
   "outputs": [],
   "source": [
    "render_latex(enumerate_math([0.7, 0.9], assigned_to='w_t^{{({})}}', start_at=2))"
   ]
  },
  {
   "cell_type": "markdown",
   "metadata": {},
   "source": [
    "---"
   ]
  },
  {
   "cell_type": "markdown",
   "metadata": {},
   "source": [
    "`enumerate_assignments` constructs a enumeration of assignments from left-hand-side and right-hand-side templates and right-hand-side values. It's similar to `enumerate_math` when the argument `assigned_to` is passed to the latter, but more general since the right-hand expression is also obtained from a template.\n",
    "\n",
    "* `lhs_template` is a string with a [replacement field](https://docs.python.org/3/library/string.html#format-string-syntax) that will be replaced by an **index**\n",
    "* `rhs_template` is a string with a [replacement field](https://docs.python.org/3/library/string.html#format-string-syntax) that will be replaced by one of the corresponding elements in `rhs`\n",
    "* `rhs` is a list of `float`s"
   ]
  },
  {
   "cell_type": "code",
   "execution_count": null,
   "metadata": {},
   "outputs": [],
   "source": [
    "# export\n",
    "\n",
    "def enumerate_assignments(\n",
    "    lhs_template: str, rhs_template: str, rhs: List[float], nexus: str = 'and', precision: int = 3, start_at: int = 1) -> str:\n",
    "    \"\"\"\n",
    "    Returns a string for a enumeration of formulas.\n",
    "    \"\"\"\n",
    "    \n",
    "    return join([f'{lhs_template} = {rhs_template}'.format(i, r) for i, r in enumerate(rhs, start_at)])"
   ]
  },
  {
   "cell_type": "code",
   "execution_count": null,
   "metadata": {},
   "outputs": [],
   "source": [
    "render_latex(enumerate_assignments('s_{}', '{}', [1.3,4.1]))"
   ]
  },
  {
   "cell_type": "code",
   "execution_count": null,
   "metadata": {},
   "outputs": [],
   "source": [
    "render_latex(enumerate_assignments('s_{}', '2^{{{}}}', [1.3,4.1], start_at=4))"
   ]
  },
  {
   "cell_type": "markdown",
   "metadata": {},
   "source": [
    "---"
   ]
  },
  {
   "cell_type": "code",
   "execution_count": null,
   "metadata": {},
   "outputs": [],
   "source": [
    "# export\n",
    "\n",
    "def expand(template: str, n: int, to_math: bool = False, nexus: str = 'and', start_at: int = 1) -> str:\n",
    "    \"\"\"\n",
    "    Expand a symbol according to a pattern.\n",
    "\n",
    "    >>> util.expand('s_{}', 3, True)\n",
    "    '$s_1$, $s_2$ and $s_3$'\n",
    "\n",
    "    Parameters\n",
    "    ----------\n",
    "    template : str\n",
    "        String with a *single* replacement field ({})\n",
    "    n : int\n",
    "        Requested number of terms\n",
    "    to_math : bool\n",
    "        If `True`, every output term is enclosed between $'s\n",
    "    nexus : str\n",
    "        String joining the second to last and last terms.\n",
    "    start_at: int\n",
    "        The number at which indexes start.\n",
    "\n",
    "    Returns\n",
    "    -------\n",
    "\n",
    "    \"\"\"\n",
    "    \n",
    "    return join([template.format(i) for i in range(start_at, start_at + n)], to_formula=to_math)\n",
    "\n",
    "assert expand('s_{}', 3, True) == '$s_1$, $s_2$ and $s_3$'"
   ]
  },
  {
   "cell_type": "code",
   "execution_count": null,
   "metadata": {},
   "outputs": [],
   "source": [
    "render_latex(expand('s_{}', 3, True))"
   ]
  }
 ],
 "metadata": {
  "kernelspec": {
   "display_name": "Python 3",
   "language": "python",
   "name": "python3"
  }
 },
 "nbformat": 4,
 "nbformat_minor": 4
}
