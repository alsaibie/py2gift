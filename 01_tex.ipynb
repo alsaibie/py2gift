{
 "cells": [
  {
   "cell_type": "code",
   "execution_count": null,
   "metadata": {},
   "outputs": [],
   "source": [
    "# default_exp tex"
   ]
  },
  {
   "cell_type": "code",
   "execution_count": null,
   "metadata": {},
   "outputs": [],
   "source": [
    "# hide\n",
    "from py2gift.util import render_latex"
   ]
  },
  {
   "cell_type": "code",
   "execution_count": null,
   "metadata": {},
   "outputs": [],
   "source": [
    "# export\n",
    "#from py2gift.util import render_latex, to_formula_maybe\n",
    "from py2gift.util import to_formula_maybe"
   ]
  },
  {
   "cell_type": "markdown",
   "metadata": {},
   "source": [
    "# TeX\n",
    "\n",
    "> A collection of functions to ease the inclusion of TeX strings in Python source code"
   ]
  },
  {
   "cell_type": "markdown",
   "metadata": {},
   "source": [
    "# Definitions of functions"
   ]
  },
  {
   "cell_type": "code",
   "execution_count": null,
   "metadata": {},
   "outputs": [],
   "source": [
    "# export\n",
    "@to_formula_maybe\n",
    "def gaussian_pdf(x: str = 'x', mean: str = r'\\mu', variance: str = r'\\sigma^2') -> str:\n",
    "\n",
    "    return r'\\frac{1}{\\sqrt{2\\pi ' + variance + r'}}e^{-\\frac{(' + x + '-' + mean + r')^2}{2' + variance + r'}}'"
   ]
  },
  {
   "cell_type": "markdown",
   "metadata": {},
   "source": [
    "With no arguments, it yields the usual formula,"
   ]
  },
  {
   "cell_type": "code",
   "execution_count": null,
   "metadata": {},
   "outputs": [],
   "source": [
    "render_latex(gaussian_pdf(to_formula=True))"
   ]
  },
  {
   "cell_type": "markdown",
   "metadata": {},
   "source": [
    "The arguments allow to use different symbols for the random variable, the mean and the variance"
   ]
  },
  {
   "cell_type": "code",
   "execution_count": null,
   "metadata": {},
   "outputs": [],
   "source": [
    "render_latex(gaussian_pdf(x=\"n\", mean=\"m\", variance=\"v\", to_formula=True))"
   ]
  }
 ],
 "metadata": {
  "kernelspec": {
   "display_name": "Python 3",
   "language": "python",
   "name": "python3"
  }
 },
 "nbformat": 4,
 "nbformat_minor": 4
}
