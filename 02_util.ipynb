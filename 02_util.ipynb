{
 "cells": [
  {
   "cell_type": "code",
   "execution_count": null,
   "metadata": {},
   "outputs": [],
   "source": [
    "# default_exp util"
   ]
  },
  {
   "cell_type": "code",
   "execution_count": null,
   "metadata": {},
   "outputs": [],
   "source": [
    "# export\n",
    "\n",
    "import pathlib\n",
    "\n",
    "import IPython.display"
   ]
  },
  {
   "cell_type": "code",
   "execution_count": null,
   "metadata": {},
   "outputs": [],
   "source": [
    "# export\n",
    "def render_latex(formula: str) -> str:\n",
    "    \n",
    "    assert formula[0] == '$'\n",
    "    \n",
    "    return IPython.display.Markdown(r'$\\Large ' + formula[1:])"
   ]
  },
  {
   "cell_type": "markdown",
   "metadata": {},
   "source": [
    "A decorator"
   ]
  },
  {
   "cell_type": "code",
   "execution_count": null,
   "metadata": {},
   "outputs": [],
   "source": [
    "# export\n",
    "def to_formula_maybe(func):\n",
    "    \n",
    "    def wrapper(*args, **kwargs):\n",
    "        \n",
    "        if ('to_formula' in kwargs) and (kwargs['to_formula']):\n",
    "            \n",
    "            kwargs.pop('to_formula')\n",
    "            \n",
    "            return f'${func(*args, **kwargs)}$'\n",
    "        \n",
    "        else:\n",
    "            \n",
    "            return func(*args, **kwargs)\n",
    "    return wrapper"
   ]
  },
  {
   "cell_type": "markdown",
   "metadata": {},
   "source": [
    "# Assorted"
   ]
  },
  {
   "cell_type": "code",
   "execution_count": null,
   "metadata": {},
   "outputs": [],
   "source": [
    "# export\n",
    "\n",
    "# taken from https://www.w3resource.com/python-exercises/class-exercises/python-class-exercise-1.php\n",
    "def int_to_roman(num: int) -> str:\n",
    "    \"\"\"\n",
    "    Returns an integer number in roman format.\n",
    "    \"\"\"\n",
    "    \n",
    "    val = [\n",
    "        1000, 900, 500, 400,\n",
    "        100, 90, 50, 40,\n",
    "        10, 9, 5, 4,\n",
    "        1\n",
    "    ]\n",
    "    syb = [\n",
    "        \"M\", \"CM\", \"D\", \"CD\",\n",
    "        \"C\", \"XC\", \"L\", \"XL\",\n",
    "        \"X\", \"IX\", \"V\", \"IV\",\n",
    "        \"I\"\n",
    "    ]\n",
    "    roman_num = ''\n",
    "    i = 0\n",
    "    while num > 0:\n",
    "        for _ in range(num // val[i]):\n",
    "            roman_num += syb[i]\n",
    "            num -= val[i]\n",
    "        i += 1\n",
    "    return roman_num\n",
    "\n",
    "assert int_to_roman(12) == 'XII'\n",
    "assert int_to_roman(9) == 'IX'"
   ]
  },
  {
   "cell_type": "code",
   "execution_count": null,
   "metadata": {},
   "outputs": [],
   "source": [
    "print(int_to_roman(53))"
   ]
  },
  {
   "cell_type": "markdown",
   "metadata": {},
   "source": [
    "# Files"
   ]
  },
  {
   "cell_type": "markdown",
   "metadata": {},
   "source": [
    "A small utility function to derive a file path by appending something to the name (and *only* to the name)."
   ]
  },
  {
   "cell_type": "code",
   "execution_count": null,
   "metadata": {},
   "outputs": [],
   "source": [
    "def supplement_file_name(file: str, sup: str) -> pathlib.Path:\n",
    "    \"\"\"\n",
    "    Adds a string between the file name in a path and the suffix.\n",
    "\n",
    "    Parameters\n",
    "    ----------\n",
    "    file : str\n",
    "        File name\n",
    "    sup : str\n",
    "        String to be added\n",
    "\n",
    "    Returns\n",
    "    -------\n",
    "    out: pathlib.Path\n",
    "        \"Supplemented\" file\n",
    "\n",
    "    \"\"\"\n",
    "\n",
    "    file = pathlib.Path(file)\n",
    "\n",
    "    # the `suffix` is incorporated into the file name\n",
    "    return file.with_name(file.stem + f'_{sup}' + file.suffix)\n",
    "\n",
    "assert supplement_file_name('/a/b/quixote.tex', 'foo') == pathlib.Path('/a/b/quixote_foo.tex')"
   ]
  },
  {
   "cell_type": "code",
   "execution_count": null,
   "metadata": {},
   "outputs": [],
   "source": [
    "supplement_file_name('/a/b/picture.tex', '1')"
   ]
  }
 ],
 "metadata": {
  "kernelspec": {
   "display_name": "Python 3",
   "language": "python",
   "name": "python3"
  }
 },
 "nbformat": 4,
 "nbformat_minor": 4
}
