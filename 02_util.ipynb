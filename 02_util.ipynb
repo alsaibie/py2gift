{
 "cells": [
  {
   "cell_type": "code",
   "execution_count": null,
   "metadata": {},
   "outputs": [],
   "source": [
    "# default_exp util"
   ]
  },
  {
   "cell_type": "markdown",
   "metadata": {},
   "source": [
    "# Util\n",
    "\n",
    "> Convenience functions."
   ]
  },
  {
   "cell_type": "code",
   "execution_count": null,
   "metadata": {},
   "outputs": [],
   "source": [
    "# export\n",
    "\n",
    "import pathlib\n",
    "import re\n",
    "import sys\n",
    "from typing import List, Dict, Union, Optional\n",
    "\n",
    "import numpy as np\n",
    "import IPython.display\n",
    "import ruamel.yaml\n",
    "import yaml\n",
    "import pandas as pd\n",
    "from pandas.core.accessor import _register_accessor as register_accessor\n",
    "\n",
    "import gift_wrapper.core\n",
    "import gift_wrapper.question\n",
    "import gift_wrapper.image\n",
    "# import py2gift.core\n",
    "# import py2gift.question"
   ]
  },
  {
   "cell_type": "markdown",
   "metadata": {},
   "source": [
    "## `render_latex`"
   ]
  },
  {
   "cell_type": "markdown",
   "metadata": {},
   "source": [
    "Convenience function to print $\\LaTeX$ text in Jupyter Notebook **code** (as opposed to *markdown*) cells. The purpose is to print $\\LaTeX$ content that is only known at *run time*. Font size of every formula is increased (to *\\Large*)"
   ]
  },
  {
   "cell_type": "code",
   "execution_count": null,
   "metadata": {},
   "outputs": [],
   "source": [
    "# export\n",
    "\n",
    "def render_latex(text: str) -> str:\n",
    "    \n",
    "    return IPython.display.Markdown(re.sub(r'\\$([^\\$]*)\\$', '$' + '\\\\\\Large ' + r'\\1' + '$', text))"
   ]
  },
  {
   "cell_type": "code",
   "execution_count": null,
   "metadata": {},
   "outputs": [],
   "source": [
    "render_latex('Bla blah...')"
   ]
  },
  {
   "cell_type": "code",
   "execution_count": null,
   "metadata": {},
   "outputs": [],
   "source": [
    "render_latex('Variable $A$')"
   ]
  },
  {
   "cell_type": "markdown",
   "metadata": {},
   "source": [
    "# Accessors"
   ]
  },
  {
   "cell_type": "markdown",
   "metadata": {},
   "source": [
    "[Pandas](https://pandas.pydata.org/)'s [accessors mechanishm](https://pandas.pydata.org/docs/reference/api/pandas.api.extensions.register_dataframe_accessor.html) is leveraged here. In order to do that, first Pandas' `_register_accessor` method was *aliased* above as simply `register_accessor`. Then a new *base* class, `AccessorEndowedClass`, from which any class exposing an accessor must inherit, is created. The only thing it does is adding a *class* attribute that is expected by Pandas' `_register_accessor` method."
   ]
  },
  {
   "cell_type": "code",
   "execution_count": null,
   "metadata": {},
   "outputs": [],
   "source": [
    "# export\n",
    "class AccessorEndowedClass:\n",
    "    \n",
    "    _accessors = set()"
   ]
  },
  {
   "cell_type": "markdown",
   "metadata": {},
   "source": [
    "For instance"
   ]
  },
  {
   "cell_type": "code",
   "execution_count": null,
   "metadata": {},
   "outputs": [],
   "source": [
    "class Car(AccessorEndowedClass):\n",
    "    \n",
    "    def __init__(self, weight):\n",
    "        \n",
    "        self.weight = weight\n",
    "\n",
    "@register_accessor('seat', Car)\n",
    "class SeatAccessor:\n",
    "    \n",
    "    def __init__(self, car: Car):\n",
    "        \n",
    "        self._confortable: bool = True\n",
    "    \n",
    "    @property\n",
    "    def confortable(self):\n",
    "        \n",
    "        return self._confortable"
   ]
  },
  {
   "cell_type": "markdown",
   "metadata": {},
   "source": [
    "Accessing the class itself"
   ]
  },
  {
   "cell_type": "code",
   "execution_count": null,
   "metadata": {},
   "outputs": [],
   "source": [
    "car = Car(1600)\n",
    "car.weight"
   ]
  },
  {
   "cell_type": "markdown",
   "metadata": {},
   "source": [
    "Accessing the *appended* accessor"
   ]
  },
  {
   "cell_type": "code",
   "execution_count": null,
   "metadata": {},
   "outputs": [],
   "source": [
    "car.seat.confortable"
   ]
  },
  {
   "cell_type": "markdown",
   "metadata": {},
   "source": [
    "# Assorted"
   ]
  },
  {
   "cell_type": "markdown",
   "metadata": {},
   "source": [
    "A function to turn an integer into a roman number. Taken from [here](https://www.w3resource.com/python-exercises/class-exercises/python-class-exercise-1.php)."
   ]
  },
  {
   "cell_type": "code",
   "execution_count": null,
   "metadata": {},
   "outputs": [],
   "source": [
    "# export\n",
    "\n",
    "# taken from https://www.w3resource.com/python-exercises/class-exercises/python-class-exercise-1.php\n",
    "def int_to_roman(num: int) -> str:\n",
    "    \"\"\"\n",
    "    Returns an integer number in roman format.\n",
    "    \"\"\"\n",
    "    \n",
    "    val = [\n",
    "        1000, 900, 500, 400,\n",
    "        100, 90, 50, 40,\n",
    "        10, 9, 5, 4,\n",
    "        1\n",
    "    ]\n",
    "    syb = [\n",
    "        \"M\", \"CM\", \"D\", \"CD\",\n",
    "        \"C\", \"XC\", \"L\", \"XL\",\n",
    "        \"X\", \"IX\", \"V\", \"IV\",\n",
    "        \"I\"\n",
    "    ]\n",
    "    roman_num = ''\n",
    "    i = 0\n",
    "    while num > 0:\n",
    "        for _ in range(num // val[i]):\n",
    "            roman_num += syb[i]\n",
    "            num -= val[i]\n",
    "        i += 1\n",
    "    return roman_num\n",
    "\n",
    "assert int_to_roman(12) == 'XII'\n",
    "assert int_to_roman(9) == 'IX'"
   ]
  },
  {
   "cell_type": "code",
   "execution_count": null,
   "metadata": {},
   "outputs": [],
   "source": [
    "print(int_to_roman(53))"
   ]
  },
  {
   "cell_type": "markdown",
   "metadata": {},
   "source": [
    "# Files"
   ]
  },
  {
   "cell_type": "markdown",
   "metadata": {},
   "source": [
    "## `dict_to_yaml`"
   ]
  },
  {
   "cell_type": "markdown",
   "metadata": {},
   "source": [
    "A function to write a `dict`ionary to a YAML file with some formatting."
   ]
  },
  {
   "cell_type": "code",
   "execution_count": null,
   "metadata": {},
   "outputs": [],
   "source": [
    "# export\n",
    "\n",
    "def dict_to_yaml(d: dict, output_file: Union[str, pathlib.Path]) -> None:\n",
    "    \n",
    "    yaml = ruamel.yaml.YAML()\n",
    "    yaml.indent(sequence=4, offset=2)\n",
    "\n",
    "    with open(output_file, 'w') as f:\n",
    "\n",
    "        yaml.dump(d, f)"
   ]
  },
  {
   "cell_type": "code",
   "execution_count": null,
   "metadata": {},
   "outputs": [],
   "source": [
    "yaml_file = '_test.yaml'\n",
    "d = {'foo': 1, 'ouch': 'psss'}\n",
    "dict_to_yaml(d, yaml_file)"
   ]
  },
  {
   "cell_type": "code",
   "execution_count": null,
   "metadata": {},
   "outputs": [],
   "source": [
    "%pycat {yaml_file}"
   ]
  },
  {
   "cell_type": "markdown",
   "metadata": {},
   "source": [
    "## `yaml_to_dict`"
   ]
  },
  {
   "cell_type": "code",
   "execution_count": null,
   "metadata": {},
   "outputs": [],
   "source": [
    "# export\n",
    "\n",
    "def yaml_to_dict(file: Union[str, pathlib.Path]) -> dict:\n",
    "\n",
    "    with open(file) as f:\n",
    "\n",
    "        d = yaml.load(f, Loader=yaml.FullLoader)\n",
    "        \n",
    "    return d"
   ]
  },
  {
   "cell_type": "code",
   "execution_count": null,
   "metadata": {},
   "outputs": [],
   "source": [
    "yaml_to_dict(yaml_file)"
   ]
  },
  {
   "cell_type": "code",
   "execution_count": null,
   "metadata": {},
   "outputs": [],
   "source": [
    "%rm {yaml_file}"
   ]
  },
  {
   "cell_type": "markdown",
   "metadata": {},
   "source": [
    "## `write_multiple_categories`"
   ]
  },
  {
   "cell_type": "code",
   "execution_count": null,
   "metadata": {},
   "outputs": [],
   "source": [
    "# export\n",
    "\n",
    "def write_multiple_categories(\n",
    "        category_questions: Dict[str, List[dict]], pictures_base_directory: str, output_file: str = 'out.yaml') -> None:\n",
    "    \"\"\"\n",
    "    Writes a file suitable as input to `gift-wrapper`.\n",
    "\n",
    "    Parameters\n",
    "    ----------\n",
    "    category_questions : dict\n",
    "        Every key is the name of a category, and every value is a list of questions\n",
    "        (every question is itself a dictionary).\n",
    "    pictures_base_directory : str\n",
    "        The \"pictures base directory\" parameter that must be passed to `gift-wrapper`\n",
    "    output_file : str\n",
    "        Output file\n",
    "\n",
    "    \"\"\"\n",
    "\n",
    "    file = dict()\n",
    "    file['pictures base directory'] = pictures_base_directory\n",
    "    file['categories'] = []\n",
    "\n",
    "    for category_name, questions in category_questions.items():\n",
    "\n",
    "        file['categories'].append({'name': category_name, 'questions': questions})\n",
    "    \n",
    "    dict_to_yaml(file, output_file)"
   ]
  },
  {
   "cell_type": "markdown",
   "metadata": {},
   "source": [
    "We build a dictionary with questions belonging different categories. This might be read from a *YAML* file."
   ]
  },
  {
   "cell_type": "code",
   "execution_count": null,
   "metadata": {},
   "outputs": [],
   "source": [
    "category_questions_example = {\n",
    "    ('Category A', 'Category B'): [\n",
    "        {\n",
    "            'class': 'MultipleChoice',\n",
    "            'statement': 'Compute the entropy....\\n',\n",
    "            'feedback': 'We just need to...\\n',\n",
    "            'time': '3',\n",
    "            'answers': {\n",
    "                'perfect': '1',\n",
    "                'wrong': ['0', '2']\n",
    "            },\n",
    "            'name': 'Entropy of a random variable I'\n",
    "        }\n",
    "    ],\n",
    "    'Category C': [\n",
    "        {\n",
    "            'class': 'Numerical',\n",
    "            'statement': 'Compute the average....\\n',\n",
    "            'feedback': 'In order to...\\n',\n",
    "            'time': '3',\n",
    "            'solution': {\n",
    "                'value': 3.1,\n",
    "                'error': '10%'\n",
    "            }, \n",
    "            'name': 'Mean energy I'\n",
    "        }\n",
    "    ]\n",
    "}\n",
    "category_questions_example"
   ]
  },
  {
   "cell_type": "code",
   "execution_count": null,
   "metadata": {},
   "outputs": [],
   "source": [
    "output_file = '_output.yaml'\n",
    "write_multiple_categories(category_questions_example, 'pics', output_file)"
   ]
  },
  {
   "cell_type": "code",
   "execution_count": null,
   "metadata": {},
   "outputs": [],
   "source": [
    "%cat {output_file}"
   ]
  },
  {
   "cell_type": "code",
   "execution_count": null,
   "metadata": {},
   "outputs": [],
   "source": [
    "!rm {output_file}"
   ]
  },
  {
   "cell_type": "markdown",
   "metadata": {},
   "source": [
    "## File system"
   ]
  },
  {
   "cell_type": "markdown",
   "metadata": {},
   "source": [
    "A small utility function to derive a file path by appending something to the name (and *only* to the name)."
   ]
  },
  {
   "cell_type": "code",
   "execution_count": null,
   "metadata": {},
   "outputs": [],
   "source": [
    "# export\n",
    "\n",
    "def supplement_file_name(file: Union[str, pathlib.Path], sup: str) -> pathlib.Path:\n",
    "    \"\"\"\n",
    "    Adds a string between the file name in a path and the suffix.\n",
    "\n",
    "    Parameters\n",
    "    ----------\n",
    "    file : str\n",
    "        File name\n",
    "    sup : str\n",
    "        String to be added\n",
    "\n",
    "    Returns\n",
    "    -------\n",
    "    out: pathlib.Path\n",
    "        \"Supplemented\" file\n",
    "\n",
    "    \"\"\"\n",
    "\n",
    "    file = pathlib.Path(file)\n",
    "\n",
    "    # the `suffix` is incorporated into the file name\n",
    "    return file.with_name(file.stem + f'_{sup}' + file.suffix)\n",
    "\n",
    "assert supplement_file_name('/a/b/quixote.tex', 'foo') == pathlib.Path('/a/b/quixote_foo.tex')"
   ]
  },
  {
   "cell_type": "code",
   "execution_count": null,
   "metadata": {},
   "outputs": [],
   "source": [
    "supplement_file_name('/a/b/picture.tex', '1')"
   ]
  },
  {
   "cell_type": "markdown",
   "metadata": {},
   "source": [
    "# Question-related"
   ]
  },
  {
   "cell_type": "markdown",
   "metadata": {},
   "source": [
    "## `add_name`"
   ]
  },
  {
   "cell_type": "markdown",
   "metadata": {},
   "source": [
    "Adds a name to every question in a list based on a pattern. It is meant to distinctly name different versions of the same question. Notice that, for this function, a *question* is simply a dictionary (no checks are performed)."
   ]
  },
  {
   "cell_type": "code",
   "execution_count": null,
   "metadata": {},
   "outputs": [],
   "source": [
    "# export\n",
    "\n",
    "def add_name(questions: List[dict], base_name: str) -> List[dict]:\n",
    "    \"\"\"\n",
    "    Adds a name to every question based on a pattern.\n",
    "\n",
    "    Parameters\n",
    "    ----------\n",
    "    questions : list\n",
    "        List of questions; every question is a dictionary.\n",
    "    question_base_name : str\n",
    "        All the questions will be given this name and a different (Roman) number.\n",
    "\n",
    "    Returns\n",
    "    -------\n",
    "    out: list\n",
    "        List with the same questions after adding the corresponding name to each one.\n",
    "\n",
    "    \"\"\"\n",
    "\n",
    "    res = []\n",
    "\n",
    "    for i_q, q in enumerate(questions):\n",
    "\n",
    "        res.append({**q, 'name': f'{base_name} {int_to_roman(i_q + 1)}'})\n",
    "\n",
    "    return res\n",
    "\n",
    "assert add_name([{'k1': 'aa', 'k2': 1}, {'k3': 'pi', 'foo': 'variance'}], 'Viterbi') == [\n",
    "    {'k1': 'aa', 'k2': 1, 'name': 'Viterbi I'}, {'k3': 'pi', 'foo': 'variance', 'name': 'Viterbi II'}]"
   ]
  },
  {
   "cell_type": "code",
   "execution_count": null,
   "metadata": {},
   "outputs": [],
   "source": [
    "add_name([{'k1': 'aa', 'k2': 1}, {'k3': 'pi', 'foo': 'variance'}], 'base')"
   ]
  },
  {
   "cell_type": "markdown",
   "metadata": {},
   "source": [
    "---\n",
    "Get wrong solutions from the correct one"
   ]
  },
  {
   "cell_type": "code",
   "execution_count": null,
   "metadata": {},
   "outputs": [],
   "source": [
    "# export\n",
    "\n",
    "def wrong_numerical_solutions_from_correct_one(\n",
    "    solution: float, n: int, min_sep: float, max_sep: float, lower_bound: float, upper_bound: float,\n",
    "    precision: int = 4, to_str: bool = True, bin_width: Optional[float] = None, unique: bool = False,\n",
    "    prng: np.random.RandomState = np.random.RandomState(42)) -> Union[List[float], List[str]]:\n",
    "    \"\"\"\n",
    "    Generates random numerical wrong answers given the correct one.\n",
    "\n",
    "\n",
    "    Parameters\n",
    "    ----------\n",
    "    solution: float\n",
    "        The actual solution.\n",
    "    n: int\n",
    "        The number of wrong solutions.\n",
    "    min_sep: float\n",
    "        Minimum separation.\n",
    "    max_sep: float\n",
    "        Maximum separation.\n",
    "    lower_bound: float\n",
    "        A lower bound on the returned numbers.\n",
    "    upper_bound: float\n",
    "        A upper bound on the returned numbers.\n",
    "    precision: int\n",
    "        The number of decimal places.\n",
    "    to_str: bool, optional\n",
    "        If True, every element in the result will be converted to a string.\n",
    "    bin_width: float, optional\n",
    "        The granularity on the answers: every one will be a multiple of this parameter.\n",
    "    unique: bool, optional\n",
    "        If True, all the answers will be different.\n",
    "    prng: RandomState, optional\n",
    "        A pseudo-random numbers generator.\n",
    "\n",
    "    Returns\n",
    "    -------\n",
    "    out: list of float, or list of str\n",
    "        The random wrong solutions.\n",
    "\n",
    "    \"\"\"\n",
    "    \n",
    "    max_iterations = 1_000\n",
    "    \n",
    "    # in the current implementation all the answers are generated by pivoting around the solution; in order to prevent the correct solution being approximately in the middle, more wrong answers than requested are generated and, in the end, the requested number is randomly picked\n",
    "    n_generated = n + 2\n",
    "    \n",
    "    assert (solution - min_sep > lower_bound) or (solution + min_sep < upper_bound)\n",
    "    \n",
    "    if bin_width:\n",
    "        \n",
    "        assert bin_width < (max_sep - min_sep)\n",
    "    \n",
    "    res = []\n",
    "    \n",
    "    # this acts as \"pivot\" to get to new values around\n",
    "    current = solution\n",
    "    \n",
    "    for i in range(max_iterations):\n",
    "        \n",
    "        if bin_width:\n",
    "        \n",
    "            candidates = np.arange(min_sep, max_sep, bin_width)\n",
    "            steps = prng.choice(candidates, size=2).round(precision)\n",
    "        \n",
    "        else:\n",
    "            \n",
    "            # one number to be added to the `current` solution and one to be subracted\n",
    "            steps = prng.uniform(min_sep, max_sep, size=2)\n",
    "\n",
    "        next_values = [v.round(precision)\n",
    "                       for v in [current + steps[0], current - steps[1]] if lower_bound < v < upper_bound]\n",
    "        if unique:\n",
    "            \n",
    "            next_values = [e for e in next_values if e not in set(res)]\n",
    "        \n",
    "        res.extend(next_values)\n",
    "        \n",
    "        # TODO: `current` *should* be modified so that the results are less centered around the correct solution (it reveals information!!) but with the current implementation it's hard to do while honoring the minimum and maximum separations\n",
    "#         # this sort of adds entropy\n",
    "#         current = np.median(res + [solution])\n",
    "\n",
    "        if len(res) >= n:\n",
    "        \n",
    "            break\n",
    "            \n",
    "    else:\n",
    "        \n",
    "        raise Exception(f\"Parameters are too much constraining, can't find the solution after {max_iterations}\")\n",
    "    \n",
    "    if to_str:\n",
    "        \n",
    "        res = [str(e) for e in res]\n",
    "    \n",
    "#     return res[:n]\n",
    "    return prng.choice(res, n, replace=False).tolist()"
   ]
  },
  {
   "cell_type": "code",
   "execution_count": null,
   "metadata": {},
   "outputs": [],
   "source": [
    "wrong_numerical_solutions_from_correct_one(solution=0.8, n=10, min_sep=0.1, max_sep=0.5, lower_bound=0.2, upper_bound=2, prng = np.random.RandomState(42))"
   ]
  },
  {
   "cell_type": "markdown",
   "metadata": {},
   "source": [
    "Numbers instead of strings"
   ]
  },
  {
   "cell_type": "code",
   "execution_count": null,
   "metadata": {},
   "outputs": [],
   "source": [
    "wrong_numerical_solutions_from_correct_one(\n",
    "    solution=0.8, n=4, min_sep=0.2, max_sep=0.5, lower_bound=0.2, upper_bound=0.9, to_str=False,\n",
    "    prng = np.random.RandomState(42))"
   ]
  },
  {
   "cell_type": "markdown",
   "metadata": {},
   "source": [
    "If the solution cannot be *anything*, you might want to pass a `bin_width` so that it doesn't immediately stand out from the wrong answers,"
   ]
  },
  {
   "cell_type": "code",
   "execution_count": null,
   "metadata": {},
   "outputs": [],
   "source": [
    "wrong_numerical_solutions_from_correct_one(\n",
    "    solution=0.8, n=8, min_sep=0.1, max_sep=2, lower_bound=0.2, upper_bound=2, to_str=False, bin_width=0.1,\n",
    "    prng = np.random.RandomState(42))"
   ]
  },
  {
   "cell_type": "markdown",
   "metadata": {},
   "source": [
    "If duplicates must be avoided `unique` can be set to `True`,"
   ]
  },
  {
   "cell_type": "code",
   "execution_count": null,
   "metadata": {},
   "outputs": [],
   "source": [
    "wrong_numerical_solutions_from_correct_one(\n",
    "    solution=0.8, n=8, min_sep=0.1, max_sep=2, lower_bound=0.2, upper_bound=2, to_str=False, bin_width=0.1,\n",
    "    unique=True, prng = np.random.RandomState(42))"
   ]
  },
  {
   "cell_type": "code",
   "execution_count": null,
   "metadata": {},
   "outputs": [],
   "source": [
    "# hide\n",
    "\n",
    "import nbdev.export\n",
    "nbdev.export.notebook2script('02_util.ipynb')"
   ]
  }
 ],
 "metadata": {
  "kernelspec": {
   "display_name": "Python 3",
   "language": "python",
   "name": "python3"
  }
 },
 "nbformat": 4,
 "nbformat_minor": 4
}
