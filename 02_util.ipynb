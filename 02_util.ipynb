{
 "cells": [
  {
   "cell_type": "code",
   "execution_count": null,
   "metadata": {},
   "outputs": [],
   "source": [
    "# default_exp util"
   ]
  },
  {
   "cell_type": "markdown",
   "metadata": {},
   "source": [
    "# Util\n",
    "\n",
    "> Convenience functions."
   ]
  },
  {
   "cell_type": "code",
   "execution_count": null,
   "metadata": {},
   "outputs": [],
   "source": [
    "# export\n",
    "\n",
    "import pathlib\n",
    "import re\n",
    "import sys\n",
    "from typing import List, Dict, Union, Optional\n",
    "\n",
    "import numpy as np\n",
    "import IPython.display\n",
    "import ruamel.yaml\n",
    "import yaml\n",
    "import pandas as pd\n",
    "from pandas.core.accessor import _register_accessor as register_accessor\n",
    "\n",
    "import gift_wrapper.core\n",
    "import gift_wrapper.question\n",
    "import gift_wrapper.image\n",
    "import py2gift.core\n",
    "import py2gift.question"
   ]
  },
  {
   "cell_type": "markdown",
   "metadata": {},
   "source": [
    "## `render_latex`"
   ]
  },
  {
   "cell_type": "markdown",
   "metadata": {},
   "source": [
    "Convenience function to print $\\LaTeX$ text in Jupyter Notebook **code** (as opposed to *markdown*) cells. The purpose is to print $\\LaTeX$ content that is only known at *run time*. Font size of every formula is increased (to *\\Large*)"
   ]
  },
  {
   "cell_type": "code",
   "execution_count": null,
   "metadata": {},
   "outputs": [],
   "source": [
    "# export\n",
    "\n",
    "def render_latex(text: str) -> str:\n",
    "    \n",
    "    return IPython.display.Markdown(re.sub(r'\\$([^\\$]*)\\$', '$' + '\\\\\\Large ' + r'\\1' + '$', text))"
   ]
  },
  {
   "cell_type": "code",
   "execution_count": null,
   "metadata": {},
   "outputs": [],
   "source": [
    "render_latex('Bla blah...')"
   ]
  },
  {
   "cell_type": "code",
   "execution_count": null,
   "metadata": {},
   "outputs": [],
   "source": [
    "render_latex('Variable $A$')"
   ]
  },
  {
   "cell_type": "markdown",
   "metadata": {},
   "source": [
    "## `to_formula_maybe`"
   ]
  },
  {
   "cell_type": "markdown",
   "metadata": {},
   "source": [
    "A decorator that allows (optionally) the string returned by any function to be enclosed between `$`s."
   ]
  },
  {
   "cell_type": "code",
   "execution_count": null,
   "metadata": {},
   "outputs": [],
   "source": [
    "# export\n",
    "\n",
    "def to_formula_maybe(func):\n",
    "    \n",
    "    def wrapper(*args, **kwargs):\n",
    "        \n",
    "        if ('to_formula' in kwargs) and (kwargs['to_formula']):\n",
    "            \n",
    "            kwargs.pop('to_formula')\n",
    "            \n",
    "            return f'${func(*args, **kwargs)}$'\n",
    "        \n",
    "        else:\n",
    "            \n",
    "            if ('to_formula' in kwargs):\n",
    "            \n",
    "                # it must also be popped out\n",
    "                kwargs.pop('to_formula')\n",
    "            \n",
    "            return func(*args, **kwargs)\n",
    "    return wrapper"
   ]
  },
  {
   "cell_type": "code",
   "execution_count": null,
   "metadata": {},
   "outputs": [],
   "source": [
    "def to_radians(n_cycles: int) -> float:\n",
    "    \n",
    "    return n_cycles * 3.14"
   ]
  },
  {
   "cell_type": "code",
   "execution_count": null,
   "metadata": {},
   "outputs": [],
   "source": [
    "to_radians(2)"
   ]
  },
  {
   "cell_type": "markdown",
   "metadata": {},
   "source": [
    "A module that allows to inspect functions."
   ]
  },
  {
   "cell_type": "code",
   "execution_count": null,
   "metadata": {},
   "outputs": [],
   "source": [
    "import inspect"
   ]
  },
  {
   "cell_type": "code",
   "execution_count": null,
   "metadata": {},
   "outputs": [],
   "source": [
    "inspect.signature(to_radians)"
   ]
  },
  {
   "cell_type": "code",
   "execution_count": null,
   "metadata": {},
   "outputs": [],
   "source": [
    "@to_formula_maybe\n",
    "def to_radians(n_cycles: int) -> float:\n",
    "    \n",
    "    return n_cycles * 3.14"
   ]
  },
  {
   "cell_type": "code",
   "execution_count": null,
   "metadata": {},
   "outputs": [],
   "source": [
    "inspect.signature(to_radians)"
   ]
  },
  {
   "cell_type": "code",
   "execution_count": null,
   "metadata": {},
   "outputs": [],
   "source": [
    "to_radians(2)"
   ]
  },
  {
   "cell_type": "code",
   "execution_count": null,
   "metadata": {},
   "outputs": [],
   "source": [
    "to_radians(2, to_formula=True)"
   ]
  },
  {
   "cell_type": "markdown",
   "metadata": {},
   "source": [
    "`render_latex` can be used to properly render it in the notebook:"
   ]
  },
  {
   "cell_type": "code",
   "execution_count": null,
   "metadata": {},
   "outputs": [],
   "source": [
    "render_latex(to_radians(2, to_formula=True))"
   ]
  },
  {
   "cell_type": "markdown",
   "metadata": {},
   "source": [
    "# Accessors"
   ]
  },
  {
   "cell_type": "markdown",
   "metadata": {},
   "source": [
    "[Pandas](https://pandas.pydata.org/)'s [accessors mechanishm](https://pandas.pydata.org/docs/reference/api/pandas.api.extensions.register_dataframe_accessor.html) is leveraged here. In order to do that, first Pandas' `_register_accessor` method was *aliased* above as simply `register_accessor`. Then a new *base* class, `AccessorEndowedClass`, from which any class exposing an accessor must inherit, is created. The only thing it does is adding a *class* attribute that is expected by Pandas' `_register_accessor` method."
   ]
  },
  {
   "cell_type": "code",
   "execution_count": null,
   "metadata": {},
   "outputs": [],
   "source": [
    "# export\n",
    "class AccessorEndowedClass:\n",
    "    \n",
    "    _accessors = set()"
   ]
  },
  {
   "cell_type": "markdown",
   "metadata": {},
   "source": [
    "For instance"
   ]
  },
  {
   "cell_type": "code",
   "execution_count": null,
   "metadata": {},
   "outputs": [],
   "source": [
    "class Car(AccessorEndowedClass):\n",
    "    \n",
    "    def __init__(self, weight):\n",
    "        \n",
    "        self.weight = weight\n",
    "\n",
    "@register_accessor('seat', Car)\n",
    "class SeatAccessor:\n",
    "    \n",
    "    def __init__(self, car: Car):\n",
    "        \n",
    "        self._confortable: bool = True\n",
    "    \n",
    "    @property\n",
    "    def confortable(self):\n",
    "        \n",
    "        return self._confortable"
   ]
  },
  {
   "cell_type": "markdown",
   "metadata": {},
   "source": [
    "Accessing the class itself"
   ]
  },
  {
   "cell_type": "code",
   "execution_count": null,
   "metadata": {},
   "outputs": [],
   "source": [
    "car = Car(1600)\n",
    "car.weight"
   ]
  },
  {
   "cell_type": "markdown",
   "metadata": {},
   "source": [
    "Accessing the *appended* accessor"
   ]
  },
  {
   "cell_type": "code",
   "execution_count": null,
   "metadata": {},
   "outputs": [],
   "source": [
    "car.seat.confortable"
   ]
  },
  {
   "cell_type": "markdown",
   "metadata": {},
   "source": [
    "# Assorted"
   ]
  },
  {
   "cell_type": "markdown",
   "metadata": {},
   "source": [
    "A function to turn an integer into a roman number. Taken from [here](https://www.w3resource.com/python-exercises/class-exercises/python-class-exercise-1.php)."
   ]
  },
  {
   "cell_type": "code",
   "execution_count": null,
   "metadata": {},
   "outputs": [],
   "source": [
    "# export\n",
    "\n",
    "# taken from https://www.w3resource.com/python-exercises/class-exercises/python-class-exercise-1.php\n",
    "def int_to_roman(num: int) -> str:\n",
    "    \"\"\"\n",
    "    Returns an integer number in roman format.\n",
    "    \"\"\"\n",
    "    \n",
    "    val = [\n",
    "        1000, 900, 500, 400,\n",
    "        100, 90, 50, 40,\n",
    "        10, 9, 5, 4,\n",
    "        1\n",
    "    ]\n",
    "    syb = [\n",
    "        \"M\", \"CM\", \"D\", \"CD\",\n",
    "        \"C\", \"XC\", \"L\", \"XL\",\n",
    "        \"X\", \"IX\", \"V\", \"IV\",\n",
    "        \"I\"\n",
    "    ]\n",
    "    roman_num = ''\n",
    "    i = 0\n",
    "    while num > 0:\n",
    "        for _ in range(num // val[i]):\n",
    "            roman_num += syb[i]\n",
    "            num -= val[i]\n",
    "        i += 1\n",
    "    return roman_num\n",
    "\n",
    "assert int_to_roman(12) == 'XII'\n",
    "assert int_to_roman(9) == 'IX'"
   ]
  },
  {
   "cell_type": "code",
   "execution_count": null,
   "metadata": {},
   "outputs": [],
   "source": [
    "print(int_to_roman(53))"
   ]
  },
  {
   "cell_type": "markdown",
   "metadata": {},
   "source": [
    "# Files"
   ]
  },
  {
   "cell_type": "markdown",
   "metadata": {},
   "source": [
    "## `dict_to_yaml`"
   ]
  },
  {
   "cell_type": "markdown",
   "metadata": {},
   "source": [
    "A function to write a `dict`ionary to a YAML file with some formatting."
   ]
  },
  {
   "cell_type": "code",
   "execution_count": null,
   "metadata": {},
   "outputs": [],
   "source": [
    "# export\n",
    "\n",
    "def dict_to_yaml(d: dict, output_file: Union[str, pathlib.Path]) -> None:\n",
    "    \n",
    "    yaml = ruamel.yaml.YAML()\n",
    "    yaml.indent(sequence=4, offset=2)\n",
    "\n",
    "    with open(output_file, 'w') as f:\n",
    "\n",
    "        yaml.dump(d, f)"
   ]
  },
  {
   "cell_type": "code",
   "execution_count": null,
   "metadata": {},
   "outputs": [],
   "source": [
    "yaml_file = '_test.yaml'\n",
    "d = {'foo': 1, 'ouch': 'psss'}\n",
    "dict_to_yaml(d, yaml_file)"
   ]
  },
  {
   "cell_type": "code",
   "execution_count": null,
   "metadata": {},
   "outputs": [],
   "source": [
    "%pycat {yaml_file}"
   ]
  },
  {
   "cell_type": "markdown",
   "metadata": {},
   "source": [
    "## `yaml_to_dict`"
   ]
  },
  {
   "cell_type": "code",
   "execution_count": null,
   "metadata": {},
   "outputs": [],
   "source": [
    "# export\n",
    "\n",
    "def yaml_to_dict(file: Union[str, pathlib.Path]) -> dict:\n",
    "\n",
    "    with open(file) as f:\n",
    "\n",
    "        d = yaml.load(f, Loader=yaml.FullLoader)\n",
    "        \n",
    "    return d"
   ]
  },
  {
   "cell_type": "code",
   "execution_count": null,
   "metadata": {},
   "outputs": [],
   "source": [
    "yaml_to_dict(yaml_file)"
   ]
  },
  {
   "cell_type": "code",
   "execution_count": null,
   "metadata": {},
   "outputs": [],
   "source": [
    "%rm {yaml_file}"
   ]
  },
  {
   "cell_type": "markdown",
   "metadata": {},
   "source": [
    "## `write_multiple_categories`"
   ]
  },
  {
   "cell_type": "code",
   "execution_count": null,
   "metadata": {},
   "outputs": [],
   "source": [
    "# export\n",
    "\n",
    "def write_multiple_categories(\n",
    "        category_questions: Dict[str, List[dict]], pictures_base_directory: str, output_file: str = 'out.yaml') -> None:\n",
    "    \"\"\"\n",
    "    Writes a file suitable as input to `gift-wrapper`.\n",
    "\n",
    "    Parameters\n",
    "    ----------\n",
    "    category_questions : dict\n",
    "        Every key is the name of a category, and every value is a list of questions\n",
    "        (every question is itself a dictionary).\n",
    "    pictures_base_directory : str\n",
    "        The \"pictures base directory\" parameter that must be passed to `gift-wrapper`\n",
    "    output_file : str\n",
    "        Output file\n",
    "\n",
    "    \"\"\"\n",
    "\n",
    "    file = dict()\n",
    "    file['pictures base directory'] = pictures_base_directory\n",
    "    file['categories'] = []\n",
    "\n",
    "    for category_name, questions in category_questions.items():\n",
    "\n",
    "        file['categories'].append({'name': category_name, 'questions': questions})\n",
    "    \n",
    "    dict_to_yaml(file, output_file)"
   ]
  },
  {
   "cell_type": "markdown",
   "metadata": {},
   "source": [
    "We build a dictionary with questions belonging different categories. This might be read from a *YAML* file."
   ]
  },
  {
   "cell_type": "code",
   "execution_count": null,
   "metadata": {},
   "outputs": [],
   "source": [
    "category_questions_example = {\n",
    "    ('Category A', 'Category B'): [\n",
    "        {\n",
    "            'class': 'MultipleChoice',\n",
    "            'statement': 'Compute the entropy....\\n',\n",
    "            'feedback': 'We just need to...\\n',\n",
    "            'time': '3',\n",
    "            'answers': {\n",
    "                'perfect': '1',\n",
    "                'wrong': ['0', '2']\n",
    "            },\n",
    "            'name': 'Entropy of a random variable I'\n",
    "        }\n",
    "    ],\n",
    "    'Category C': [\n",
    "        {\n",
    "            'class': 'Numerical',\n",
    "            'statement': 'Compute the average....\\n',\n",
    "            'feedback': 'In order to...\\n',\n",
    "            'time': '3',\n",
    "            'solution': {\n",
    "                'value': 3.1,\n",
    "                'error': '10%'\n",
    "            }, \n",
    "            'name': 'Mean energy I'\n",
    "        }\n",
    "    ]\n",
    "}\n",
    "category_questions_example"
   ]
  },
  {
   "cell_type": "code",
   "execution_count": null,
   "metadata": {},
   "outputs": [],
   "source": [
    "output_file = '_output.yaml'\n",
    "write_multiple_categories(category_questions_example, 'pics', output_file)"
   ]
  },
  {
   "cell_type": "code",
   "execution_count": null,
   "metadata": {},
   "outputs": [],
   "source": [
    "%cat {output_file}"
   ]
  },
  {
   "cell_type": "code",
   "execution_count": null,
   "metadata": {},
   "outputs": [],
   "source": [
    "!rm {output_file}"
   ]
  },
  {
   "cell_type": "markdown",
   "metadata": {},
   "source": [
    "## File system"
   ]
  },
  {
   "cell_type": "markdown",
   "metadata": {},
   "source": [
    "A small utility function to derive a file path by appending something to the name (and *only* to the name)."
   ]
  },
  {
   "cell_type": "code",
   "execution_count": null,
   "metadata": {},
   "outputs": [],
   "source": [
    "# export\n",
    "\n",
    "def supplement_file_name(file: Union[str, pathlib.Path], sup: str) -> pathlib.Path:\n",
    "    \"\"\"\n",
    "    Adds a string between the file name in a path and the suffix.\n",
    "\n",
    "    Parameters\n",
    "    ----------\n",
    "    file : str\n",
    "        File name\n",
    "    sup : str\n",
    "        String to be added\n",
    "\n",
    "    Returns\n",
    "    -------\n",
    "    out: pathlib.Path\n",
    "        \"Supplemented\" file\n",
    "\n",
    "    \"\"\"\n",
    "\n",
    "    file = pathlib.Path(file)\n",
    "\n",
    "    # the `suffix` is incorporated into the file name\n",
    "    return file.with_name(file.stem + f'_{sup}' + file.suffix)\n",
    "\n",
    "assert supplement_file_name('/a/b/quixote.tex', 'foo') == pathlib.Path('/a/b/quixote_foo.tex')"
   ]
  },
  {
   "cell_type": "code",
   "execution_count": null,
   "metadata": {},
   "outputs": [],
   "source": [
    "supplement_file_name('/a/b/picture.tex', '1')"
   ]
  },
  {
   "cell_type": "markdown",
   "metadata": {},
   "source": [
    "# Question-related"
   ]
  },
  {
   "cell_type": "markdown",
   "metadata": {},
   "source": [
    "## `add_name`"
   ]
  },
  {
   "cell_type": "markdown",
   "metadata": {},
   "source": [
    "Adds a name to every question in a list based on a pattern. It is meant to distinctly name different versions of the same question. Notice that, for this function, a *question* is simply a dictionary (no checks are performed)."
   ]
  },
  {
   "cell_type": "code",
   "execution_count": null,
   "metadata": {},
   "outputs": [],
   "source": [
    "# export\n",
    "\n",
    "def add_name(questions: List[dict], base_name: str) -> List[dict]:\n",
    "    \"\"\"\n",
    "    Adds a name to every question based on a pattern.\n",
    "\n",
    "    Parameters\n",
    "    ----------\n",
    "    questions : list\n",
    "        List of questions; every question is a dictionary.\n",
    "    question_base_name : str\n",
    "        All the questions will be given this name and a different (Roman) number.\n",
    "\n",
    "    Returns\n",
    "    -------\n",
    "    out: list\n",
    "        List with the same questions after adding the corresponding name to each one.\n",
    "\n",
    "    \"\"\"\n",
    "\n",
    "    res = []\n",
    "\n",
    "    for i_q, q in enumerate(questions):\n",
    "\n",
    "        res.append({**q, 'name': f'{base_name} {int_to_roman(i_q + 1)}'})\n",
    "\n",
    "    return res\n",
    "\n",
    "assert add_name([{'k1': 'aa', 'k2': 1}, {'k3': 'pi', 'foo': 'variance'}], 'Viterbi') == [\n",
    "    {'k1': 'aa', 'k2': 1, 'name': 'Viterbi I'}, {'k3': 'pi', 'foo': 'variance', 'name': 'Viterbi II'}]"
   ]
  },
  {
   "cell_type": "code",
   "execution_count": null,
   "metadata": {},
   "outputs": [],
   "source": [
    "add_name([{'k1': 'aa', 'k2': 1}, {'k3': 'pi', 'foo': 'variance'}], 'base')"
   ]
  },
  {
   "cell_type": "markdown",
   "metadata": {},
   "source": [
    "---"
   ]
  },
  {
   "cell_type": "markdown",
   "metadata": {},
   "source": [
    "Notice the input (settings) dictionary is modified."
   ]
  },
  {
   "cell_type": "code",
   "execution_count": null,
   "metadata": {},
   "outputs": [],
   "source": [
    "# export\n",
    "\n",
    "def markdown_from_question(question_settings: dict, question_class: gift_wrapper.question.HtmlQuestion) -> str:\n",
    "    \n",
    "    # the class that will be instantiated for this particular question; notice the class is removed\n",
    "    # (popped) from the dictionary so that it doesn't get passed to the initializer\n",
    "    question_class = getattr(gift_wrapper.question, question_settings.pop('class'))\n",
    "\n",
    "    # latex formulas are not checked\n",
    "    question_settings['check_latex_formulas'] = False\n",
    "\n",
    "    question_settings['history'] = {'already compiled': set()}\n",
    "    \n",
    "    question_settings['latex_auxiliary_file'] = '__latex__.tex'\n",
    "\n",
    "    question_settings['name'] = 'Test'\n",
    "\n",
    "    question = gift_wrapper.question.SvgToMarkdown(\n",
    "        gift_wrapper.question.TexToSvg(question_class(**question_settings))\n",
    "    )\n",
    "\n",
    "    markdown = question.to_jupyter()\n",
    "\n",
    "    for f in question.pre_processing_functions:\n",
    "\n",
    "        markdown = f(markdown)\n",
    "    \n",
    "    return markdown"
   ]
  },
  {
   "cell_type": "code",
   "execution_count": null,
   "metadata": {},
   "outputs": [],
   "source": [
    "question_settings = dict()\n",
    "question_settings['class'] = 'Numerical'\n",
    "question_settings['statement'] = 'What is the value of $\\pi$?'\n",
    "question_settings['solution'] = {'value': 3.14, 'error': '50%'}\n",
    "question_settings['feedback'] = 'well, $\\pi$'"
   ]
  },
  {
   "cell_type": "code",
   "execution_count": null,
   "metadata": {},
   "outputs": [],
   "source": [
    "render_latex(markdown_from_question(question_settings, gift_wrapper.question.Numerical))"
   ]
  },
  {
   "cell_type": "markdown",
   "metadata": {},
   "source": [
    "---"
   ]
  },
  {
   "cell_type": "code",
   "execution_count": null,
   "metadata": {},
   "outputs": [],
   "source": [
    "# export\n",
    "\n",
    "def generator_to_markdown(settings: Union[str, pathlib.Path], category: str, cls: py2gift.question.QuestionGenerator):\n",
    "    \n",
    "    # if settings is the name of a file...\n",
    "    if type(settings) == str:\n",
    "        \n",
    "        settings = yaml_to_dict(settings)\n",
    "    \n",
    "    else:\n",
    "        \n",
    "        assert type(settings) == dict\n",
    "\n",
    "    question_settings = py2gift.core.build_question(cls, category, settings)\n",
    "    question_class = getattr(gift_wrapper.question, question_settings['class'])\n",
    "\n",
    "    return markdown_from_question(question_settings, question_class)"
   ]
  },
  {
   "cell_type": "markdown",
   "metadata": {},
   "source": [
    "---\n",
    "It turns a $\\TeX$ file into an svg, and returns a *markdown* string that allows to visualize it in a cell"
   ]
  },
  {
   "cell_type": "code",
   "execution_count": null,
   "metadata": {},
   "outputs": [],
   "source": [
    "# export\n",
    "\n",
    "def latex_to_markdown(input_file: Union[str, pathlib.Path], delete_input_file_afterwards: bool = False) -> str:\n",
    "    \n",
    "    output_file = gift_wrapper.image.pdf_to_svg(gift_wrapper.image.tex_to_pdf(input_file))\n",
    "    \n",
    "    suffixes = ['.aux', '.log', '.pdf']\n",
    "    \n",
    "    if delete_input_file_afterwards:\n",
    "        \n",
    "        suffixes.append('.tex')\n",
    "    \n",
    "    for suffix in suffixes:\n",
    "        \n",
    "        file_to_delete = output_file.with_suffix(suffix)\n",
    "        \n",
    "        if file_to_delete.exists():\n",
    "        \n",
    "            file_to_delete.unlink()\n",
    "    \n",
    "    return r'![](' + output_file.as_posix() + ')'"
   ]
  },
  {
   "cell_type": "markdown",
   "metadata": {},
   "source": [
    "---\n",
    "Get wrong solutions from the correct one"
   ]
  },
  {
   "cell_type": "code",
   "execution_count": null,
   "metadata": {},
   "outputs": [],
   "source": [
    "# export\n",
    "\n",
    "def wrong_numerical_solutions_from_correct_one(\n",
    "    solution: float, n: int, min_sep: float, max_sep: float, lower_bound: float, upper_bound: float,\n",
    "    precision: int = 4, to_str: bool = True, prng: np.random.RandomState = np.random.RandomState(42)) -> Union[List[float], List[str]]:\n",
    "    \n",
    "    assert (solution - min_sep > lower_bound) or (solution + min_sep < upper_bound)\n",
    "    \n",
    "    res = []\n",
    "    \n",
    "    current = solution\n",
    "    \n",
    "    while len(res) < n:\n",
    "        \n",
    "        steps = prng.uniform(min_sep, max_sep, size=2)\n",
    "\n",
    "        next_values = [v.round(precision) for v in [current + steps[0], current - steps[1]]  if lower_bound < v < upper_bound]\n",
    "        \n",
    "        res.extend(next_values)\n",
    "    \n",
    "    if to_str:\n",
    "        \n",
    "        res = [str(e) for e in res]\n",
    "    \n",
    "    return res[:n]"
   ]
  },
  {
   "cell_type": "code",
   "execution_count": null,
   "metadata": {},
   "outputs": [],
   "source": [
    "wrong_numerical_solutions_from_correct_one(solution=0.8, n=10, min_sep=0.1, max_sep=0.5, lower_bound=0.2, upper_bound=2, prng = np.random.RandomState(42))"
   ]
  },
  {
   "cell_type": "markdown",
   "metadata": {},
   "source": [
    "Numbers instead of strings"
   ]
  },
  {
   "cell_type": "code",
   "execution_count": null,
   "metadata": {},
   "outputs": [],
   "source": [
    "wrong_numerical_solutions_from_correct_one(solution=0.8, n=4, min_sep=0.2, max_sep=0.5, lower_bound=0.2, upper_bound=0.9, to_str=False, prng = np.random.RandomState(42))"
   ]
  },
  {
   "cell_type": "code",
   "execution_count": null,
   "metadata": {},
   "outputs": [],
   "source": [
    "# hide\n",
    "\n",
    "import nbdev.export\n",
    "nbdev.export.notebook2script('02_util.ipynb')"
   ]
  }
 ],
 "metadata": {
  "kernelspec": {
   "display_name": "Python 3",
   "language": "python",
   "name": "python3"
  }
 },
 "nbformat": 4,
 "nbformat_minor": 4
}
