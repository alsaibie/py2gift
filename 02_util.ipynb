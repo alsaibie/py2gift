{
 "cells": [
  {
   "cell_type": "code",
   "execution_count": null,
   "metadata": {},
   "outputs": [],
   "source": [
    "# default_exp util"
   ]
  },
  {
   "cell_type": "markdown",
   "metadata": {},
   "source": [
    "# Util\n",
    "\n",
    "> Convenience functions."
   ]
  },
  {
   "cell_type": "code",
   "execution_count": null,
   "metadata": {},
   "outputs": [],
   "source": [
    "# export\n",
    "\n",
    "import pathlib\n",
    "import re\n",
    "import sys\n",
    "from typing import List, Dict, Union, Optional\n",
    "\n",
    "import numpy as np\n",
    "import IPython.display\n",
    "import ruamel.yaml\n",
    "import yaml\n",
    "import pandas as pd\n",
    "from pandas.core.accessor import _register_accessor as register_accessor\n",
    "\n",
    "import gift_wrapper.core\n",
    "import gift_wrapper.question\n",
    "import gift_wrapper.image\n",
    "import py2gift.core\n",
    "import py2gift.question"
   ]
  },
  {
   "cell_type": "code",
   "execution_count": null,
   "metadata": {},
   "outputs": [],
   "source": [
    "# export\n",
    "\n",
    "def render_latex(text: str) -> str:\n",
    "    \n",
    "    return IPython.display.Markdown(re.sub(r'\\$([^\\$]*)\\$', '$' + '\\\\\\Large ' + r'\\1' + '$', text))"
   ]
  },
  {
   "cell_type": "markdown",
   "metadata": {},
   "source": [
    "A decorator that allows (optionally) the string returned by any function to be enclosed between `$`s."
   ]
  },
  {
   "cell_type": "code",
   "execution_count": null,
   "metadata": {},
   "outputs": [],
   "source": [
    "# export\n",
    "def to_formula_maybe(func):\n",
    "    \n",
    "    def wrapper(*args, **kwargs):\n",
    "        \n",
    "        if ('to_formula' in kwargs) and (kwargs['to_formula']):\n",
    "            \n",
    "            kwargs.pop('to_formula')\n",
    "            \n",
    "            return f'${func(*args, **kwargs)}$'\n",
    "        \n",
    "        else:\n",
    "            \n",
    "            if ('to_formula' in kwargs):\n",
    "            \n",
    "                # it must also be popped out\n",
    "                kwargs.pop('to_formula')\n",
    "            \n",
    "            return func(*args, **kwargs)\n",
    "    return wrapper"
   ]
  },
  {
   "cell_type": "markdown",
   "metadata": {},
   "source": [
    "# Accessors"
   ]
  },
  {
   "cell_type": "markdown",
   "metadata": {},
   "source": [
    "[Pandas](https://pandas.pydata.org/)'s [accessors mechanishm](https://pandas.pydata.org/docs/reference/api/pandas.api.extensions.register_dataframe_accessor.html) is leveraged here. In order to do that, first Pandas' `_register_accessor` method was *aliased* above as simply `register_accessor`, and then a new base class from which the likes that should have some accessor must inherit. The only thing it does is adding a *class* attribute that is expected by Pandas' `_register_accessor` method."
   ]
  },
  {
   "cell_type": "code",
   "execution_count": null,
   "metadata": {},
   "outputs": [],
   "source": [
    "# export\n",
    "class AccessorEndowedClass:\n",
    "    \n",
    "    _accessors = set()"
   ]
  },
  {
   "cell_type": "markdown",
   "metadata": {},
   "source": [
    "For instance"
   ]
  },
  {
   "cell_type": "code",
   "execution_count": null,
   "metadata": {},
   "outputs": [],
   "source": [
    "class Car(AccessorEndowedClass):\n",
    "    \n",
    "    def __init__(self, weight):\n",
    "        \n",
    "        self.weight = weight\n",
    "\n",
    "@register_accessor('seat', Car)\n",
    "class SeatAccessor:\n",
    "    \n",
    "    def __init__(self, car: Car):\n",
    "        \n",
    "        self._confortable: bool = True\n",
    "    \n",
    "    @property\n",
    "    def confortable(self):\n",
    "        \n",
    "        return self._confortable"
   ]
  },
  {
   "cell_type": "markdown",
   "metadata": {},
   "source": [
    "Accessing the class itself"
   ]
  },
  {
   "cell_type": "code",
   "execution_count": null,
   "metadata": {},
   "outputs": [],
   "source": [
    "car = Car(1600)\n",
    "car.weight"
   ]
  },
  {
   "cell_type": "markdown",
   "metadata": {},
   "source": [
    "Accessing the *appended* accessor"
   ]
  },
  {
   "cell_type": "code",
   "execution_count": null,
   "metadata": {},
   "outputs": [],
   "source": [
    "car.seat.confortable"
   ]
  },
  {
   "cell_type": "markdown",
   "metadata": {},
   "source": [
    "# Assorted"
   ]
  },
  {
   "cell_type": "markdown",
   "metadata": {},
   "source": [
    "A function to turn an integer into a roman number. Taken from [here](https://www.w3resource.com/python-exercises/class-exercises/python-class-exercise-1.php)."
   ]
  },
  {
   "cell_type": "code",
   "execution_count": null,
   "metadata": {},
   "outputs": [],
   "source": [
    "# export\n",
    "\n",
    "# taken from https://www.w3resource.com/python-exercises/class-exercises/python-class-exercise-1.php\n",
    "def int_to_roman(num: int) -> str:\n",
    "    \"\"\"\n",
    "    Returns an integer number in roman format.\n",
    "    \"\"\"\n",
    "    \n",
    "    val = [\n",
    "        1000, 900, 500, 400,\n",
    "        100, 90, 50, 40,\n",
    "        10, 9, 5, 4,\n",
    "        1\n",
    "    ]\n",
    "    syb = [\n",
    "        \"M\", \"CM\", \"D\", \"CD\",\n",
    "        \"C\", \"XC\", \"L\", \"XL\",\n",
    "        \"X\", \"IX\", \"V\", \"IV\",\n",
    "        \"I\"\n",
    "    ]\n",
    "    roman_num = ''\n",
    "    i = 0\n",
    "    while num > 0:\n",
    "        for _ in range(num // val[i]):\n",
    "            roman_num += syb[i]\n",
    "            num -= val[i]\n",
    "        i += 1\n",
    "    return roman_num\n",
    "\n",
    "assert int_to_roman(12) == 'XII'\n",
    "assert int_to_roman(9) == 'IX'"
   ]
  },
  {
   "cell_type": "code",
   "execution_count": null,
   "metadata": {},
   "outputs": [],
   "source": [
    "print(int_to_roman(53))"
   ]
  },
  {
   "cell_type": "markdown",
   "metadata": {},
   "source": [
    "# Hash"
   ]
  },
  {
   "cell_type": "code",
   "execution_count": null,
   "metadata": {},
   "outputs": [],
   "source": [
    "# export\n",
    "\n",
    "def hash_matrix(matrix: Union[list, np.ndarray], decimal_sep_replacement: Optional[bool] = '_') -> str:\n",
    "    \n",
    "    res = ''.join(np.vectorize(str)(np.array(matrix).flatten()))\n",
    "    \n",
    "    if decimal_sep_replacement:\n",
    "        \n",
    "        res = res.replace(r'.', decimal_sep_replacement)\n",
    "    \n",
    "    return res\n",
    "\n",
    "assert hash_matrix([2, 3]) == '23'"
   ]
  },
  {
   "cell_type": "markdown",
   "metadata": {},
   "source": [
    "It can be used on lists,"
   ]
  },
  {
   "cell_type": "code",
   "execution_count": null,
   "metadata": {},
   "outputs": [],
   "source": [
    "hash_matrix([[1, 2], [3,4]])"
   ]
  },
  {
   "cell_type": "markdown",
   "metadata": {},
   "source": [
    "or arrays"
   ]
  },
  {
   "cell_type": "code",
   "execution_count": null,
   "metadata": {},
   "outputs": [],
   "source": [
    "hash_matrix(np.array([[1, 2], [3,4]]))"
   ]
  },
  {
   "cell_type": "markdown",
   "metadata": {},
   "source": [
    "Decimal separators are by default replaced."
   ]
  },
  {
   "cell_type": "code",
   "execution_count": null,
   "metadata": {},
   "outputs": [],
   "source": [
    "hash_matrix(np.array([[1.1, 2.2], [3.3,4.4]]))"
   ]
  },
  {
   "cell_type": "code",
   "execution_count": null,
   "metadata": {},
   "outputs": [],
   "source": [
    "# export\n",
    "\n",
    "def hash_number(number: Union[float, np.float64], decimal_sep_replacement: Optional[bool] = '_') -> str:\n",
    "    \n",
    "    res = str(number)\n",
    "    \n",
    "    if decimal_sep_replacement:\n",
    "        \n",
    "        res = res.replace(r'.', decimal_sep_replacement)\n",
    "    \n",
    "    return res\n",
    "\n",
    "assert hash_number(2.3) == '2_3'"
   ]
  },
  {
   "cell_type": "code",
   "execution_count": null,
   "metadata": {},
   "outputs": [],
   "source": [
    "hash_number(3.14)"
   ]
  },
  {
   "cell_type": "markdown",
   "metadata": {},
   "source": [
    "# Files"
   ]
  },
  {
   "cell_type": "markdown",
   "metadata": {},
   "source": [
    "## Settings"
   ]
  },
  {
   "cell_type": "code",
   "execution_count": null,
   "metadata": {},
   "outputs": [],
   "source": [
    "# export\n",
    "\n",
    "def extract_class_settings(category_name: str, class_name: str, settings: dict):\n",
    "    \n",
    "    try:\n",
    "        \n",
    "        category_settings = [cat for cat in settings['categories'] if cat['name'] == category_name][0]\n",
    "    \n",
    "    except IndexError:\n",
    "        \n",
    "        print(f'cannot find the requested category, {category_name}')\n",
    "        sys.exit(1)\n",
    "        \n",
    "    try:\n",
    "        \n",
    "        class_settings = [cls for cls in category_settings['classes'] if cls['name'] == class_name][0]\n",
    "        \n",
    "    except IndexError:\n",
    "        \n",
    "        print(f'cannot find the requested class, {class_name}')\n",
    "        sys.exit(1)\n",
    "    \n",
    "    return class_settings"
   ]
  },
  {
   "cell_type": "code",
   "execution_count": null,
   "metadata": {},
   "outputs": [],
   "source": [
    "settings_file = 'test_settings.yaml'"
   ]
  },
  {
   "cell_type": "code",
   "execution_count": null,
   "metadata": {},
   "outputs": [],
   "source": [
    "%%writefile {settings_file}\n",
    "\n",
    "output file: third_midterm.yaml\n",
    "pictures base directory: tc/midterm3\n",
    "path to gift-wrapper: '~/gift-wrapper/wrap.py'\n",
    "\n",
    "categories:\n",
    "\n",
    "  - name: Entropy of the input given the output\n",
    "\n",
    "    classes:\n",
    "\n",
    "      - name: EntropyOfInputGivenOutput\n",
    "\n",
    "        question base name: Entropy of input given the output\n",
    "        \n",
    "        init parameters:\n",
    "            \n",
    "            picture_file: DMCs/entropy_at_input_given_output.tex\n",
    "\n",
    "        statement: |\n",
    "          Consider...\n",
    "          \n",
    "\n",
    "        feedback: |\n",
    "          One way of tackling the problem is...\n",
    "          \n",
    "\n",
    "        number of instances: 2\n"
   ]
  },
  {
   "cell_type": "code",
   "execution_count": null,
   "metadata": {},
   "outputs": [],
   "source": [
    "with open(settings_file) as yaml_data:\n",
    "\n",
    "    settings = yaml.load(yaml_data, Loader=yaml.FullLoader)\n",
    "\n",
    "extract_class_settings('Entropy of the input given the output', 'EntropyOfInputGivenOutput', settings)"
   ]
  },
  {
   "cell_type": "markdown",
   "metadata": {},
   "source": [
    "---\n",
    "\n",
    "It writes a file suitable as input to `gift-wrapper`."
   ]
  },
  {
   "cell_type": "code",
   "execution_count": null,
   "metadata": {},
   "outputs": [],
   "source": [
    "# export\n",
    "\n",
    "def write_multiple_categories(\n",
    "        category_questions: Dict[str, List[dict]], pictures_base_directory: str, output_file: str = 'out.yaml') -> None:\n",
    "    \"\"\"\n",
    "    Writes a file suitable as input to `gift-wrapper`.\n",
    "\n",
    "    Parameters\n",
    "    ----------\n",
    "    category_questions : dict\n",
    "        Every key is the name of a category, and every value is a list of questions\n",
    "        (every question is itself a dictionary).\n",
    "    pictures_base_directory : str\n",
    "        The \"pictures base directory\" parameter that must be passed to `gift-wrapper`\n",
    "    output_file : str\n",
    "        Output file\n",
    "\n",
    "    \"\"\"\n",
    "\n",
    "    file = dict()\n",
    "    file['pictures base directory'] = pictures_base_directory\n",
    "    file['categories'] = []\n",
    "\n",
    "    for category_name, questions in category_questions.items():\n",
    "\n",
    "        file['categories'].append({'name': category_name, 'questions': questions})\n",
    "\n",
    "    yaml = ruamel.yaml.YAML()\n",
    "    yaml.indent(sequence=4, offset=2)\n",
    "\n",
    "    with open(output_file, 'w') as f:\n",
    "\n",
    "        yaml.dump(file, f)"
   ]
  },
  {
   "cell_type": "markdown",
   "metadata": {},
   "source": [
    "## File system"
   ]
  },
  {
   "cell_type": "markdown",
   "metadata": {},
   "source": [
    "A small utility function to derive a file path by appending something to the name (and *only* to the name)."
   ]
  },
  {
   "cell_type": "code",
   "execution_count": null,
   "metadata": {},
   "outputs": [],
   "source": [
    "# export\n",
    "\n",
    "def supplement_file_name(file: Union[str, pathlib.Path], sup: str) -> pathlib.Path:\n",
    "    \"\"\"\n",
    "    Adds a string between the file name in a path and the suffix.\n",
    "\n",
    "    Parameters\n",
    "    ----------\n",
    "    file : str\n",
    "        File name\n",
    "    sup : str\n",
    "        String to be added\n",
    "\n",
    "    Returns\n",
    "    -------\n",
    "    out: pathlib.Path\n",
    "        \"Supplemented\" file\n",
    "\n",
    "    \"\"\"\n",
    "\n",
    "    file = pathlib.Path(file)\n",
    "\n",
    "    # the `suffix` is incorporated into the file name\n",
    "    return file.with_name(file.stem + f'_{sup}' + file.suffix)\n",
    "\n",
    "assert supplement_file_name('/a/b/quixote.tex', 'foo') == pathlib.Path('/a/b/quixote_foo.tex')"
   ]
  },
  {
   "cell_type": "code",
   "execution_count": null,
   "metadata": {},
   "outputs": [],
   "source": [
    "supplement_file_name('/a/b/picture.tex', '1')"
   ]
  },
  {
   "cell_type": "markdown",
   "metadata": {},
   "source": [
    "# Question-related"
   ]
  },
  {
   "cell_type": "code",
   "execution_count": null,
   "metadata": {},
   "outputs": [],
   "source": [
    "# export\n",
    "\n",
    "def add_name(questions: List[dict], base_name: str) -> List[dict]:\n",
    "    \"\"\"\n",
    "    Adds a name to every question based on a pattern.\n",
    "\n",
    "    Parameters\n",
    "    ----------\n",
    "    questions : list\n",
    "        List of questions; every question is a dictionary.\n",
    "    question_base_name : str\n",
    "        All the questions will be given this name and a different (Roman) number.\n",
    "\n",
    "    Returns\n",
    "    -------\n",
    "    out: list\n",
    "        List with the same questions after adding the corresponding name to each one.\n",
    "\n",
    "    \"\"\"\n",
    "\n",
    "    res = []\n",
    "\n",
    "    for i_q, q in enumerate(questions):\n",
    "\n",
    "        res.append({**q, 'name': f'{base_name} {int_to_roman(i_q + 1)}'})\n",
    "\n",
    "    return res\n",
    "\n",
    "assert add_name([{'k1': 'aa', 'k2': 1}, {'k3': 'pi', 'foo': 'variance'}], 'Viterbi') == [\n",
    "    {'k1': 'aa', 'k2': 1, 'name': 'Viterbi I'}, {'k3': 'pi', 'foo': 'variance', 'name': 'Viterbi II'}]"
   ]
  },
  {
   "cell_type": "code",
   "execution_count": null,
   "metadata": {},
   "outputs": [],
   "source": [
    "add_name([{'k1': 'aa', 'k2': 1}, {'k3': 'pi', 'foo': 'variance'}], 'base')"
   ]
  },
  {
   "cell_type": "markdown",
   "metadata": {},
   "source": [
    "---"
   ]
  },
  {
   "cell_type": "code",
   "execution_count": null,
   "metadata": {},
   "outputs": [],
   "source": [
    "# export\n",
    "\n",
    "def markdown_from_question(question_settings: dict, question_class: gift_wrapper.question.HtmlQuestion) -> str:\n",
    "\n",
    "    # `None` values for width and height are assumed\n",
    "    question_settings['images_settings'] = {'width': None, 'height': None}\n",
    "\n",
    "    # the class is removed from the dictionary so that it doesn't get passed to the initializer\n",
    "    del question_settings['class']\n",
    "\n",
    "    # latex formulas are not checked\n",
    "    question_settings['check_latex_formulas'] = False\n",
    "\n",
    "    question_settings['history'] = {'already compiled': set()}\n",
    "    \n",
    "    question_settings['latex_auxiliary_file'] = '__latex__.tex'\n",
    "\n",
    "    question_settings['name'] = 'Test'\n",
    "\n",
    "    question = gift_wrapper.question.SvgToMarkdown(\n",
    "        gift_wrapper.question.TexToSvg(question_class(**question_settings))\n",
    "    )\n",
    "\n",
    "    markdown = question.to_jupyter()\n",
    "\n",
    "    for f in question.pre_processing_functions:\n",
    "\n",
    "        markdown = f(markdown)\n",
    "    \n",
    "    return markdown"
   ]
  },
  {
   "cell_type": "markdown",
   "metadata": {},
   "source": [
    "---"
   ]
  },
  {
   "cell_type": "code",
   "execution_count": null,
   "metadata": {},
   "outputs": [],
   "source": [
    "# export\n",
    "\n",
    "def generator_to_markdown(settings_file: str, category: str, cls: py2gift.question.QuestionGenerator):\n",
    "\n",
    "    with open(settings_file) as yaml_data:\n",
    "\n",
    "        settings = yaml.load(yaml_data, Loader=yaml.FullLoader)\n",
    "\n",
    "    question_settings = py2gift.core.build_question(cls, category, settings)\n",
    "    question_class = getattr(gift_wrapper.question, question_settings['class'])\n",
    "\n",
    "    return markdown_from_question(question_settings, question_class)"
   ]
  },
  {
   "cell_type": "markdown",
   "metadata": {},
   "source": [
    "---\n",
    "It turns a $\\TeX$ file into an svg, and returns a *markdown* string that allows to visualize it in a cell"
   ]
  },
  {
   "cell_type": "code",
   "execution_count": null,
   "metadata": {},
   "outputs": [],
   "source": [
    "# export\n",
    "\n",
    "def latex_to_markdown(input_file: Union[str, pathlib.Path], delete_input_file_afterwards: bool = False) -> str:\n",
    "    \n",
    "    output_file = gift_wrapper.image.pdf_to_svg(gift_wrapper.image.tex_to_pdf(input_file))\n",
    "    \n",
    "    suffixes = ['.aux', '.log', '.pdf']\n",
    "    \n",
    "    if delete_input_file_afterwards:\n",
    "        \n",
    "        suffixes.append('.tex')\n",
    "    \n",
    "    for suffix in suffixes:\n",
    "        \n",
    "        output_file.with_suffix(suffix).unlink()\n",
    "    \n",
    "    return r'![](' + output_file.as_posix() + ')'"
   ]
  }
 ],
 "metadata": {
  "kernelspec": {
   "display_name": "Python 3",
   "language": "python",
   "name": "python3"
  }
 },
 "nbformat": 4,
 "nbformat_minor": 4
}
