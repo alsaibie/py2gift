{
 "cells": [
  {
   "cell_type": "code",
   "execution_count": null,
   "metadata": {},
   "outputs": [],
   "source": [
    "# default_exp question"
   ]
  },
  {
   "cell_type": "markdown",
   "metadata": {},
   "source": [
    "# Questions' generators\n",
    "\n",
    "> Implementation of the different kinds of questions' generators."
   ]
  },
  {
   "cell_type": "code",
   "execution_count": null,
   "metadata": {},
   "outputs": [],
   "source": [
    "# export\n",
    "\n",
    "import abc\n",
    "import string\n",
    "from typing import List, Union, Optional, Tuple\n",
    "\n",
    "import numpy as np"
   ]
  },
  {
   "cell_type": "markdown",
   "metadata": {},
   "source": [
    "# Preprocessing"
   ]
  },
  {
   "cell_type": "code",
   "execution_count": null,
   "metadata": {},
   "outputs": [],
   "source": [
    "statement = '$a_2$ foo foo !venga'"
   ]
  },
  {
   "cell_type": "code",
   "execution_count": null,
   "metadata": {},
   "outputs": [],
   "source": [
    "# export\n",
    "\n",
    "def pre_process_string_template(text: str) -> str:\n",
    "    \n",
    "    text = text.replace('$', '$$')\n",
    "    text = text.replace('!', '$')\n",
    "    \n",
    "    return text"
   ]
  },
  {
   "cell_type": "code",
   "execution_count": null,
   "metadata": {},
   "outputs": [],
   "source": [
    "pre_process_string_template(statement)"
   ]
  },
  {
   "cell_type": "markdown",
   "metadata": {},
   "source": [
    "# Generators"
   ]
  },
  {
   "cell_type": "markdown",
   "metadata": {},
   "source": [
    "A class implementing a *generic* question."
   ]
  },
  {
   "cell_type": "code",
   "execution_count": null,
   "metadata": {},
   "outputs": [],
   "source": [
    "# export\n",
    "\n",
    "class QuestionGenerator(metaclass=abc.ABCMeta):\n",
    "\n",
    "    def __init__(\n",
    "            self, unprocessed_statement: string.Template, unprocessed_feedback: string.Template, time: Optional[int] = None,\n",
    "            prng: np.random.RandomState = np.random.RandomState(42)) -> None:\n",
    "\n",
    "        self.prng = prng\n",
    "        \n",
    "        # For the sake of \"retrocompatibility\", it is attempted to guess the format...\n",
    "        # if \"$$\" is not present in the passed statement (new format)...\n",
    "        if unprocessed_statement.template.find('$$') == -1:\n",
    "            \n",
    "            self.unprocessed_statement = string.Template(pre_process_string_template(unprocessed_statement.template))\n",
    "            self.unprocessed_feedback = string.Template(pre_process_string_template(unprocessed_feedback.template))\n",
    "        \n",
    "        # if there is some \"$$\" (old format)...\n",
    "        else:\n",
    "        \n",
    "            self.unprocessed_statement = unprocessed_statement\n",
    "            self.unprocessed_feedback = unprocessed_feedback\n",
    "\n",
    "        \n",
    "        self.time = time\n",
    "\n",
    "        self.statement = None\n",
    "\n",
    "        # try...\n",
    "        try:\n",
    "\n",
    "            # ...to get the final string with no substitutions\n",
    "            self.feedback = self.unprocessed_feedback.substitute()\n",
    "\n",
    "        # some substitutions are needed to get the final string\n",
    "        except KeyError:\n",
    "\n",
    "            self.feedback = None\n",
    "\n",
    "    @property\n",
    "    @abc.abstractmethod\n",
    "    def class_name(self) -> str:\n",
    "\n",
    "        pass\n",
    "\n",
    "    # this is the method to be defined by the user\n",
    "    @abc.abstractmethod\n",
    "    def setup(self, **kwargs):\n",
    "\n",
    "        pass\n",
    "\n",
    "    def partially_assemble_question(self, statement: str, feedback: str) -> dict:\n",
    "\n",
    "        question = dict()\n",
    "\n",
    "        question['class'] = self.class_name\n",
    "        question['statement'] = statement\n",
    "        question['feedback'] = feedback\n",
    "        \n",
    "        if self.time:\n",
    "            \n",
    "            question['time'] = str(self.time)\n",
    "\n",
    "        return question\n",
    "\n",
    "    def __call__(self, **kwargs):\n",
    "\n",
    "        # arguments are passed directly to `setup`\n",
    "        self.setup(**kwargs)\n",
    "\n",
    "        assert self.statement is not None\n",
    "        assert isinstance(self.statement, str), f'statement {self.statement} is not a string'\n",
    "\n",
    "        assert self.feedback is not None\n",
    "        assert isinstance(self.feedback, str), f'feedback {self.feedback} is not a string'"
   ]
  },
  {
   "cell_type": "markdown",
   "metadata": {},
   "source": [
    "# Numerical question"
   ]
  },
  {
   "cell_type": "code",
   "execution_count": null,
   "metadata": {},
   "outputs": [],
   "source": [
    "# export\n",
    "\n",
    "class NumericalQuestionGenerator(QuestionGenerator):\n",
    "\n",
    "    def __init__(\n",
    "            self, unprocessed_statement: string.Template, unprocessed_feedback: string.Template,  time: Optional[int] = None,\n",
    "            prng: np.random.RandomState = np.random.RandomState(42)) -> None:\n",
    "\n",
    "        super().__init__(unprocessed_statement, unprocessed_feedback, time, prng)\n",
    "\n",
    "        self.solution = None\n",
    "        self.error = None\n",
    "\n",
    "    @property\n",
    "    def class_name(self) -> str:\n",
    "\n",
    "        return 'Numerical'\n",
    "\n",
    "    def assemble_question(self, statement: str, feedback: str, solution: float, error: Optional[float] = None) -> dict:\n",
    "\n",
    "        question = self.partially_assemble_question(statement, feedback)\n",
    "        \n",
    "        # some yaml \"writers\" (e.g., ruamel.yaml) don't play well with numpy floats\n",
    "        if type(solution) == np.float64:\n",
    "            \n",
    "            solution = solution.item()\n",
    "\n",
    "        question['solution'] = dict()\n",
    "        question['solution']['value'] = solution\n",
    "\n",
    "        if error is None:\n",
    "\n",
    "            # 10% margin\n",
    "            error = solution * 0.1\n",
    "\n",
    "        question['solution']['error'] = error\n",
    "\n",
    "        return question\n",
    "\n",
    "    def __call__(self, **kwargs):\n",
    "\n",
    "        super().__call__(**kwargs)\n",
    "\n",
    "        assert self.solution is not None\n",
    "        assert self.error is not None\n",
    "\n",
    "        return self.assemble_question(\n",
    "            statement=self.statement, feedback=self.feedback, solution=self.solution, error=self.error)"
   ]
  },
  {
   "cell_type": "markdown",
   "metadata": {},
   "source": [
    "# Multiple choice"
   ]
  },
  {
   "cell_type": "code",
   "execution_count": null,
   "metadata": {},
   "outputs": [],
   "source": [
    "# export\n",
    "\n",
    "class MultipleChoiceQuestionGenerator(QuestionGenerator):\n",
    "\n",
    "    def __init__(\n",
    "            self, unprocessed_statement: Union[str, string.Template], unprocessed_feedback: Union[str, string.Template], time: Optional[int] = None,\n",
    "            prng: np.random.RandomState = np.random.RandomState(42)) -> None:\n",
    "\n",
    "        super().__init__(unprocessed_statement, unprocessed_feedback, time, prng)\n",
    "\n",
    "        self.right_answer = None\n",
    "        self.wrong_answers = None\n",
    "\n",
    "    @property\n",
    "    def class_name(self) -> str:\n",
    "\n",
    "        return 'MultipleChoice'\n",
    "\n",
    "    def assemble_question(\n",
    "            self, statement: str, feedback: str, perfect_answer: str,\n",
    "            wrong_answers: Union[List[str], List[Tuple[str, float]]]) -> dict:\n",
    "\n",
    "        question = self.partially_assemble_question(statement, feedback)\n",
    "\n",
    "        question['answers'] = dict()\n",
    "        \n",
    "        if self.right_answer:\n",
    "        \n",
    "            question['answers']['perfect'] = perfect_answer\n",
    "        \n",
    "        question['answers']['wrong'] = wrong_answers\n",
    "\n",
    "        return question\n",
    "\n",
    "    def __call__(self, **kwargs):\n",
    "\n",
    "        super().__call__(**kwargs)\n",
    "        \n",
    "        if self.right_answer:\n",
    "\n",
    "            assert isinstance(self.right_answer, str), f'right answer {self.right_answer} is not a string'\n",
    "\n",
    "        assert self.wrong_answers is not None\n",
    "        \n",
    "        # in order to check that every wrong answer is different\n",
    "        wrong_answers_texts = []\n",
    "        \n",
    "        for e in self.wrong_answers:\n",
    "            \n",
    "            assert isinstance(e, str) or isinstance(e, list)\n",
    "            \n",
    "            if isinstance(e, list):\n",
    "                \n",
    "                wrong_answers_texts.append(e[0])\n",
    "                \n",
    "                assert isinstance(e[0], str)\n",
    "                assert isinstance(e[1], int) or isinstance(e[1], float)\n",
    "            \n",
    "            else:\n",
    "                \n",
    "                wrong_answers_texts.append(e)\n",
    "                \n",
    "        # all the answers are different\n",
    "        assert np.unique(wrong_answers_texts).size == np.array(wrong_answers_texts).size, f'all the wrong answers are not different: {wrong_answers_texts}'\n",
    "                \n",
    "\n",
    "        return self.assemble_question(\n",
    "            statement=self.statement, feedback=self.feedback, perfect_answer=self.right_answer,\n",
    "            wrong_answers=self.wrong_answers)"
   ]
  },
  {
   "cell_type": "markdown",
   "metadata": {},
   "source": [
    "# Theoretical"
   ]
  },
  {
   "cell_type": "code",
   "execution_count": null,
   "metadata": {},
   "outputs": [],
   "source": [
    "# export\n",
    "\n",
    "class MultipleChoiceTheoreticalQuestionGenerator(MultipleChoiceQuestionGenerator):\n",
    "\n",
    "    def setup(self, right_answer: str, wrong_answers: List[str]):\n",
    "\n",
    "        self.statement = self.unprocessed_statement.safe_substitute()\n",
    "        self.feedback = self.unprocessed_feedback.safe_substitute()\n",
    "\n",
    "        self.right_answer = right_answer\n",
    "        self.wrong_answers = wrong_answers"
   ]
  }
 ],
 "metadata": {
  "kernelspec": {
   "display_name": "Python 3",
   "language": "python",
   "name": "python3"
  }
 },
 "nbformat": 4,
 "nbformat_minor": 4
}
