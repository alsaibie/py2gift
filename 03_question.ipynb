{
 "cells": [
  {
   "cell_type": "code",
   "execution_count": null,
   "metadata": {},
   "outputs": [],
   "source": [
    "# default_exp question"
   ]
  },
  {
   "cell_type": "markdown",
   "metadata": {},
   "source": [
    "# Questions' generators\n",
    "\n",
    "> Implementation of the different kinds of questions' generators."
   ]
  },
  {
   "cell_type": "code",
   "execution_count": null,
   "metadata": {},
   "outputs": [],
   "source": [
    "# export\n",
    "\n",
    "import abc\n",
    "import string\n",
    "import re\n",
    "from typing import List, Union, Optional, Tuple\n",
    "\n",
    "import numpy as np"
   ]
  },
  {
   "cell_type": "markdown",
   "metadata": {},
   "source": [
    "# Preprocessing"
   ]
  },
  {
   "cell_type": "code",
   "execution_count": null,
   "metadata": {},
   "outputs": [],
   "source": [
    "statement = '$a_2$ foo foo !venga'"
   ]
  },
  {
   "cell_type": "code",
   "execution_count": null,
   "metadata": {},
   "outputs": [],
   "source": [
    "# export\n",
    "\n",
    "def pre_process_string_template(text: str) -> str:\n",
    "    \n",
    "    text = text.replace('$', '$$')\n",
    "    text = text.replace('!', '$')\n",
    "    \n",
    "    return text"
   ]
  },
  {
   "cell_type": "code",
   "execution_count": null,
   "metadata": {},
   "outputs": [],
   "source": [
    "pre_process_string_template(statement)"
   ]
  },
  {
   "cell_type": "markdown",
   "metadata": {},
   "source": [
    "# Text with formulas and wildcards"
   ]
  },
  {
   "cell_type": "markdown",
   "metadata": {},
   "source": [
    "A class to contain text that might include wildcards (\"!\") and $\\LaTeX$ formulas. It is a wrap-around Python's `string.Template`."
   ]
  },
  {
   "cell_type": "code",
   "execution_count": null,
   "metadata": {},
   "outputs": [],
   "source": [
    "class TemplatedLatexText:\n",
    "    \n",
    "    wildcard_symbol = '!'\n",
    "    \n",
    "    def __init__(self, text: str) -> None:\n",
    "        \n",
    "        self.template = string.Template(self.pre_process(text))\n",
    "        \n",
    "        try:\n",
    "            \n",
    "            self.template.substitute()\n",
    "            \n",
    "        except:\n",
    "        \n",
    "            self._final = None\n",
    "        \n",
    "        else:\n",
    "            \n",
    "            self._final = self.template.template\n",
    "    \n",
    "    def pre_process(self, text: str) -> str:\n",
    "\n",
    "        return text.replace('$', '$$').replace(self.wildcard_symbol, '$')\n",
    "    \n",
    "    def fill(self, **kwargs) -> None:\n",
    "        \n",
    "        self._final = self.template.substitute(**kwargs)\n",
    "    \n",
    "    @property\n",
    "    def text(self) -> str:\n",
    "        \n",
    "        assert self._final is not None, f'text has unfilled slots'\n",
    "        \n",
    "        return self._final\n",
    "    \n",
    "    def __repr__(self) -> str:\n",
    "        \n",
    "        if self._final:\n",
    "            \n",
    "            return self._final\n",
    "        \n",
    "        else:\n",
    "            \n",
    "            return f'un-filled template:\\n{self.template.template}'"
   ]
  },
  {
   "cell_type": "code",
   "execution_count": null,
   "metadata": {},
   "outputs": [],
   "source": [
    "question = r'''Compute the probability of error when !element_transmitted is transmitted and the power of thermal noise is $\\frac{N_0}{2}=!noise_variance$.\n",
    "'''"
   ]
  },
  {
   "cell_type": "code",
   "execution_count": null,
   "metadata": {},
   "outputs": [],
   "source": [
    "t = TemplatedLatexText(question)"
   ]
  },
  {
   "cell_type": "markdown",
   "metadata": {},
   "source": [
    "Just evaluating the object shows the *un-filled* text"
   ]
  },
  {
   "cell_type": "code",
   "execution_count": null,
   "metadata": {},
   "outputs": [],
   "source": [
    "t"
   ]
  },
  {
   "cell_type": "markdown",
   "metadata": {},
   "source": [
    "Calling the `text` property without properly filling the wildcards raises an error"
   ]
  },
  {
   "cell_type": "code",
   "execution_count": null,
   "metadata": {},
   "outputs": [],
   "source": [
    "# t.text"
   ]
  },
  {
   "cell_type": "markdown",
   "metadata": {},
   "source": [
    "After `fill`ing the slots,"
   ]
  },
  {
   "cell_type": "code",
   "execution_count": null,
   "metadata": {},
   "outputs": [],
   "source": [
    "t.fill(element_transmitted='A', noise_variance='2')"
   ]
  },
  {
   "cell_type": "markdown",
   "metadata": {},
   "source": [
    "calling `text` is fine"
   ]
  },
  {
   "cell_type": "code",
   "execution_count": null,
   "metadata": {},
   "outputs": [],
   "source": [
    "t.text"
   ]
  },
  {
   "cell_type": "markdown",
   "metadata": {},
   "source": [
    "In such a case, evaluating the object returns the same thing (the final text)"
   ]
  },
  {
   "cell_type": "code",
   "execution_count": null,
   "metadata": {},
   "outputs": [],
   "source": [
    "t"
   ]
  },
  {
   "cell_type": "markdown",
   "metadata": {},
   "source": [
    "If the *wrapped* text does not contain any wildcard, `!`, then there is no need to call `fill` to get the final text."
   ]
  },
  {
   "cell_type": "code",
   "execution_count": null,
   "metadata": {},
   "outputs": [],
   "source": [
    "text = TemplatedLatexText('foo foo $A$')"
   ]
  },
  {
   "cell_type": "code",
   "execution_count": null,
   "metadata": {},
   "outputs": [],
   "source": [
    "text"
   ]
  },
  {
   "cell_type": "markdown",
   "metadata": {},
   "source": [
    "# Generators"
   ]
  },
  {
   "cell_type": "markdown",
   "metadata": {},
   "source": [
    "A class implementing a *generic* question."
   ]
  },
  {
   "cell_type": "code",
   "execution_count": null,
   "metadata": {},
   "outputs": [],
   "source": [
    "# export\n",
    "\n",
    "class QuestionGenerator(metaclass=abc.ABCMeta):\n",
    "\n",
    "    def __init__(\n",
    "            self, unprocessed_statement: string.Template, unprocessed_feedback: string.Template, time: Optional[int] = None,\n",
    "            prng: np.random.RandomState = np.random.RandomState(42)) -> None:\n",
    "\n",
    "        self.prng = prng\n",
    "        \n",
    "        # For the sake of \"retrocompatibility\", it is attempted to guess the format...\n",
    "        # if \"$$\" is not present in the passed statement (new format)...\n",
    "        if unprocessed_statement.template.find('$$') == -1:\n",
    "            \n",
    "            self.unprocessed_statement = string.Template(pre_process_string_template(unprocessed_statement.template))\n",
    "            self.unprocessed_feedback = string.Template(pre_process_string_template(unprocessed_feedback.template))\n",
    "        \n",
    "        # if there is some \"$$\" (old format)...\n",
    "        else:\n",
    "        \n",
    "            self.unprocessed_statement = unprocessed_statement\n",
    "            self.unprocessed_feedback = unprocessed_feedback\n",
    "\n",
    "        \n",
    "        self.time = time\n",
    "\n",
    "        self.statement = None\n",
    "\n",
    "        # try...\n",
    "        try:\n",
    "\n",
    "            # ...to get the final string with no substitutions\n",
    "            self.feedback = self.unprocessed_feedback.substitute()\n",
    "\n",
    "        # some substitutions are needed to get the final string\n",
    "        except KeyError:\n",
    "\n",
    "            self.feedback = None\n",
    "\n",
    "    @property\n",
    "    @abc.abstractmethod\n",
    "    def class_name(self) -> str:\n",
    "\n",
    "        pass\n",
    "\n",
    "    # this is the method to be defined by the user\n",
    "    @abc.abstractmethod\n",
    "    def setup(self, **kwargs):\n",
    "\n",
    "        pass\n",
    "\n",
    "    def partially_assemble_question(self, statement: str, feedback: str) -> dict:\n",
    "\n",
    "        question = dict()\n",
    "\n",
    "        question['class'] = self.class_name\n",
    "        question['statement'] = statement\n",
    "        question['feedback'] = feedback\n",
    "        \n",
    "        if self.time:\n",
    "            \n",
    "            question['time'] = str(self.time)\n",
    "\n",
    "        return question\n",
    "\n",
    "    def __call__(self, **kwargs):\n",
    "\n",
    "        # arguments are passed directly to `setup`\n",
    "        self.setup(**kwargs)\n",
    "\n",
    "        assert self.statement is not None\n",
    "        assert isinstance(self.statement, str), f'statement {self.statement} is not a string'\n",
    "\n",
    "        assert self.feedback is not None\n",
    "        assert isinstance(self.feedback, str), f'feedback {self.feedback} is not a string'"
   ]
  },
  {
   "cell_type": "markdown",
   "metadata": {},
   "source": [
    "# Numerical question"
   ]
  },
  {
   "cell_type": "code",
   "execution_count": null,
   "metadata": {},
   "outputs": [],
   "source": [
    "# export\n",
    "\n",
    "class NumericalQuestionGenerator(QuestionGenerator):\n",
    "\n",
    "    def __init__(\n",
    "            self, unprocessed_statement: string.Template, unprocessed_feedback: string.Template,  time: Optional[int] = None,\n",
    "            prng: np.random.RandomState = np.random.RandomState(42)) -> None:\n",
    "\n",
    "        super().__init__(unprocessed_statement, unprocessed_feedback, time, prng)\n",
    "\n",
    "        self.solution = None\n",
    "        self.error = None\n",
    "\n",
    "    @property\n",
    "    def class_name(self) -> str:\n",
    "\n",
    "        return 'Numerical'\n",
    "\n",
    "    def assemble_question(self, statement: str, feedback: str, solution: float, error: Optional[float] = None) -> dict:\n",
    "\n",
    "        question = self.partially_assemble_question(statement, feedback)\n",
    "        \n",
    "        # some yaml \"writers\" (e.g., ruamel.yaml) don't play well with numpy floats\n",
    "        if type(solution) == np.float64:\n",
    "            \n",
    "            solution = solution.item()\n",
    "\n",
    "        question['solution'] = dict()\n",
    "        question['solution']['value'] = solution\n",
    "\n",
    "        if error is None:\n",
    "\n",
    "            # 10% margin\n",
    "            error = solution * 0.1\n",
    "\n",
    "        question['solution']['error'] = error\n",
    "\n",
    "        return question\n",
    "\n",
    "    def __call__(self, **kwargs):\n",
    "\n",
    "        super().__call__(**kwargs)\n",
    "\n",
    "        assert self.solution is not None\n",
    "        assert self.error is not None\n",
    "\n",
    "        return self.assemble_question(\n",
    "            statement=self.statement, feedback=self.feedback, solution=self.solution, error=self.error)"
   ]
  },
  {
   "cell_type": "markdown",
   "metadata": {},
   "source": [
    "# Multiple choice"
   ]
  },
  {
   "cell_type": "code",
   "execution_count": null,
   "metadata": {},
   "outputs": [],
   "source": [
    "# export\n",
    "\n",
    "class MultipleChoiceQuestionGenerator(QuestionGenerator):\n",
    "\n",
    "    def __init__(\n",
    "            self, unprocessed_statement: Union[str, string.Template], unprocessed_feedback: Union[str, string.Template], time: Optional[int] = None,\n",
    "            prng: np.random.RandomState = np.random.RandomState(42)) -> None:\n",
    "\n",
    "        super().__init__(unprocessed_statement, unprocessed_feedback, time, prng)\n",
    "\n",
    "        self.right_answer = None\n",
    "        self.wrong_answers = None\n",
    "\n",
    "    @property\n",
    "    def class_name(self) -> str:\n",
    "\n",
    "        return 'MultipleChoice'\n",
    "\n",
    "    def assemble_question(\n",
    "            self, statement: str, feedback: str, perfect_answer: str,\n",
    "            wrong_answers: Union[List[str], List[Tuple[str, float]]]) -> dict:\n",
    "\n",
    "        question = self.partially_assemble_question(statement, feedback)\n",
    "\n",
    "        question['answers'] = dict()\n",
    "        \n",
    "        if self.right_answer:\n",
    "        \n",
    "            question['answers']['perfect'] = perfect_answer\n",
    "        \n",
    "        question['answers']['wrong'] = wrong_answers\n",
    "\n",
    "        return question\n",
    "\n",
    "    def __call__(self, **kwargs):\n",
    "\n",
    "        super().__call__(**kwargs)\n",
    "        \n",
    "        if self.right_answer:\n",
    "\n",
    "            assert isinstance(self.right_answer, str), f'right answer {self.right_answer} is not a string'\n",
    "\n",
    "        assert self.wrong_answers is not None\n",
    "        \n",
    "        # in order to check that every wrong answer is different\n",
    "        wrong_answers_texts = []\n",
    "        \n",
    "        for e in self.wrong_answers:\n",
    "            \n",
    "            assert isinstance(e, str) or isinstance(e, list)\n",
    "            \n",
    "            if isinstance(e, list):\n",
    "                \n",
    "                wrong_answers_texts.append(e[0])\n",
    "                \n",
    "                assert isinstance(e[0], str)\n",
    "                assert isinstance(e[1], int) or isinstance(e[1], float)\n",
    "            \n",
    "            else:\n",
    "                \n",
    "                wrong_answers_texts.append(e)\n",
    "                \n",
    "        # all the answers are different\n",
    "        assert np.unique(wrong_answers_texts).size == np.array(wrong_answers_texts).size, f'all the wrong answers are not different: {wrong_answers_texts}'\n",
    "                \n",
    "\n",
    "        return self.assemble_question(\n",
    "            statement=self.statement, feedback=self.feedback, perfect_answer=self.right_answer,\n",
    "            wrong_answers=self.wrong_answers)"
   ]
  },
  {
   "cell_type": "markdown",
   "metadata": {},
   "source": [
    "# Theoretical"
   ]
  },
  {
   "cell_type": "code",
   "execution_count": null,
   "metadata": {},
   "outputs": [],
   "source": [
    "# export\n",
    "\n",
    "class MultipleChoiceTheoreticalQuestionGenerator(MultipleChoiceQuestionGenerator):\n",
    "\n",
    "    def setup(self, right_answer: str, wrong_answers: List[str]):\n",
    "\n",
    "        self.statement = self.unprocessed_statement.safe_substitute()\n",
    "        self.feedback = self.unprocessed_feedback.safe_substitute()\n",
    "\n",
    "        self.right_answer = right_answer\n",
    "        self.wrong_answers = wrong_answers"
   ]
  }
 ],
 "metadata": {
  "kernelspec": {
   "display_name": "Python 3",
   "language": "python",
   "name": "python3"
  }
 },
 "nbformat": 4,
 "nbformat_minor": 4
}
