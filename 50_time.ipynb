{
 "cells": [
  {
   "cell_type": "code",
   "execution_count": null,
   "metadata": {},
   "outputs": [],
   "source": [
    "# default_exp time"
   ]
  },
  {
   "cell_type": "code",
   "execution_count": null,
   "metadata": {},
   "outputs": [],
   "source": [
    "# export\n",
    "from typing import Union\n",
    "\n",
    "import pandas as pd"
   ]
  },
  {
   "cell_type": "markdown",
   "metadata": {},
   "source": [
    "# Time\n",
    "\n",
    "> Functions to keep track of time required by every question."
   ]
  },
  {
   "cell_type": "markdown",
   "metadata": {},
   "source": [
    "Parameters that can be tweaked"
   ]
  },
  {
   "cell_type": "markdown",
   "metadata": {},
   "source": [
    "# Time Keeper"
   ]
  },
  {
   "cell_type": "markdown",
   "metadata": {},
   "source": [
    "An object to keep track of time:"
   ]
  },
  {
   "cell_type": "code",
   "execution_count": null,
   "metadata": {},
   "outputs": [],
   "source": [
    "# export\n",
    "\n",
    "class TimeKeeper:\n",
    "    \n",
    "    def __init__(self) -> None:\n",
    "        \n",
    "        self.df = pd.DataFrame(columns=['time'])\n",
    "        self.df.index.name = 'category'\n",
    "    \n",
    "    def process_category_name(self, category_name: Union[str, list]) -> str:\n",
    "        \n",
    "        if type(category_name)==str:\n",
    "            \n",
    "            return category_name\n",
    "        \n",
    "        return category_name[-1].split('/')[-1]\n",
    "    \n",
    "    def record(self, minutes: int, category_name: Union[str, list]) -> None:\n",
    "        \n",
    "        self.df.loc[self.process_category_name(category_name)] = minutes\n",
    "    \n",
    "    def __str__(self) -> str:\n",
    "        \n",
    "        return f'Accumulated time: {self.df[\"time\"].sum()} minutes'\n",
    "    \n",
    "    def plot(self):\n",
    "        \n",
    "        ax = self.df.plot.pie(y='time', legend=True)\n",
    "        ax.legend(bbox_to_anchor=(1.2, 0.5))\n",
    "        ax.set_ylabel(None)\n",
    "        \n",
    "        return ax"
   ]
  },
  {
   "cell_type": "markdown",
   "metadata": {},
   "source": [
    "After initialization,"
   ]
  },
  {
   "cell_type": "code",
   "execution_count": null,
   "metadata": {},
   "outputs": [],
   "source": [
    "time_keeper = TimeKeeper()"
   ]
  },
  {
   "cell_type": "markdown",
   "metadata": {},
   "source": [
    "it can be used to keep track of time by passing it the minutes an exercise should take and the category it belongs to"
   ]
  },
  {
   "cell_type": "code",
   "execution_count": null,
   "metadata": {},
   "outputs": [],
   "source": [
    "time_keeper.record(10, 'Cat 1')\n",
    "time_keeper.record(15, 'Cat 2')\n",
    "time_keeper.record(5, ['Cat 3', 'Cat 3/subcat'])\n",
    "time_keeper.record(2, ['Cat 3', 'Cat 3/subcat/subsubcat'])"
   ]
  },
  {
   "cell_type": "code",
   "execution_count": null,
   "metadata": {},
   "outputs": [],
   "source": [
    "time_keeper.df"
   ]
  },
  {
   "cell_type": "code",
   "execution_count": null,
   "metadata": {},
   "outputs": [],
   "source": [
    "print(time_keeper)"
   ]
  },
  {
   "cell_type": "code",
   "execution_count": null,
   "metadata": {},
   "outputs": [],
   "source": [
    "time_keeper.plot()"
   ]
  }
 ],
 "metadata": {
  "kernelspec": {
   "display_name": "Python 3",
   "language": "python",
   "name": "python3"
  }
 },
 "nbformat": 4,
 "nbformat_minor": 4
}
